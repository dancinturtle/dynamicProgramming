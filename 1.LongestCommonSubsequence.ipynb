{
 "cells": [
  {
   "cell_type": "markdown",
   "metadata": {},
   "source": [
    "## Longest Common Subsequence Problem\n",
    "\n",
    "The LCS problem is finding the longest subsequence present in given two sequences in the same order.\n",
    "\n",
    "In other words, find the longest sequence which can be obtained from the first original sequence by deleting some items and from the second original sequence by deleting other items.\n",
    "\n",
    "This problem differs from the problem of finding the longest common substring. Unlike substrings, subsequences are not required to occupy consecutive positions within the original string.\n",
    "\n",
    "For example, consider two sequences, X and Y:\n",
    "    \n",
    "    X: ABCBDAB\n",
    "    Y: BDCABA\n",
    "    \n",
    "    LCS are BDAB, BCAB, and BCBA\n",
    "    The length of the LCS is 4\n",
    "    \n",
    "**This problem has optimal substructure.**\n",
    "The problem can be broken down into smaller, simple subproblems, which can yet be broken down into simpler subproblems until the problem becomes trivial.\n",
    "\n",
    "1. Consider two sequences, X and Y, of lengths m and n that both end in the same element.\n",
    "    To find their LCS, shorten each sequence by removing the last element, find the LCS of the shortened sequences, and append the removed element.\n",
    "    ```\n",
    "    LCS(X[1...m], Y[1...n]) = LCS(X[1...m-1], Y[1...n-1]) + X[m] if X[m] = Y[n]\n",
    "    ```\n",
    "    \n",
    "2. Suppose the two sequences do not end in the same element.\n",
    "    Then the LCS of X and Y is the longer of the two sequences returned by:\n",
    "    ```\n",
    "    LCS(X[1...m-1], Y[1...n]) and LCS(X[1...m], Y[1...n-1])\n",
    "    ```\n",
    "    "
   ]
  },
  {
   "cell_type": "code",
   "execution_count": 27,
   "metadata": {},
   "outputs": [],
   "source": [
    "\"\"\"\n",
    "Without dynamic programming, also returns one of the possible subsequences\n",
    "\"\"\"\n",
    "\n",
    "def LCS_s(x, y):\n",
    "    lenx = len(x)\n",
    "    leny = len(y)\n",
    "    if lenx == 0 or leny == 0:\n",
    "        return (\"\", 0)\n",
    "    if x[-1] == y[-1]:\n",
    "        s, t = LCS(x[0:lenx-1], y[0:leny-1])\n",
    "        s += x[-1]\n",
    "        t += 1\n",
    "        return (s, t)\n",
    "    else:\n",
    "        l = LCS(x[0:lenx-1], y)\n",
    "        r = LCS(x, y[0:leny-1])\n",
    "        return l if l[1] > r[1] else r\n",
    "        "
   ]
  },
  {
   "cell_type": "code",
   "execution_count": 145,
   "metadata": {},
   "outputs": [],
   "source": [
    "\"\"\" \n",
    "Without dynamic programming, does not return possible subsequence\n",
    "\"\"\"\n",
    "def LCS(x, y):\n",
    "    lenx = len(x)\n",
    "    leny = len(y)\n",
    "    if lenx == 0 or leny == 0:\n",
    "        return 0\n",
    "    if x[-1] == y[-1]:\n",
    "        t = LCS(x[0:lenx-1], y[0:leny-1])\n",
    "        t += 1\n",
    "        return t\n",
    "    else:\n",
    "        l = LCS(x[0:lenx-1], y)\n",
    "        r = LCS(x, y[0:leny-1])\n",
    "        return l if l > r else r\n",
    "        "
   ]
  },
  {
   "cell_type": "code",
   "execution_count": 127,
   "metadata": {},
   "outputs": [],
   "source": [
    "X = \"ABCBDAB\"\n",
    "Y = \"BDCABA\"\n",
    "A = \"ABABDABCCCABCACABAB\"\n",
    "B = \"BABACBAABBDDAADCCAAB\"\n",
    "C = \"XMJYAUZ\"\n",
    "D = \"MZJAWXU\"\n",
    "E = \"ABABDABCCCABCACA\"\n",
    "F = \"BABACBAABBDDAADCC\"\n",
    "G = \"ABCBA\"\n",
    "H = \"BCACA\""
   ]
  },
  {
   "cell_type": "code",
   "execution_count": 146,
   "metadata": {},
   "outputs": [
    {
     "data": {
      "text/plain": [
       "4"
      ]
     },
     "execution_count": 146,
     "metadata": {},
     "output_type": "execute_result"
    }
   ],
   "source": [
    "LCS(X, Y)"
   ]
  },
  {
   "cell_type": "code",
   "execution_count": 147,
   "metadata": {},
   "outputs": [
    {
     "name": "stdout",
     "output_type": "stream",
     "text": [
      "CPU times: user 3.67 s, sys: 43.6 ms, total: 3.71 s\n",
      "Wall time: 4.17 s\n"
     ]
    },
    {
     "data": {
      "text/plain": [
       "12"
      ]
     },
     "execution_count": 147,
     "metadata": {},
     "output_type": "execute_result"
    }
   ],
   "source": [
    "%%time\n",
    "LCS(A, B)"
   ]
  },
  {
   "cell_type": "markdown",
   "metadata": {},
   "source": [
    "### With dynamic programming\n",
    "\n",
    "**Bottom up approach**\n",
    "\n",
    "We start with smaller problems. We start with just looking at the first letters of the sequences. If they match, we know we have a common subsequence. If not, we can add a letter to one of the sequences and see if they match. Keep going until we find a match.\n",
    "\n",
    "    CBCCB and BBCBB, X* indicates we're looking at that letter\n",
    "    \n",
    "    C and B*   no match\n",
    "    C and BB*  no match\n",
    "    C and BBC* one match possible, move on\n",
    "    \n",
    "    CB* and BBCBB, we look at just the B in CB\n",
    "    B and B*, that's a match\n",
    "    B and BB*, we can't reuse that\n",
    "    B and BBC*, we see that C matched before, so we add that to our current match for 2\n",
    "\n",
    "So we make our 2D array, think of it as a grid for each letter. Pad it with zeros at the top and left.\n",
    "\n",
    "As we compare each letter, if a match is found, we have to be sure it wasn't already taken for a previous match. We do this by looking left and looking above. If left and above are equal, we found a new match and can increment. If not, we do not have a new match and we take the larger of the two.\n",
    "\n",
    "        0 C B C C B\n",
    "      0 0 0 0 0 0 0\n",
    "      B 0 0 1 1 1 1\n",
    "      B 0 0 1 1 1 2\n",
    "      C 0 1 1 2 2 2\n",
    "      B 0 1 1 2 2 3\n",
    "      B 0 1 2 2 2 3"
   ]
  },
  {
   "cell_type": "code",
   "execution_count": 124,
   "metadata": {},
   "outputs": [],
   "source": [
    "\"\"\"\n",
    "with dynamic programming\n",
    "bottom up approach\n",
    "starting with small subproblem and build up\n",
    "\"\"\"\n",
    "def LCS_dy(x, y):\n",
    "    lookup = [[0 for _ in range(len(x)+1)] for _ in range(len(y)+1)]\n",
    "    # letters x[0],y[0] correspond to lookup[1][1]\n",
    "    # letter x[a], y[b] correspond to lookup[b+1][a+1]\n",
    "    # letters x[2], y[3] correspond to lookup[4][3]\n",
    "    # to look one row up and one row to the left: lookup[3][2], lookup[b][a]\n",
    "    # to look to the row above: lookup[3][3], lookup[b][a+1]\n",
    "    # to look to the column to the left: lookup[4][2], lookup[b+1][a]\n",
    "    for b in range(len(y)):\n",
    "        for a in range(len(x)):\n",
    "            above = lookup[b][a+1]\n",
    "            left = lookup[b+1][a]\n",
    "            upleft = lookup[b][a]\n",
    "            # use upleft to determine your value\n",
    "            # this ensures the letter you're looking at isn't already being used as the last letter\n",
    "            if x[a] == y[b]:\n",
    "                lookup[b+1][a+1] = upleft + 1\n",
    "            else:\n",
    "                lookup[b+1][a+1] = max(above, left)\n",
    "    \"\"\" to see one of the possible sequences \"\"\"\n",
    "#     sequence = \"\"\n",
    "#     h = len(y)\n",
    "#     w = len(x)\n",
    "#     max_number = lookup[h][w]\n",
    "#     while max_number > 0:\n",
    "#         while lookup[h-1][w-1] == max_number:\n",
    "#             h -= 1\n",
    "#             w -= 1\n",
    "#         while lookup[h-1][w] == max_number:\n",
    "#             h -= 1\n",
    "#         while lookup[h][w-1] == max_number:\n",
    "#             w -= 1\n",
    "#         sequence = y[h-1] + sequence\n",
    "#         h -= 1\n",
    "#         w -= 1\n",
    "#         max_number -= 1\n",
    "\n",
    "#     for arr in lookup:\n",
    "#         print(f'{arr}\\n')\n",
    "    return lookup[len(y)][len(x)]\n",
    "                    "
   ]
  },
  {
   "cell_type": "code",
   "execution_count": 125,
   "metadata": {},
   "outputs": [
    {
     "name": "stdout",
     "output_type": "stream",
     "text": [
      "CPU times: user 40 µs, sys: 0 ns, total: 40 µs\n",
      "Wall time: 42.9 µs\n"
     ]
    },
    {
     "data": {
      "text/plain": [
       "4"
      ]
     },
     "execution_count": 125,
     "metadata": {},
     "output_type": "execute_result"
    }
   ],
   "source": [
    "%%time\n",
    "LCS_dy(X, Y)"
   ]
  },
  {
   "cell_type": "code",
   "execution_count": 126,
   "metadata": {},
   "outputs": [
    {
     "name": "stdout",
     "output_type": "stream",
     "text": [
      "CPU times: user 230 µs, sys: 0 ns, total: 230 µs\n",
      "Wall time: 233 µs\n"
     ]
    },
    {
     "data": {
      "text/plain": [
       "12"
      ]
     },
     "execution_count": 126,
     "metadata": {},
     "output_type": "execute_result"
    }
   ],
   "source": [
    "%%time\n",
    "LCS_dy(A,B)"
   ]
  },
  {
   "cell_type": "markdown",
   "metadata": {},
   "source": [
    "### With dynamic programming\n",
    "\n",
    "**Top down approach**\n",
    "\n",
    "We start with the bigger problem and cut it down into smaller problems.\n",
    "\n",
    "We can use recursion, but we stop recursion from going down repetitive branches by keeping the results from those branches readily available in a lookup table."
   ]
  },
  {
   "cell_type": "code",
   "execution_count": 149,
   "metadata": {},
   "outputs": [],
   "source": [
    "\"\"\" top down approach\"\"\"\n",
    "\n",
    "def LCS_dy2(x, y, x_pos=None, y_pos=None, lookup=None):\n",
    "    if lookup == None:\n",
    "        lookup = {}\n",
    "    if x_pos == None:\n",
    "        x_pos = len(x) - 1\n",
    "        y_pos = len(y) - 1\n",
    "    if x_pos < 0 or y_pos < 0:\n",
    "        return 0\n",
    "    key = f'{x_pos}-{y_pos}'\n",
    "    if lookup.get(key) == None:\n",
    "        if x[x_pos] == y[y_pos]:\n",
    "            length = LCS_dy2(x, y, x_pos-1, y_pos-1, lookup)\n",
    "            lookup[key] = length + 1\n",
    "            return length + 1\n",
    "        else:\n",
    "            length = max(LCS_dy2(x, y, x_pos-1, y_pos, lookup), LCS_dy2(x, y, x_pos, y_pos-1, lookup))\n",
    "            lookup[key] = length\n",
    "            return length\n",
    "    else:\n",
    "        return lookup[key]\n",
    "     \n",
    "    "
   ]
  },
  {
   "cell_type": "code",
   "execution_count": 150,
   "metadata": {},
   "outputs": [
    {
     "name": "stdout",
     "output_type": "stream",
     "text": [
      "CPU times: user 404 µs, sys: 16 µs, total: 420 µs\n",
      "Wall time: 425 µs\n"
     ]
    },
    {
     "data": {
      "text/plain": [
       "12"
      ]
     },
     "execution_count": 150,
     "metadata": {},
     "output_type": "execute_result"
    }
   ],
   "source": [
    "%%time\n",
    "LCS_dy2(A, B)"
   ]
  },
  {
   "cell_type": "code",
   "execution_count": 151,
   "metadata": {},
   "outputs": [
    {
     "data": {
      "text/plain": [
       "0"
      ]
     },
     "execution_count": 151,
     "metadata": {},
     "output_type": "execute_result"
    }
   ],
   "source": [
    "LCS_dy2(\"abc\", \"def\")"
   ]
  }
 ],
 "metadata": {
  "kernelspec": {
   "display_name": "Python 3",
   "language": "python",
   "name": "python3"
  },
  "language_info": {
   "codemirror_mode": {
    "name": "ipython",
    "version": 3
   },
   "file_extension": ".py",
   "mimetype": "text/x-python",
   "name": "python",
   "nbconvert_exporter": "python",
   "pygments_lexer": "ipython3",
   "version": "3.8.5"
  }
 },
 "nbformat": 4,
 "nbformat_minor": 4
}
