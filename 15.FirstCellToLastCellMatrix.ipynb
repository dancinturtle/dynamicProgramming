{
 "cells": [
  {
   "cell_type": "markdown",
   "metadata": {},
   "source": [
    "### Minimum cost to reach the last cell of a matrix from its first cell\n",
    "\n",
    "Given an M x N matrix where each cell has a cost associated with it, find the minimum cost to reach the last cell (M-1, N-1) of the matrix from its first cell (0, 0). We can only move one unit right or one unit down from any cell.\n",
    "\n",
    "Example:\n",
    "```\n",
    "4     7     8     6     4\n",
    "|\n",
    "6  -  7  -  3     9     2\n",
    "            |\n",
    "3     8     1  -  2     4\n",
    "                  |\n",
    "7     1     7     3  -  7\n",
    "                        |\n",
    "2     9     8     9     3\n",
    "\n",
    "Minimum cost path is 36.\n",
    "```"
   ]
  },
  {
   "cell_type": "code",
   "execution_count": 7,
   "metadata": {},
   "outputs": [],
   "source": [
    "def minCostPath(matrix, cost=0, row=0, col=0):\n",
    "    h = len(matrix)\n",
    "    w = len(matrix[0])\n",
    "    down = None\n",
    "    right = None\n",
    "    if row < h-1:\n",
    "        down = minCostPath(matrix, cost, row+1, col)\n",
    "    if col < w-1:\n",
    "        right = minCostPath(matrix, cost, row, col+1)\n",
    "    if down and right:\n",
    "        return min(down, right) + matrix[row][col]\n",
    "    if right:\n",
    "        return right + matrix[row][col]\n",
    "    if down:\n",
    "        return down + matrix[row][col]\n",
    "    return matrix[row][col]"
   ]
  },
  {
   "cell_type": "code",
   "execution_count": 8,
   "metadata": {},
   "outputs": [],
   "source": [
    "matrix = [\n",
    "    [4,7,8,6,4],\n",
    "    [6,7,3,9,2],\n",
    "    [3,8,1,2,4],\n",
    "    [7,1,7,3,7],\n",
    "    [2,9,8,9,3]\n",
    "]"
   ]
  },
  {
   "cell_type": "code",
   "execution_count": 10,
   "metadata": {
    "scrolled": false
   },
   "outputs": [
    {
     "name": "stdout",
     "output_type": "stream",
     "text": [
      "CPU times: user 145 µs, sys: 0 ns, total: 145 µs\n",
      "Wall time: 148 µs\n"
     ]
    },
    {
     "data": {
      "text/plain": [
       "36"
      ]
     },
     "execution_count": 10,
     "metadata": {},
     "output_type": "execute_result"
    }
   ],
   "source": [
    "%%time\n",
    "minCostPath(matrix)"
   ]
  },
  {
   "cell_type": "markdown",
   "metadata": {},
   "source": [
    "#### To solve this dynamically\n",
    "\n",
    "We can build a lookup table that stores the minimum cost for each cell. We fill in the first row first, since the only way to access those cells is to go straight right. We can also fill in the first column because the only way to access those is to go straight down. From cell (1, 1) we can determine whether it's cheaper to get there from the left or from the top and proceed likewise from there."
   ]
  },
  {
   "cell_type": "code",
   "execution_count": 28,
   "metadata": {},
   "outputs": [],
   "source": [
    "def minCostDy(matrix):\n",
    "    lookup = [[0] * len(matrix[0]) for _ in range(len(matrix))]\n",
    "    lookup[0][0] = matrix[0][0]\n",
    "    for i in range(1, len(matrix[0])):\n",
    "        lookup[0][i] = lookup[0][i-1] + matrix[0][i]\n",
    "    for j in range(1, len(matrix)):\n",
    "        lookup[j][0] = lookup[j-1][0] + matrix[j][0]\n",
    "    for row in range(1, len(matrix)):\n",
    "        for col in range(1, len(matrix[0])):\n",
    "            lookup[row][col] = min(lookup[row-1][col], lookup[row][col-1]) + matrix[row][col]\n",
    "    return lookup[-1][-1]\n",
    "    "
   ]
  },
  {
   "cell_type": "code",
   "execution_count": 30,
   "metadata": {},
   "outputs": [
    {
     "name": "stdout",
     "output_type": "stream",
     "text": [
      "CPU times: user 25 µs, sys: 1 µs, total: 26 µs\n",
      "Wall time: 27.9 µs\n"
     ]
    },
    {
     "data": {
      "text/plain": [
       "36"
      ]
     },
     "execution_count": 30,
     "metadata": {},
     "output_type": "execute_result"
    }
   ],
   "source": [
    "%%time\n",
    "minCostDy(matrix)"
   ]
  },
  {
   "cell_type": "markdown",
   "metadata": {},
   "source": [
    "### Extend the solution to consider diagonals as well\n",
    "\n",
    "We just have to consider the top left cell when determining a minimum previous step."
   ]
  },
  {
   "cell_type": "code",
   "execution_count": 35,
   "metadata": {},
   "outputs": [],
   "source": [
    "def minCostDiagonal(matrix):\n",
    "    lookup = [[0] * len(matrix[0]) for _ in range(len(matrix))]\n",
    "    lookup[0][0] = matrix[0][0]\n",
    "    for i in range(1, len(matrix[0])):\n",
    "        lookup[0][i] = lookup[0][i-1] + matrix[0][i]\n",
    "    for j in range(1, len(matrix)):\n",
    "        lookup[j][0] = lookup[j-1][0] + matrix[j][0]\n",
    "    for row in range(1, len(matrix)):\n",
    "        for col in range(1, len(matrix[0])):\n",
    "            lookup[row][col] = min(lookup[row-1][col], lookup[row][col-1], lookup[row-1][col-1]) + matrix[row][col]\n",
    "    return lookup[-1][-1]"
   ]
  },
  {
   "cell_type": "code",
   "execution_count": 36,
   "metadata": {},
   "outputs": [
    {
     "name": "stdout",
     "output_type": "stream",
     "text": [
      "[4, 11, 19, 25, 29] \n",
      "\n",
      "[10, 11, 14, 23, 25] \n",
      "\n",
      "[13, 18, 12, 14, 18] \n",
      "\n",
      "[20, 14, 19, 15, 21] \n",
      "\n",
      "[22, 23, 22, 24, 18] \n",
      "\n"
     ]
    },
    {
     "data": {
      "text/plain": [
       "18"
      ]
     },
     "execution_count": 36,
     "metadata": {},
     "output_type": "execute_result"
    }
   ],
   "source": [
    "minCostDiagonal(matrix)"
   ]
  }
 ],
 "metadata": {
  "kernelspec": {
   "display_name": "Python 3",
   "language": "python",
   "name": "python3"
  },
  "language_info": {
   "codemirror_mode": {
    "name": "ipython",
    "version": 3
   },
   "file_extension": ".py",
   "mimetype": "text/x-python",
   "name": "python",
   "nbconvert_exporter": "python",
   "pygments_lexer": "ipython3",
   "version": "3.8.5"
  }
 },
 "nbformat": 4,
 "nbformat_minor": 4
}
