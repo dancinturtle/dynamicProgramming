{
 "cells": [
  {
   "cell_type": "markdown",
   "metadata": {},
   "source": [
    "### Count the number of paths in a matrix with a given cost to reach the destination cell\n",
    "\n",
    "Given an M x N matrix where each cell has a non-negative cost associated with it, count the number of paths to reach the lst cell (M-1, N-1) of the matrix from its first cell (0, 0) such that the path has a given cost. We can only move one unit right or one unit down from any cell, ie from cell (i, j) we can move to (i, j+1) or (i+1, j).\n",
    "\n",
    "Example:\n",
    "\n",
    "```\n",
    "Consider the following 4x4 matrix where cost is 25. There are two paths with a cost of 25.\n",
    "\n",
    "4     7     1     6\n",
    "\n",
    "5     7     3     9\n",
    "\n",
    "3     2     1     2\n",
    "\n",
    "7     1     6     3\n",
    "\n",
    "Either 4, 7, 1, 3, 1, 6, 3\n",
    "or 4, 5, 7, 3, 1, 2, 3\n",
    "```"
   ]
  },
  {
   "cell_type": "code",
   "execution_count": 1,
   "metadata": {},
   "outputs": [],
   "source": [
    "def pathCost(matrix, cost, row=0, col=0, currCost=0):\n",
    "    currCost += matrix[row][col]\n",
    "    w = len(matrix[0])\n",
    "    h = len(matrix)\n",
    "    if currCost > cost:\n",
    "        return 0\n",
    "    if row == h-1 and col == w-1:\n",
    "        return 1 if currCost == cost else 0\n",
    "    right = 0\n",
    "    down = 0\n",
    "    if col < w-1:\n",
    "        right = pathCost(matrix, cost, row, col+1, currCost)\n",
    "    if row < h-1:\n",
    "        down = pathCost(matrix, cost, row+1, col, currCost)\n",
    "    return right + down"
   ]
  },
  {
   "cell_type": "code",
   "execution_count": 2,
   "metadata": {},
   "outputs": [],
   "source": [
    "matrix = [\n",
    "    [4,7,1,6],\n",
    "    [5,7,3,9],\n",
    "    [3,2,1,2],\n",
    "    [7,1,6,3]\n",
    "]\n",
    "\n",
    "cost = 25\n",
    "\n",
    "matrix2 = [\n",
    "    [1,2,3,4,5,6,7],\n",
    "    [1,2,3,4,5,6,7],\n",
    "    [1,2,3,4,5,6,7],\n",
    "    [1,2,3,4,5,6,7],\n",
    "    [1,2,3,4,5,6,7],\n",
    "    [1,2,3,4,5,6,7],\n",
    "    [1,2,3,4,5,6,7]\n",
    "]\n",
    "cost2 = 55"
   ]
  },
  {
   "cell_type": "code",
   "execution_count": 3,
   "metadata": {},
   "outputs": [
    {
     "name": "stdout",
     "output_type": "stream",
     "text": [
      "CPU times: user 33 µs, sys: 0 ns, total: 33 µs\n",
      "Wall time: 36 µs\n"
     ]
    },
    {
     "data": {
      "text/plain": [
       "2"
      ]
     },
     "execution_count": 3,
     "metadata": {},
     "output_type": "execute_result"
    }
   ],
   "source": [
    "%%time\n",
    "pathCost(matrix, cost)"
   ]
  },
  {
   "cell_type": "code",
   "execution_count": 4,
   "metadata": {},
   "outputs": [
    {
     "name": "stdout",
     "output_type": "stream",
     "text": [
      "CPU times: user 101 µs, sys: 0 ns, total: 101 µs\n",
      "Wall time: 106 µs\n"
     ]
    },
    {
     "data": {
      "text/plain": [
       "3"
      ]
     },
     "execution_count": 4,
     "metadata": {},
     "output_type": "execute_result"
    }
   ],
   "source": [
    "%%time\n",
    "\"\"\"\n",
    "Paths that add up to 29:\n",
    "4,7,1,3,9,2,3\n",
    "4,5,3,7,1,6,3\n",
    "4,5,7,3,1,6,3\n",
    "\"\"\"\n",
    "pathCost(matrix, 29)\n"
   ]
  },
  {
   "cell_type": "code",
   "execution_count": 5,
   "metadata": {},
   "outputs": [
    {
     "name": "stdout",
     "output_type": "stream",
     "text": [
      "CPU times: user 2.21 ms, sys: 27 µs, total: 2.23 ms\n",
      "Wall time: 3.12 ms\n"
     ]
    },
    {
     "data": {
      "text/plain": [
       "51"
      ]
     },
     "execution_count": 5,
     "metadata": {},
     "output_type": "execute_result"
    }
   ],
   "source": [
    "%%time\n",
    "pathCost(matrix2, cost2)"
   ]
  },
  {
   "cell_type": "markdown",
   "metadata": {},
   "source": [
    "### With a lookup table\n",
    "\n",
    "With a lookup table, we can store the costs it takes to get to each cell.\n",
    "\n",
    "Going straight across the top row and straight down the left column are easy to calculate.\n",
    "\n",
    "From there we fill in the rest of the table - we can either get to the cell by coming from the top or from the left. Store all possibilities until you reach anything greater than the cost - at that point we can indicate it's not worth it so we don't waste our time any farther.\n",
    "\n",
    "Add up how many paths we get of the desired cost in the final cell."
   ]
  },
  {
   "cell_type": "code",
   "execution_count": 6,
   "metadata": {},
   "outputs": [],
   "source": [
    "def pathCostLookup(matrix, cost):\n",
    "    w = len(matrix[0])\n",
    "    h = len(matrix)\n",
    "    lookup = [[0] * w for _ in range(h)]\n",
    "    lookup[0][0] = [matrix[0][0]]\n",
    "    for i in range(1, w):\n",
    "        lookup[0][i] = [lookup[0][i-1][0] + matrix[0][i]]\n",
    "    for j in range(1, h):\n",
    "        lookup[j][0] = [lookup[j-1][0][0] + matrix[j][0]]\n",
    "    for row in range(1, h):\n",
    "        for col in range(1, w):\n",
    "            lookup[row][col] = []\n",
    "            paths = lookup[row-1][col] + lookup[row][col-1]\n",
    "            for path in paths:\n",
    "                cell_cost = path + matrix[row][col]\n",
    "                if (row < h-1 or col < w-1) and cell_cost < cost:\n",
    "                    lookup[row][col].append(cell_cost)\n",
    "                elif row == h-1 and col == w-1 and cell_cost == cost:\n",
    "                    lookup[row][col].append(cell_cost)\n",
    "    return len(lookup[-1][-1])"
   ]
  },
  {
   "cell_type": "code",
   "execution_count": 7,
   "metadata": {},
   "outputs": [
    {
     "name": "stdout",
     "output_type": "stream",
     "text": [
      "CPU times: user 53 µs, sys: 0 ns, total: 53 µs\n",
      "Wall time: 57.2 µs\n"
     ]
    },
    {
     "data": {
      "text/plain": [
       "2"
      ]
     },
     "execution_count": 7,
     "metadata": {},
     "output_type": "execute_result"
    }
   ],
   "source": [
    "%%time\n",
    "pathCostLookup(matrix, cost)"
   ]
  },
  {
   "cell_type": "code",
   "execution_count": 8,
   "metadata": {},
   "outputs": [
    {
     "name": "stdout",
     "output_type": "stream",
     "text": [
      "CPU times: user 1.85 ms, sys: 16 µs, total: 1.87 ms\n",
      "Wall time: 1.88 ms\n"
     ]
    },
    {
     "data": {
      "text/plain": [
       "51"
      ]
     },
     "execution_count": 8,
     "metadata": {},
     "output_type": "execute_result"
    }
   ],
   "source": [
    "%%time\n",
    "pathCostLookup(matrix2, cost2)"
   ]
  },
  {
   "cell_type": "markdown",
   "metadata": {},
   "source": [
    "### Lookup dictionary, working backwards\n",
    "\n",
    "We can also work backwards from the destination cell, subtracting the cell's cost from the given cost, and only keeping those paths that finish at 0 at the starting cell.\n",
    "\n",
    "For each cell, keep the number of paths that can get us to that cell in the appropriate cost.\n",
    "\n",
    "The key for the dictionary needs to track the position and the cost that we've counted down to at that point."
   ]
  },
  {
   "cell_type": "code",
   "execution_count": 9,
   "metadata": {},
   "outputs": [],
   "source": [
    "def pathCostDictionary(matrix, cost, row=None, col=None, lookup=None):\n",
    "    if row == None:\n",
    "        row = len(matrix) - 1\n",
    "        col = len(matrix[0]) - 1\n",
    "        lookup = {}\n",
    "    if cost < 0:\n",
    "        return 0\n",
    "    if row == 0 and col == 0:\n",
    "        return 1 if matrix[0][0] - cost == 0 else 0\n",
    "    key = f'{row}-{col}-{cost}'\n",
    "    if key not in lookup:\n",
    "        if row == 0:\n",
    "            lookup[key] = pathCostDictionary(matrix, cost-matrix[0][col], 0, col-1, lookup)\n",
    "        elif col == 0:\n",
    "            lookup[key] = pathCostDictionary(matrix, cost-matrix[row][0], row-1, 0, lookup)\n",
    "        else:\n",
    "            lookup[key] = pathCostDictionary(matrix, cost-matrix[row][col], row, col-1, lookup) + \\\n",
    "                           pathCostDictionary(matrix, cost-matrix[row][col], row-1, col, lookup)\n",
    "    return lookup[key]\n",
    "    "
   ]
  },
  {
   "cell_type": "code",
   "execution_count": 10,
   "metadata": {},
   "outputs": [
    {
     "name": "stdout",
     "output_type": "stream",
     "text": [
      "CPU times: user 654 µs, sys: 20 µs, total: 674 µs\n",
      "Wall time: 704 µs\n"
     ]
    },
    {
     "data": {
      "text/plain": [
       "51"
      ]
     },
     "execution_count": 10,
     "metadata": {},
     "output_type": "execute_result"
    }
   ],
   "source": [
    "%%time\n",
    "pathCostDictionary(matrix2, cost2)"
   ]
  }
 ],
 "metadata": {
  "kernelspec": {
   "display_name": "Python 3",
   "language": "python",
   "name": "python3"
  },
  "language_info": {
   "codemirror_mode": {
    "name": "ipython",
    "version": 3
   },
   "file_extension": ".py",
   "mimetype": "text/x-python",
   "name": "python",
   "nbconvert_exporter": "python",
   "pygments_lexer": "ipython3",
   "version": "3.8.5"
  }
 },
 "nbformat": 4,
 "nbformat_minor": 4
}
