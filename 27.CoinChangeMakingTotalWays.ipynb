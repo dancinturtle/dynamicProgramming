{
 "cells": [
  {
   "cell_type": "markdown",
   "metadata": {},
   "source": [
    "### Coin change problem\n",
    "\n",
    "Given an unlimited supply of coins of given denominations, find the total number of distinct ways to get the desired change.\n",
    "\n",
    "Example:\n",
    "```\n",
    "Input: \n",
    "S = {1, 3, 5, 7}\n",
    "N = 8\n",
    "\n",
    "The total number of ways is 6\n",
    "{1, 7}\n",
    "{3, 5}\n",
    "{1, 1, 3, 3}\n",
    "{1, 1, 1, 5}\n",
    "{1, 1, 1, 1, 1, 3}\n",
    "{1, 1, 1, 1, 1, 1, 1, 1}\n",
    "\n",
    "\n",
    "Input:\n",
    "S = {1, 2, 3}\n",
    "N = 4\n",
    "\n",
    "The total number of ways is 4\n",
    "{1, 3}\n",
    "{2, 2}\n",
    "{1, 1, 2}\n",
    "{1, 1, 1, 1}\n",
    "```"
   ]
  },
  {
   "cell_type": "code",
   "execution_count": 59,
   "metadata": {},
   "outputs": [],
   "source": [
    "def coinRec(denom, change, currChange=None, coins=None, currCoins=None):\n",
    "    if coins == None:\n",
    "        coins = []\n",
    "    if currChange == None:\n",
    "        currChange = change\n",
    "    for d in denom:\n",
    "        if currCoins == None:\n",
    "            currCoinsD = []\n",
    "        else:\n",
    "            currCoinsD = currCoins[:]\n",
    "        if currChange - d >= 0:\n",
    "            currCoinsD.append(d)\n",
    "            if currChange - d == 0:\n",
    "                currCoinsD.sort()\n",
    "                if currCoinsD not in coins:\n",
    "                    coins.append(currCoinsD)\n",
    "            else:\n",
    "                coinRec(denom, change, currChange-d, coins, currCoinsD)\n",
    "    return len(coins)"
   ]
  },
  {
   "cell_type": "code",
   "execution_count": 67,
   "metadata": {},
   "outputs": [],
   "source": [
    "denoms = [1, 3, 5, 7]\n",
    "denoms2 = [1, 2, 3]"
   ]
  },
  {
   "cell_type": "code",
   "execution_count": 62,
   "metadata": {
    "scrolled": true
   },
   "outputs": [
    {
     "name": "stdout",
     "output_type": "stream",
     "text": [
      "CPU times: user 65 µs, sys: 0 ns, total: 65 µs\n",
      "Wall time: 68.9 µs\n"
     ]
    },
    {
     "data": {
      "text/plain": [
       "6"
      ]
     },
     "execution_count": 62,
     "metadata": {},
     "output_type": "execute_result"
    }
   ],
   "source": [
    "%%time\n",
    "coinRec(denoms, 8)"
   ]
  },
  {
   "cell_type": "code",
   "execution_count": 69,
   "metadata": {},
   "outputs": [
    {
     "name": "stdout",
     "output_type": "stream",
     "text": [
      "CPU times: user 19 µs, sys: 0 ns, total: 19 µs\n",
      "Wall time: 22.2 µs\n"
     ]
    },
    {
     "data": {
      "text/plain": [
       "4"
      ]
     },
     "execution_count": 69,
     "metadata": {},
     "output_type": "execute_result"
    }
   ],
   "source": [
    "%%time\n",
    "coinRec(denoms2, 4)"
   ]
  },
  {
   "cell_type": "markdown",
   "metadata": {},
   "source": [
    "### Dynamic approach\n",
    "\n",
    "Here, we'll keep track of all the ways to add up to the numbers from 0 to N as we build up our available denominations.\n",
    "\n",
    "Let's say we want to get to 8 with the set `{1, 3, 5, 7}`\n",
    "\n",
    "We know that there's always one way to get to 0, so we'll start with that.\n",
    "\n",
    "```\n",
    "sums:    [0, 1, 2, 3, 4, 5, 6, 7, 8]    \n",
    "ways:    [1, 0, 0, 0, 0, 0, 0, 0, 0]\n",
    "```\n",
    "Now consider if we only have a denomination of 1. We'll start with that and see if we can make the given sum with only 1's. We can know this by taking our given sum, subtracting 1, and seeing if we could make that sum. If we could, then we know we can make our current sum by adding 1, so we'll carry over however many ways there were to make the previous sum and use it for our current sum.\n",
    "\n",
    "```\n",
    "With only 1 as our denomination, ways[i] = ways[i-1] + ways[i]\n",
    "sums:    [0, 1, 2, 3, 4, 5, 6, 7, 8]\n",
    "ways:    [1, 1, 1, 1, 1, 1, 1, 1, 1]\n",
    "```\n",
    "Next we'll consider if we could use the 3 to make these sums. If the sum is 3 or more, we can consider it. Look at how many ways there are to make the current sum - 3. For each of those, we could add 3 to it, and add that to our current ways of making the current sum.\n",
    "```\n",
    "With only 3 as our denomination, ways[i] = ways[i-3] + ways[i]\n",
    "sums:    [0, 1, 2, 3, 4, 5, 6, 7, 8]\n",
    "ways:    [1, 1, 1, 2, 2, 2, 3, 3, 3]\n",
    "```\n",
    "Continue with denomination of 5\n",
    "```\n",
    "With only 5 as our denomination, ways[i] = ways[i-5] + ways[i]\n",
    "sums:    [0, 1, 2, 3, 4, 5, 6, 7, 8]\n",
    "ways:    [1, 1, 1, 2, 2, 3, 4, 4, 5]\n",
    "```\n",
    "Continue with denomination of 7\n",
    "``` \n",
    "With only 7 as our denomination, ways[i] = ways[i-7] + ways[i]\n",
    "sums:    [0, 1, 2, 3, 4, 5, 6, 7, 8]\n",
    "ways:    [1, 1, 1, 2, 2, 3, 4, 5, 6]\n",
    "```\n",
    "Return the last value in ways."
   ]
  },
  {
   "cell_type": "code",
   "execution_count": 72,
   "metadata": {},
   "outputs": [],
   "source": [
    "def coinsDy(denom, change):\n",
    "    result = [0] * (change + 1)\n",
    "    result[0] = 1\n",
    "    for d in denom:\n",
    "        for c in range(d, change + 1):\n",
    "            result[c] = result[c-d] + result[c]\n",
    "    return result[-1]"
   ]
  },
  {
   "cell_type": "code",
   "execution_count": 73,
   "metadata": {},
   "outputs": [
    {
     "name": "stdout",
     "output_type": "stream",
     "text": [
      "CPU times: user 10 µs, sys: 1 µs, total: 11 µs\n",
      "Wall time: 13.1 µs\n"
     ]
    },
    {
     "data": {
      "text/plain": [
       "6"
      ]
     },
     "execution_count": 73,
     "metadata": {},
     "output_type": "execute_result"
    }
   ],
   "source": [
    "%%time\n",
    "coinsDy(denoms, 8)"
   ]
  },
  {
   "cell_type": "code",
   "execution_count": 74,
   "metadata": {},
   "outputs": [
    {
     "name": "stdout",
     "output_type": "stream",
     "text": [
      "CPU times: user 8 µs, sys: 0 ns, total: 8 µs\n",
      "Wall time: 11 µs\n"
     ]
    },
    {
     "data": {
      "text/plain": [
       "4"
      ]
     },
     "execution_count": 74,
     "metadata": {},
     "output_type": "execute_result"
    }
   ],
   "source": [
    "%%time\n",
    "coinsDy(denoms2, 4)"
   ]
  }
 ],
 "metadata": {
  "kernelspec": {
   "display_name": "Python 3",
   "language": "python",
   "name": "python3"
  },
  "language_info": {
   "codemirror_mode": {
    "name": "ipython",
    "version": 3
   },
   "file_extension": ".py",
   "mimetype": "text/x-python",
   "name": "python",
   "nbconvert_exporter": "python",
   "pygments_lexer": "ipython3",
   "version": "3.8.5"
  }
 },
 "nbformat": 4,
 "nbformat_minor": 4
}
