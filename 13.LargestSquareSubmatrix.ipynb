{
 "cells": [
  {
   "cell_type": "markdown",
   "metadata": {},
   "source": [
    "### Largest square submatrix of 1's in a binary matrix\n",
    "\n",
    "Given an M x N binary matrix, find the size of the largest square submatrix of 1's present.\n",
    "\n",
    "Example:\n",
    "\n",
    "                 0     0     1     0     1     1\n",
    "                 0     1     1     1     0     0\n",
    "                 0     0     1     1     1     1\n",
    "                 1     1     0     1     1     1\n",
    "                 1     1     1     1     1     1\n",
    "                 1     1     0     1     1     1\n",
    "                 1     0     1     1     1     1\n",
    "                 1     1     1     0     1     1\n",
    "                 \n",
    "                 The size of the largest square submatrix of s is 3.\n",
    "                 \n",
    "We could start another matrix to track how big the square matrix would be if we included each number\n",
    "\n",
    "The first row and would just be a copy of the existing row and column, since it's only a 1x1 matrix and can therefore only have one element.\n",
    "\n",
    "Then we fill in the matrix by looking at surroundings of the 1's - upleft, up, and left. Take the minimum of those positions and +1.\n",
    "\n",
    "                 0     0     1     0      1     1\n",
    "                 0     1     1     1      0     0\n",
    "                 0     0     1     2      1     1\n",
    "                 1     1     0     1      2     2\n",
    "                 1     2     0     1      2     3\n",
    "                 1     2     0     1      2     3\n",
    "                 1     0     1     1      2     3\n",
    "                 1     1     1     0      1     2"
   ]
  },
  {
   "cell_type": "code",
   "execution_count": 15,
   "metadata": {},
   "outputs": [],
   "source": [
    "def largestSubmatrixSize(matrix):\n",
    "    lookup = [[0] * len(matrix[0]) for _ in range(len(matrix))]\n",
    "    for pos, val in enumerate(matrix[0]):\n",
    "        lookup[0][pos] = val\n",
    "    for pos, val in enumerate(matrix):\n",
    "        lookup[pos][0] = val[0]\n",
    "    maxSize = 0\n",
    "    for row in range(1, len(matrix)):\n",
    "        for col in range(1, len(matrix[0])):\n",
    "            if matrix[row][col] == 0:\n",
    "                lookup[row][col] = 0\n",
    "            else:\n",
    "                lookup[row][col] = min(lookup[row][col-1], lookup[row-1][col], lookup[row-1][col-1]) + 1\n",
    "                if lookup[row][col] > maxSize:\n",
    "                    maxSize = lookup[row][col]\n",
    "    return maxSize"
   ]
  },
  {
   "cell_type": "code",
   "execution_count": 16,
   "metadata": {},
   "outputs": [],
   "source": [
    "matrix = [\n",
    "    [0, 0, 1, 0, 1, 1],\n",
    "    [0, 1, 1, 1, 0, 0],\n",
    "    [0, 0, 1, 1, 1, 1],\n",
    "    [1, 1, 0, 1, 1, 1],\n",
    "    [0, 1, 1, 1, 1, 1],\n",
    "    [0, 1, 0, 1, 1, 1],\n",
    "    [1, 0, 1, 1, 1, 1],\n",
    "    [0, 1, 1, 0, 1, 1]\n",
    "]"
   ]
  },
  {
   "cell_type": "code",
   "execution_count": 17,
   "metadata": {},
   "outputs": [
    {
     "name": "stdout",
     "output_type": "stream",
     "text": [
      "CPU times: user 42 µs, sys: 1e+03 ns, total: 43 µs\n",
      "Wall time: 45.1 µs\n"
     ]
    },
    {
     "data": {
      "text/plain": [
       "3"
      ]
     },
     "execution_count": 17,
     "metadata": {},
     "output_type": "execute_result"
    }
   ],
   "source": [
    "%%time\n",
    "largestSubmatrixSize(matrix)"
   ]
  },
  {
   "cell_type": "markdown",
   "metadata": {},
   "source": [
    "### What about rectangles?\n",
    "\n",
    "Same idea as above, but we have to track how the rectangles are growing in different directions - in height, in width, or both.\n",
    "\n",
    "Returns the area of the largest rectangle"
   ]
  },
  {
   "cell_type": "code",
   "execution_count": 27,
   "metadata": {},
   "outputs": [],
   "source": [
    "def maxRect(matrix):\n",
    "    lookup = [[0] * len(matrix[0]) for _ in range(len(matrix))]\n",
    "    maxArea = 0\n",
    "    for row in range(len(matrix)):\n",
    "        for col in range(len(matrix[0])):\n",
    "            value = matrix[row][col]\n",
    "            if value == 0:\n",
    "                lookup[row][col] = {'width': 0, 'height': 0}\n",
    "            elif row == 0 and col == 0:\n",
    "                lookup[row][col] = {'width': 1, 'height': 1}\n",
    "                maxArea = 1\n",
    "            elif row == 0:\n",
    "                lookup[row][col] = {'width': lookup[row][col-1]['width'] + 1, 'height': 1}\n",
    "                maxArea = max(maxArea, lookup[row][col]['width'])\n",
    "            elif col == 0:\n",
    "                lookup[row][col] = {'width': 1, 'height': lookup[row-1][col]['height'] + 1}\n",
    "                maxArea = max(maxArea, lookup[row][col]['height'])\n",
    "            else:\n",
    "                lookup[row][col] = {\n",
    "                    'width': lookup[row][col-1]['width'] + 1, \n",
    "                    'height': lookup[row-1][col]['height'] + 1\n",
    "                }\n",
    "                maxArea = max(maxArea, lookup[row][col]['width'], lookup[row][col]['height'])\n",
    "                # check that top, left, and diagonal are all not 0\n",
    "                if matrix[row-1][col-1] != 0 and matrix[row-1][col] != 0 and matrix[row][col-1] != 0:\n",
    "\n",
    "                    existing_blocks = False\n",
    "                    aboveBlocks = None\n",
    "                    leftBlocks = None\n",
    "                    # check if we're already tracking blocks above\n",
    "                    if lookup[row-1][col].get('blocks'):\n",
    "                        existing_blocks = True\n",
    "                        aboveBlocks = lookup[row-1][col]['blocks']\n",
    "                    # check if we're already tracking blocks to the left\n",
    "                    if lookup[row][col-1].get('blocks'):\n",
    "                        existing_blocks = True\n",
    "                        leftBlocks = lookup[row][col-1]['blocks']\n",
    "                    if existing_blocks == False:\n",
    "                        lookup[row][col]['blocks'] = {\n",
    "                            'left':\n",
    "                                {'width': 2, 'height': 2, 'area': 4},\n",
    "                             'top':\n",
    "                                {'width': 2, 'height': 2, 'area': 4},\n",
    "                             'maxarea': 4\n",
    "                        }\n",
    "                        maxArea = max(maxArea, lookup[row][col]['blocks']['maxarea'])\n",
    "                    elif aboveBlocks == None:\n",
    "                        # if there are no above blocks, we can just exapand our left's left and establish a new top\n",
    "                        lookup[row][col]['blocks'] = {\n",
    "                            'left': {\n",
    "                                'width': leftBlocks['left']['width'] + 1,\n",
    "                                'height': leftBlocks['left']['height'],\n",
    "                                'area': (leftBlocks['left']['width'] + 1) * leftBlocks['left']['height']\n",
    "                            },\n",
    "                            'top': {'width': 2, 'height': 2, 'area': 4},\n",
    "                            'maxarea': max((leftBlocks['left']['width'] + 1) * leftBlocks['left']['height'], 4)\n",
    "                        }\n",
    "                        maxArea = max(maxArea, lookup[row][col]['blocks']['maxarea'])\n",
    "                    elif leftBlocks == None:\n",
    "                        # if there are no left blocks, we can just expand our top's top and establish a new left bloc\n",
    "                        lookup[row][col]['blocks'] = {\n",
    "                            'left': {'width': 2, 'height': 2, 'area': 4},\n",
    "                            'top': {\n",
    "                                'width': aboveBlocks['top']['width'],\n",
    "                                'height': aboveBlocks['top']['height'] + 1,\n",
    "                                'area': aboveBlocks['top']['width'] * (aboveBlocks['top']['height'] + 1)\n",
    "                            },\n",
    "                            'maxarea': max(aboveBlocks['top']['width'] * (aboveBlocks['top']['height'] + 1), 4)\n",
    "                        }\n",
    "                        maxArea = max(maxArea, lookup[row][col]['blocks']['maxarea'])\n",
    "                    else:\n",
    "                        # we have both aboveBlocks and leftBlocks\n",
    "                        lookup[row][col]['blocks'] = {\n",
    "                            'left': {\n",
    "                                'width': leftBlocks['left']['width'] + 1,\n",
    "                                'height': leftBlocks['left']['height'],\n",
    "                                'area': (leftBlocks['left']['width'] + 1) * leftBlocks['left']['height']\n",
    "                            },\n",
    "                            'top': {\n",
    "                                'width': aboveBlocks['top']['width'],\n",
    "                                'height': aboveBlocks['top']['height'] + 1,\n",
    "                                'area': aboveBlocks['top']['width'] * (aboveBlocks['top']['height'] + 1)\n",
    "                            }\n",
    "                        }\n",
    "                        blocks = lookup[row][col]['blocks']\n",
    "                        blocks['composite'] = {\n",
    "                            'width': max(blocks['left']['width'], blocks['top']['width']),\n",
    "                            'height': max(blocks['left']['height'], blocks['top']['height']),\n",
    "                        }\n",
    "                        blocks['composite']['area'] = blocks['composite']['width'] * blocks['composite']['height']\n",
    "                        blocks['maxarea'] = max(blocks['left']['area'], blocks['top']['area'], blocks['composite']['area'])\n",
    "                        maxArea = max(maxArea, lookup[row][col]['blocks']['maxarea'])\n",
    "    return maxArea            "
   ]
  },
  {
   "cell_type": "code",
   "execution_count": 34,
   "metadata": {},
   "outputs": [
    {
     "name": "stdout",
     "output_type": "stream",
     "text": [
      "CPU times: user 146 µs, sys: 0 ns, total: 146 µs\n",
      "Wall time: 151 µs\n"
     ]
    },
    {
     "data": {
      "text/plain": [
       "15"
      ]
     },
     "execution_count": 34,
     "metadata": {},
     "output_type": "execute_result"
    }
   ],
   "source": [
    "%%time\n",
    "maxRect(matrix)"
   ]
  },
  {
   "cell_type": "code",
   "execution_count": 35,
   "metadata": {},
   "outputs": [],
   "source": [
    "matrix2 = [\n",
    "    [0, 1, 0, 0],\n",
    "    [1, 1, 1, 0],\n",
    "    [1, 1, 0, 1],\n",
    "    [1, 1, 1, 1],\n",
    "    [1, 1, 1, 1]\n",
    "]"
   ]
  },
  {
   "cell_type": "code",
   "execution_count": 36,
   "metadata": {},
   "outputs": [
    {
     "data": {
      "text/plain": [
       "8"
      ]
     },
     "execution_count": 36,
     "metadata": {},
     "output_type": "execute_result"
    }
   ],
   "source": [
    "maxRect(matrix2)"
   ]
  }
 ],
 "metadata": {
  "kernelspec": {
   "display_name": "Python 3",
   "language": "python",
   "name": "python3"
  },
  "language_info": {
   "codemirror_mode": {
    "name": "ipython",
    "version": 3
   },
   "file_extension": ".py",
   "mimetype": "text/x-python",
   "name": "python",
   "nbconvert_exporter": "python",
   "pygments_lexer": "ipython3",
   "version": "3.8.5"
  }
 },
 "nbformat": 4,
 "nbformat_minor": 4
}
