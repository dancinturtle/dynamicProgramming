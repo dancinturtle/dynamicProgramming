{
 "cells": [
  {
   "cell_type": "markdown",
   "metadata": {},
   "source": [
    "### Longest Increasing Subsequence\n",
    "\n",
    "The longest increasing subsequence problem is to find a subsequence of a given sequence in which the subsequence's elements are in sorted order, lowest to highest, and in which the subsequence is as long as possible. This subsequence is not necessarily contiguous or unique.\n",
    "\n",
    "For example:\n",
    "```\n",
    "[0, 8, 4, 12, 2, 10, 6, 14, 1, 9, 5, 13, 3, 11, 7, 15]\n",
    "\n",
    "The longest increasing subsequence is:\n",
    "\n",
    "[0, 2, 6, 9, 11, 15], length of 6\n",
    "\n",
    "Also other possible answers:\n",
    "[0, 4, 6, 9, 11, 15]\n",
    "[0, 4, 6, 9, 13, 15]\n",
    "```\n",
    "\n"
   ]
  },
  {
   "cell_type": "markdown",
   "metadata": {},
   "source": [
    "### With recursion\n",
    "\n",
    "Establish output array. Loop through the given array, if a number can be added to the output, call the function again both with the number added and not. Return the longest array returned."
   ]
  },
  {
   "cell_type": "code",
   "execution_count": null,
   "metadata": {},
   "outputs": [],
   "source": [
    "\n",
    "                                             []\n",
    "                          [0]                                          []\n",
    "    [0, 8]                      [0]                      [8]                          []  "
   ]
  },
  {
   "cell_type": "code",
   "execution_count": 9,
   "metadata": {},
   "outputs": [],
   "source": [
    "# to get a possible subsequence\n",
    "def longestIncreasing(arr, output=None, pos=0):\n",
    "    if output == None:\n",
    "        output = []\n",
    "    if pos == len(arr):\n",
    "        return output\n",
    "    if len(output) == 0 or arr[pos] > output[-1]:\n",
    "        append_to_output = output[:]\n",
    "        append_to_output.append(arr[pos])\n",
    "        appended_result = longestIncreasing(arr, append_to_output, pos+1)\n",
    "        without_appended_result = longestIncreasing(arr, output, pos+1)\n",
    "        return appended_result if len(appended_result) > len(without_appended_result) else without_appended_result\n",
    "    return longestIncreasing(arr, output, pos+1)\n",
    "        "
   ]
  },
  {
   "cell_type": "code",
   "execution_count": 5,
   "metadata": {},
   "outputs": [],
   "source": [
    "# to get just the longest possible subsequence length\n",
    "def longestIncreasingLength(arr, output=None, pos=0):\n",
    "    if output == None:\n",
    "        output = []\n",
    "    if pos == len(arr):\n",
    "        return len(output)\n",
    "    if len(output) == 0 or arr[pos] > output[-1]:\n",
    "        append_to_output = output[:]\n",
    "        append_to_output.append(arr[pos])\n",
    "        return max(longestIncreasingLength(arr, append_to_output, pos+1), longestIncreasingLength(arr, output, pos+1))\n",
    "    return longestIncreasingLength(arr, output, pos+1)"
   ]
  },
  {
   "cell_type": "code",
   "execution_count": 3,
   "metadata": {},
   "outputs": [],
   "source": [
    "arr1 = [0, 8, 4, 12, 2, 10, 6, 14, 1, 9, 5, 13, 3, 11, 7, 15]\n",
    "arr2 = [1,2,3,4,5,6,7,8,9,10,0,1,2,3,4,5,6,7,8,9,10]"
   ]
  },
  {
   "cell_type": "code",
   "execution_count": 10,
   "metadata": {},
   "outputs": [
    {
     "name": "stdout",
     "output_type": "stream",
     "text": [
      "CPU times: user 706 µs, sys: 33 µs, total: 739 µs\n",
      "Wall time: 1.95 ms\n"
     ]
    },
    {
     "data": {
      "text/plain": [
       "[0, 2, 6, 9, 11, 15]"
      ]
     },
     "execution_count": 10,
     "metadata": {},
     "output_type": "execute_result"
    }
   ],
   "source": [
    "%%time\n",
    "longestIncreasing(arr1)"
   ]
  },
  {
   "cell_type": "code",
   "execution_count": 23,
   "metadata": {},
   "outputs": [
    {
     "name": "stdout",
     "output_type": "stream",
     "text": [
      "CPU times: user 1.11 ms, sys: 23 µs, total: 1.13 ms\n",
      "Wall time: 1.21 ms\n"
     ]
    },
    {
     "data": {
      "text/plain": [
       "6"
      ]
     },
     "execution_count": 23,
     "metadata": {},
     "output_type": "execute_result"
    }
   ],
   "source": [
    "%%time\n",
    "longestIncreasingLength(arr1)"
   ]
  },
  {
   "cell_type": "markdown",
   "metadata": {},
   "source": [
    "This problem has optimal substructure, meaning it can be broken down into smaller, simple subproblems, which can be divided yet into simpler, smaller subproblems until the solution becomes trivial.\n",
    "\n",
    "We can solve this problem in a bottom-up matter, solving the smaller subproblems first, and then solve larger subproblems from them.\n",
    "\n",
    "We start with just the first number, which we would include in our subsequence. Then we look at the next number and assume we'll include it. If it's larger than the first number, we add it. Otherwise, we'll have to drop the first number. Keep continuing in this manner - assume that we're adding the next number. Find the largest number belonging to a number smaller than it and add 1."
   ]
  },
  {
   "cell_type": "code",
   "execution_count": 13,
   "metadata": {},
   "outputs": [],
   "source": [
    "def longestIncreasingLengthMem(arr):\n",
    "    output = [1]\n",
    "    for i in range(1, len(arr)):\n",
    "        maxLength = 0\n",
    "        for j in range(0, i):\n",
    "            if arr[j] < arr[i] and output[j] > maxLength:\n",
    "                maxLength = output[j]\n",
    "        output.append(maxLength + 1)\n",
    "    return max(output)"
   ]
  },
  {
   "cell_type": "code",
   "execution_count": 24,
   "metadata": {
    "scrolled": true
   },
   "outputs": [
    {
     "name": "stdout",
     "output_type": "stream",
     "text": [
      "CPU times: user 48 µs, sys: 1 µs, total: 49 µs\n",
      "Wall time: 52.2 µs\n"
     ]
    },
    {
     "data": {
      "text/plain": [
       "6"
      ]
     },
     "execution_count": 24,
     "metadata": {},
     "output_type": "execute_result"
    }
   ],
   "source": [
    "%%time\n",
    "longestIncreasingLengthMem(arr1)"
   ]
  },
  {
   "cell_type": "markdown",
   "metadata": {},
   "source": [
    "To get the actual subsequence with memoization, we'll have to store the subsequences in the memoization array."
   ]
  },
  {
   "cell_type": "code",
   "execution_count": 7,
   "metadata": {},
   "outputs": [],
   "source": [
    "def longestIncreasingSubMem(arr):\n",
    "    output = [[arr[0]]]\n",
    "    result = 0\n",
    "    for i in range(1, len(arr)):\n",
    "        maxLength = 0\n",
    "        maxPos = -1\n",
    "        for j in range(0, i):\n",
    "            if arr[j] < arr[i] and len(output[j]) > maxLength:\n",
    "                maxLength = len(output[j])\n",
    "                maxPos = j\n",
    "        if maxPos == -1:\n",
    "            output.append([arr[i]])\n",
    "        else:\n",
    "            copy_max = output[maxPos][:]\n",
    "            copy_max.append(arr[i])\n",
    "            output.append(copy_max)\n",
    "        if len(output[i]) > len(output[result]):\n",
    "            result = i\n",
    "    return output[result]"
   ]
  },
  {
   "cell_type": "code",
   "execution_count": 8,
   "metadata": {},
   "outputs": [
    {
     "name": "stdout",
     "output_type": "stream",
     "text": [
      "CPU times: user 40 µs, sys: 1 µs, total: 41 µs\n",
      "Wall time: 42.9 µs\n"
     ]
    },
    {
     "data": {
      "text/plain": [
       "[0, 4, 6, 9, 13, 15]"
      ]
     },
     "execution_count": 8,
     "metadata": {},
     "output_type": "execute_result"
    }
   ],
   "source": [
    "%%time\n",
    "longestIncreasingSubMem(arr1)"
   ]
  }
 ],
 "metadata": {
  "kernelspec": {
   "display_name": "Python 3",
   "language": "python",
   "name": "python3"
  },
  "language_info": {
   "codemirror_mode": {
    "name": "ipython",
    "version": 3
   },
   "file_extension": ".py",
   "mimetype": "text/x-python",
   "name": "python",
   "nbconvert_exporter": "python",
   "pygments_lexer": "ipython3",
   "version": "3.8.5"
  }
 },
 "nbformat": 4,
 "nbformat_minor": 4
}
