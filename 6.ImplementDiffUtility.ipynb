{
 "cells": [
  {
   "cell_type": "markdown",
   "metadata": {},
   "source": [
    "### Implement Diff Utility\n",
    "\n",
    "Given two similar strings, efficiently list out all differences between them.\n",
    "\n",
    "The diff utility is a data comparison tool that calculates and displays the differences between the two texts. It tries to determine the smallest set of deletions and insertions and create one text from the other. Diff is line-oriented rather than character-oriented, unlike edit distance.\n",
    "\n",
    "```\n",
    "Input:\n",
    "X = \"XMJYAUZ\"\n",
    "Y = \"XMJAATZ\"\n",
    "\n",
    "Output:\n",
    "XMJ -Y A -U +A +T Z\n",
    "\n",
    "(- indicates the characted is deleted from Y but present in X)\n",
    "(+ indicates the character is inserted in Y but not present in X)\n",
    "\n",
    "since the longest common subsequence is XMJAZ we can iterate over the first sequence - X, M, J all check out. Y is missing from LCS, so we -Y. A matches. U is missing so we -U. Next we're looking for a Z but it's not there, instead we have to +A and +T. Then we see the Z so that matches.\n",
    "```\n",
    "\n",
    "We can use the Longest Common Subsequence to solve this problem. Find the longest sequence of characters present in both original sequences in the same order. From there, it is only a small step to get the diff-like output:\n",
    "\n",
    "If a character is absent in the subsequence but present in the first original sequence, it must have been deleted.\n",
    "\n",
    "If a character is absent in the subsequence but present in the second original sequence, it must have been inserted."
   ]
  },
  {
   "cell_type": "code",
   "execution_count": 39,
   "metadata": {},
   "outputs": [],
   "source": [
    "def longestCommonSubsequence(a, b):\n",
    "    lookup = [[0] * (len(a)+1) for _ in range(len(b)+1)]\n",
    "\n",
    "    for row in range(1, len(lookup)):\n",
    "        for col in range(1, len(lookup[0])):\n",
    "            if a[col-1] != b[row-1]:\n",
    "                lookup[row][col] = max(lookup[row-1][col], lookup[row][col-1])\n",
    "            else:\n",
    "                lookup[row][col] = lookup[row-1][col-1] + 1\n",
    "    return lookup"
   ]
  },
  {
   "cell_type": "code",
   "execution_count": 48,
   "metadata": {},
   "outputs": [],
   "source": [
    "def getSubsequence(a, lookup):\n",
    "    row = len(lookup) - 1\n",
    "    col = len(lookup[0]) - 1\n",
    "    count = lookup[row][col]\n",
    "    subseq = \"\"\n",
    "    while count > 0:\n",
    "        while lookup[row-1][col] == count:\n",
    "            row -= 1\n",
    "        while lookup[row][col-1] == count:\n",
    "            col -= 1\n",
    "        subseq = a[col-1] + subseq\n",
    "        row -= 1\n",
    "        col -= 1\n",
    "        count = lookup[row][col]\n",
    "    return subseq"
   ]
  },
  {
   "cell_type": "code",
   "execution_count": 57,
   "metadata": {},
   "outputs": [],
   "source": [
    "def diffUtility(a, b):\n",
    "    lookup = longestCommonSubsequence(a, b)\n",
    "    s = getSubsequence(a, lookup)\n",
    "    diff = \"\"\n",
    "    ia = 0\n",
    "    ib = 0\n",
    "    char = 0\n",
    "    while char < len(s):\n",
    "        if s[char] == a[ia] and s[char] == b[ib]:\n",
    "            diff += s[char]\n",
    "            ia += 1\n",
    "            ib += 1\n",
    "            char += 1\n",
    "        elif s[char] == b[ib] and s[char] != a[ia]:\n",
    "            diff += f\"-{a[ia]}\"\n",
    "            ia += 1\n",
    "        elif s[char] == a[ia] and s[char] != b[ib]:\n",
    "            diff += f\"+{b[ib]}\"\n",
    "            ib += 1\n",
    "        else:\n",
    "            diff += f\"-{a[ia]}\"\n",
    "            diff += f\"+{b[ib]}\"\n",
    "            ia += 1\n",
    "            ib += 1\n",
    "    return diff"
   ]
  },
  {
   "cell_type": "code",
   "execution_count": 58,
   "metadata": {},
   "outputs": [
    {
     "data": {
      "text/plain": [
       "'XMJ-YA-U+A+TZ'"
      ]
     },
     "execution_count": 58,
     "metadata": {},
     "output_type": "execute_result"
    }
   ],
   "source": [
    "seq1 = \"XMJYAUZ\"\n",
    "seq2 = \"XMJAATZ\"\n",
    "\n",
    "diffUtility(seq1, seq2)"
   ]
  }
 ],
 "metadata": {
  "kernelspec": {
   "display_name": "Python 3",
   "language": "python",
   "name": "python3"
  },
  "language_info": {
   "codemirror_mode": {
    "name": "ipython",
    "version": 3
   },
   "file_extension": ".py",
   "mimetype": "text/x-python",
   "name": "python",
   "nbconvert_exporter": "python",
   "pygments_lexer": "ipython3",
   "version": "3.8.5"
  }
 },
 "nbformat": 4,
 "nbformat_minor": 4
}
