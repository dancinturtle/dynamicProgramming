{
 "cells": [
  {
   "cell_type": "markdown",
   "metadata": {},
   "source": [
    "### 0-1 Knapsack Problem\n",
    "\n",
    "In this prolem, we are given a set of items, each with a weight and a value, and we need to determine the number of each item to include in a collection so that the total weight is less than or equal to a given limit and the total value is as large as possible.\n",
    "\n",
    "The items are indivisible; we can either take an item or not (0-1 property) For example:\n",
    "```\n",
    "Input:\n",
    "value = [20, 5, 10, 40, 15, 25]\n",
    "weight = [1, 2, 3, 8, 7, 4]\n",
    "int W = 10\n",
    "\n",
    "Output: Knapsack value is 60\n",
    "\n",
    "value = 20 + 40\n",
    "weight = 1 + 8 = 9 < W\n",
    "```\n",
    "\n",
    "We could just use recursion and try out all the possibilities. If we have the room, try adding it or not adding it, always keeping track of what our maximum value is."
   ]
  },
  {
   "cell_type": "code",
   "execution_count": 1,
   "metadata": {},
   "outputs": [],
   "source": [
    "def knapsackRec(values, weights, max_weight, curr_val=0, max_val=0, item=0):\n",
    "    if item >= len(values):\n",
    "        return max_val\n",
    "    added = None\n",
    "    if max_weight - weights[item] >= 0:\n",
    "        added_val = curr_val + values[item]\n",
    "        added_max_val = added_val if added_val > max_val else max_val\n",
    "        added = knapsackRec(values, weights, max_weight-weights[item], added_val, added_max_val, item+1)\n",
    "    skipped = knapsackRec(values, weights, max_weight, curr_val, max_val, item+1)\n",
    "    return skipped if added == None else max(added, skipped)"
   ]
  },
  {
   "cell_type": "code",
   "execution_count": 2,
   "metadata": {},
   "outputs": [],
   "source": [
    "# a little bit cleaner, fewer parameters\n",
    "def knapsackRec2(values, weights, max_weight, item=0):\n",
    "    if item >= len(values):\n",
    "        return 0\n",
    "    added = None\n",
    "    if max_weight - weights[item] >= 0:\n",
    "        added = values[item] + knapsackRec2(values, weights, max_weight-weights[item], item+1)\n",
    "    skipped = knapsackRec2(values, weights, max_weight, item+1)\n",
    "    return skipped if added == None else max(added, skipped)"
   ]
  },
  {
   "cell_type": "code",
   "execution_count": 3,
   "metadata": {},
   "outputs": [],
   "source": [
    "values = [20, 5, 10, 40, 15, 25]\n",
    "weights = [1, 2, 3, 8, 7, 4]\n",
    "W = 10\n",
    "values2 = [20, 5, 10, 40, 15, 25, 30, 50, 22, 8, 17, 3, 42, 10, 15, 32]\n",
    "weights2 = [1, 2, 3, 8, 7, 4, 23, 18, 9, 10, 5, 2, 8, 11, 25, 30]\n",
    "W2 = 55"
   ]
  },
  {
   "cell_type": "code",
   "execution_count": 4,
   "metadata": {
    "scrolled": false
   },
   "outputs": [
    {
     "name": "stdout",
     "output_type": "stream",
     "text": [
      "CPU times: user 61 µs, sys: 1 µs, total: 62 µs\n",
      "Wall time: 67.2 µs\n"
     ]
    },
    {
     "data": {
      "text/plain": [
       "60"
      ]
     },
     "execution_count": 4,
     "metadata": {},
     "output_type": "execute_result"
    }
   ],
   "source": [
    "%%time\n",
    "knapsackRec(values, weights, W)"
   ]
  },
  {
   "cell_type": "code",
   "execution_count": 5,
   "metadata": {},
   "outputs": [
    {
     "name": "stdout",
     "output_type": "stream",
     "text": [
      "CPU times: user 27.1 ms, sys: 2.42 ms, total: 29.6 ms\n",
      "Wall time: 131 ms\n"
     ]
    },
    {
     "data": {
      "text/plain": [
       "221"
      ]
     },
     "execution_count": 5,
     "metadata": {},
     "output_type": "execute_result"
    }
   ],
   "source": [
    "%%time\n",
    "knapsackRec(values2, weights2, W2)"
   ]
  },
  {
   "cell_type": "code",
   "execution_count": 6,
   "metadata": {
    "scrolled": true
   },
   "outputs": [
    {
     "name": "stdout",
     "output_type": "stream",
     "text": [
      "CPU times: user 58 µs, sys: 1 µs, total: 59 µs\n",
      "Wall time: 62.9 µs\n"
     ]
    },
    {
     "data": {
      "text/plain": [
       "60"
      ]
     },
     "execution_count": 6,
     "metadata": {},
     "output_type": "execute_result"
    }
   ],
   "source": [
    "%%time\n",
    "knapsackRec2(values, weights, W)"
   ]
  },
  {
   "cell_type": "code",
   "execution_count": 7,
   "metadata": {},
   "outputs": [
    {
     "name": "stdout",
     "output_type": "stream",
     "text": [
      "CPU times: user 26.3 ms, sys: 2.21 ms, total: 28.5 ms\n",
      "Wall time: 50.4 ms\n"
     ]
    },
    {
     "data": {
      "text/plain": [
       "221"
      ]
     },
     "execution_count": 7,
     "metadata": {},
     "output_type": "execute_result"
    }
   ],
   "source": [
    "%%time\n",
    "knapsackRec2(values2, weights2, W2)"
   ]
  },
  {
   "cell_type": "markdown",
   "metadata": {},
   "source": [
    "### Memoized version\n",
    "\n",
    "Keep a dictionary that tracks max values for each item we're looking at a given weight."
   ]
  },
  {
   "cell_type": "code",
   "execution_count": 19,
   "metadata": {},
   "outputs": [],
   "source": [
    "def knapsackMemo(values, weights, max_weight, item=0, lookup=None):\n",
    "    if item >= len(values):\n",
    "        return 0\n",
    "    if lookup == None:\n",
    "        lookup = {}\n",
    "    key = f'{item}-{max_weight}'\n",
    "    if lookup.get(key):\n",
    "        return lookup[key]\n",
    "    added = None\n",
    "    if max_weight - weights[item] >= 0:\n",
    "        added = values[item] + knapsackMemo(values, weights, max_weight-weights[item], item+1, lookup)\n",
    "    skipped = knapsackMemo(values, weights, max_weight, item+1, lookup)\n",
    "    if added == None:\n",
    "        lookup[key] = skipped\n",
    "    else:\n",
    "        lookup[key] = max(added, skipped)\n",
    "    return lookup[key]"
   ]
  },
  {
   "cell_type": "code",
   "execution_count": 20,
   "metadata": {
    "scrolled": false
   },
   "outputs": [
    {
     "name": "stdout",
     "output_type": "stream",
     "text": [
      "CPU times: user 1.99 ms, sys: 67 µs, total: 2.06 ms\n",
      "Wall time: 2.21 ms\n"
     ]
    },
    {
     "data": {
      "text/plain": [
       "221"
      ]
     },
     "execution_count": 20,
     "metadata": {},
     "output_type": "execute_result"
    }
   ],
   "source": [
    "%%time\n",
    "knapsackMemo(values2, weights2, W2)"
   ]
  },
  {
   "cell_type": "markdown",
   "metadata": {},
   "source": [
    "### Lookup table\n",
    "\n",
    "To solve this problem in a bottom-up manner, we solve smaller subproblems first, then solve larger subproblems from there. We solve the maximum value that can be attained with all weights possible and with first i items, using the values of those already computed.\n",
    "\n",
    "Example:\n",
    "\n",
    "Values = [20, 5, 10, 40, 15, 25]\n",
    "Weights = [1, 2, 3, 8, 7, 4]\n",
    "Max weight = 10\n",
    "\n",
    "We set up 0s for if the value had 0 value and if the allowed weight was 0.\n",
    "\n",
    "From there we fill in the matrix. At (1, 1) we'll check the previous weight possible (1 - weight of the item) with the previous item, so we can see what our previous value is if we're including the item. Also check the current weight with the previous item, so we can check what our value is if we're excluding the item. Add the value of the item to our first value we looked up and compare to the second value and accept whatever is higher.\n",
    "```\n",
    "For (1, 1): weights[1-1] = 1, 1-1 = 0, (0, 0) = 0, values[0] = 20, 0 + 20 = 20. (1, 0) = 0. 20 > 0\n",
    "\n",
    "For (3, 2) : weights[2-1] = 2, 3-2 = 1, (1, 2) = 20, values[1] = 5, 20 + 5 = 25. (3, 1) = 20. 25 > 20\n",
    " \n",
    "\n",
    "                      0       20       5       10       40       15       25     \n",
    "             0        0        0       0        0        0        0        0\n",
    "             1        0       20      20       20       20       20       20\n",
    "             2        0       20      20       20       20       20       20\n",
    "             3        0       20      25       25       25       25       25\n",
    "             4        0       20      25       30       30       30       30\n",
    "             5        0       20      25       30       30       30       45\n",
    "             6        0       20      25       35       35       35       45\n",
    "             7        0       20      25       35       35       35       45\n",
    "             8        0       20      25       35       40       40       60\n",
    "             9        0       20      25       35       60       60       60\n",
    "             10       0       20      25       35       60       60       60\n",
    "\n",
    "```"
   ]
  },
  {
   "cell_type": "code",
   "execution_count": 35,
   "metadata": {},
   "outputs": [],
   "source": [
    "def knapsackMatrix(values, weights, max_weight):\n",
    "    lookup = [[0] * (len(values)+1) for _ in range(max_weight + 1)]\n",
    "    for v in range(1, len(values) + 1):\n",
    "        for w in range(1, max_weight + 1):\n",
    "            value = values[v-1]\n",
    "            weight = weights[v-1]\n",
    "            prev_weight = w - weight\n",
    "            prev_weight_value = None\n",
    "            if prev_weight >= 0:\n",
    "                prev_weight_value = lookup[prev_weight][v-1]\n",
    "            prev_curr_weight = lookup[w][v-1]\n",
    "            lookup[w][v] = prev_curr_weight if prev_weight_value == None else max(prev_curr_weight, prev_weight_value + value)\n",
    "    return lookup[-1][-1]"
   ]
  },
  {
   "cell_type": "code",
   "execution_count": 37,
   "metadata": {},
   "outputs": [
    {
     "name": "stdout",
     "output_type": "stream",
     "text": [
      "CPU times: user 98 µs, sys: 1 µs, total: 99 µs\n",
      "Wall time: 103 µs\n"
     ]
    },
    {
     "data": {
      "text/plain": [
       "60"
      ]
     },
     "execution_count": 37,
     "metadata": {},
     "output_type": "execute_result"
    }
   ],
   "source": [
    "%%time\n",
    "knapsackMatrix(values, weights, W)"
   ]
  },
  {
   "cell_type": "code",
   "execution_count": 38,
   "metadata": {
    "scrolled": true
   },
   "outputs": [
    {
     "name": "stdout",
     "output_type": "stream",
     "text": [
      "CPU times: user 1.14 ms, sys: 19 µs, total: 1.16 ms\n",
      "Wall time: 1.2 ms\n"
     ]
    },
    {
     "data": {
      "text/plain": [
       "221"
      ]
     },
     "execution_count": 38,
     "metadata": {},
     "output_type": "execute_result"
    }
   ],
   "source": [
    "%%time\n",
    "knapsackMatrix(values2, weights2, W2)"
   ]
  }
 ],
 "metadata": {
  "kernelspec": {
   "display_name": "Python 3",
   "language": "python",
   "name": "python3"
  },
  "language_info": {
   "codemirror_mode": {
    "name": "ipython",
    "version": 3
   },
   "file_extension": ".py",
   "mimetype": "text/x-python",
   "name": "python",
   "nbconvert_exporter": "python",
   "pygments_lexer": "ipython3",
   "version": "3.8.5"
  }
 },
 "nbformat": 4,
 "nbformat_minor": 4
}
