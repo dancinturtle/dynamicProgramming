{
 "cells": [
  {
   "cell_type": "markdown",
   "metadata": {},
   "source": [
    "## Longest Palindromic Subsequence Problem\n",
    "\n",
    "The LPS problem is finding the longest subsequence of a string that is also a palindrome.\n",
    "\n",
    "This problem differs from the problem of finding the longest palindromic substring. Unlike substrings, subsequences are not required to occupy consecutive positions within the original string.\n",
    "\n",
    "For example, consider this sequence:\n",
    "    \n",
    "    ABBDCACB\n",
    "    The length of the longest palindromic subsequence is 5\n",
    "    The longest palindromic subsequence is BCACB\n",
    "    "
   ]
  },
  {
   "cell_type": "markdown",
   "metadata": {},
   "source": [
    "### Without dynamic programming, just recursion\n",
    "\n",
    "We start from the beginning (i) and the end (j)\n",
    "\n",
    "If the letters match, we add that as contributng to the palindrome length (+2) and i +=1 and j -= 1\n",
    "\n",
    "If the letters don't match, we have to see what would help - incrementing i or decrementing j.\n",
    "\n",
    "So we try both and take the longer result.\n",
    "\n",
    "If i and j ever meet, they are on the same letter, so add 1 to the current length.\n",
    "If i is ever greater than j, return the current length.\n",
    "\n",
    "There's always going to be at least one letter, so return 1 if we get 0 back as our final answer."
   ]
  },
  {
   "cell_type": "code",
   "execution_count": 13,
   "metadata": {},
   "outputs": [],
   "source": [
    "def palindromic_subsequence(seq, length=0, i=0, j=0):\n",
    "    if i == 0:\n",
    "        j = len(seq) - 1\n",
    "    if i == j:\n",
    "        # we have nowhere else to go\n",
    "        return length + 1 \n",
    "    if i > j:\n",
    "        return length\n",
    "    # at this point we know i < j\n",
    "    if seq[i] == seq[j]:\n",
    "        # the length of the palindrome just went up by 2\n",
    "        # we need to compare the next i and j\n",
    "        length += 2\n",
    "        return palindromic_subsequence(seq, length, i+1, j-1)\n",
    "    else:\n",
    "        return max(palindromic_subsequence(seq, length, i+1, j), palindromic_subsequence(seq, length, i, j-1))\n"
   ]
  },
  {
   "cell_type": "code",
   "execution_count": null,
   "metadata": {},
   "outputs": [],
   "source": [
    "# maximum recursion depth already exceeded\n",
    "palindromic_subsequence('CBDCB')"
   ]
  },
  {
   "cell_type": "markdown",
   "metadata": {},
   "source": [
    "### With dynamic programming, we want to eliminate redundant calls that we have in recursion\n",
    "\n",
    "Keep a lookup table so we can easily lookup prevous answers for our current i and j"
   ]
  },
  {
   "cell_type": "code",
   "execution_count": null,
   "metadata": {},
   "outputs": [],
   "source": [
    "def pal_seq_dy(seq, lookup=None, i=0, j=0):\n",
    "    if lookup == None:\n",
    "        lookup = {}\n",
    "    if i == 0:\n",
    "        j = len(seq) - 1\n",
    "    key = f'{i}-{j}'\n",
    "    if lookup.get(key) != None:\n",
    "        return lookup.get(key)\n",
    "    if i > j:\n",
    "        return 0\n",
    "    if seq[i] == seq[j]:\n",
    "        lookup[key] = pal_seq_dy(seq, lookup, i+1, j-1) + 2\n",
    "        return lookup[key]\n",
    "    lookup[key] = max(pal_seq_dy(seq, lookup, i+1, j), pal_seq_dy(seq, lookup, i, j-1))\n",
    "    return lookup[key]"
   ]
  },
  {
   "cell_type": "code",
   "execution_count": null,
   "metadata": {},
   "outputs": [],
   "source": [
    "# this still hits maximum recursion depth\n",
    "pal_seq_dy('CBDCB')"
   ]
  },
  {
   "cell_type": "markdown",
   "metadata": {},
   "source": [
    "### We can make a 2d array for lookup\n",
    "\n",
    "Imagine the columns being the letters in the sequence in order (i) and the rows (j) being the letters in reverse order.\n",
    "\n",
    "We can keep track of the palindromes that can be made if the letter at i and j match and is included in the palindrome.\n",
    "\n",
    "Always take the larger number above or to the left. If they are the same, we can add to the number in the upper left, which would be what the palindrome was before this letter was considered.\n",
    "\n",
    "If i < j and letters match, +2 to upper diagonal\n",
    "If i == j, +1 to upper diagonal\n",
    "Otherwise just take the larger of left and upper\n",
    "\n",
    "\n",
    "                 0    1    2    3    4    5    6    7\n",
    "            0    A    B    B    D    C    A    C    B\n",
    "\n",
    "        0   0    0    0    0    0    0    0    0    0\n",
    "    7   B   0    0    2    2    2    2    2    2    2\n",
    "    6   C   0    0    2    2    2    4    4    4    4\n",
    "    5   A   0    2    2    2    2    4    5    5    5\n",
    "    4   C   0    2    2    2    2    4    5    5    5\n",
    "    3   D   0    2    2    2    3    4    5    5    5\n",
    "    2   B   0    2    4    4    4    4    5    5    5\n",
    "    1   B   0    2    4    4    4    4    5    5    5\n",
    "    0   A   0    2    4    4    4    4    5    5    5"
   ]
  },
  {
   "cell_type": "code",
   "execution_count": 35,
   "metadata": {},
   "outputs": [],
   "source": [
    "def pal_seq_arr(seq, lookup=None, i=0, j=0):\n",
    "    if lookup == None:\n",
    "        lookup = [[0] * (len(seq) + 1) for _ in range(len(seq) + 1)]\n",
    "    for j in range(len(seq)-1, -1, -1):\n",
    "        for i in range(len(seq)):\n",
    "            row = len(seq) - j\n",
    "            col = i + 1\n",
    "            left = i\n",
    "            rowup = len(seq) - j - 1\n",
    "            if i == j:\n",
    "                lookup[row][col] = max(lookup[rowup][left] + 1, lookup[rowup][col], lookup[row][left])\n",
    "            elif i < j and seq[i] == seq[j]:\n",
    "                lookup[row][col] = max(lookup[rowup][left] + 2, lookup[rowup][col], lookup[row][left])\n",
    "            else:\n",
    "                lookup[row][col] = max(lookup[rowup][col], lookup[row][left])\n",
    "    print(lookup)\n",
    "    return lookup[len(seq)][len(seq)]\n",
    "            "
   ]
  },
  {
   "cell_type": "code",
   "execution_count": 36,
   "metadata": {},
   "outputs": [
    {
     "name": "stdout",
     "output_type": "stream",
     "text": [
      "[[0, 0, 0, 0, 0, 0, 0, 0, 0], [0, 0, 2, 2, 2, 2, 2, 2, 2], [0, 0, 2, 2, 2, 4, 4, 4, 4], [0, 2, 2, 2, 2, 4, 5, 5, 5], [0, 2, 2, 2, 2, 4, 5, 5, 5], [0, 2, 2, 2, 3, 4, 5, 5, 5], [0, 2, 4, 4, 4, 4, 5, 5, 5], [0, 2, 4, 4, 4, 4, 5, 5, 5], [0, 2, 4, 4, 4, 4, 5, 5, 5]]\n"
     ]
    },
    {
     "data": {
      "text/plain": [
       "5"
      ]
     },
     "execution_count": 36,
     "metadata": {},
     "output_type": "execute_result"
    }
   ],
   "source": [
    "pal_seq_arr('ABBDCACB')"
   ]
  }
 ],
 "metadata": {
  "kernelspec": {
   "display_name": "Python 3",
   "language": "python",
   "name": "python3"
  },
  "language_info": {
   "codemirror_mode": {
    "name": "ipython",
    "version": 3
   },
   "file_extension": ".py",
   "mimetype": "text/x-python",
   "name": "python",
   "nbconvert_exporter": "python",
   "pygments_lexer": "ipython3",
   "version": "3.8.5"
  }
 },
 "nbformat": 4,
 "nbformat_minor": 4
}
