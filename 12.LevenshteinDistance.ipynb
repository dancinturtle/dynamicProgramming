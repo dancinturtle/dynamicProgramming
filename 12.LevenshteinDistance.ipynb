{
 "cells": [
  {
   "cell_type": "markdown",
   "metadata": {},
   "source": [
    "### The Levenshtein distance (edit distance) problem\n",
    "\n",
    "Edit distance is a way of quantifying how different two strings are from one another by counting the minimum number of operations required to transform one string into another.\n",
    "\n",
    "The Levenshtein distance between two words is the minimum number of single-character edits (ie, insertions, deletions, or substitutions) required to chaned one word into the other. Each of these operations has a unit cost.\n",
    "\n",
    "For example:\n",
    "```\n",
    "Levenshtein distance between kitten and sitting is 3.\n",
    "\n",
    "kitten -> sitten (substitution of s for k)\n",
    "sitten -> sittin (substitution of i for e)\n",
    "sittin -> sitting (insertion of g at the end)\n",
    "```\n",
    "\n",
    "This problem has optimal substructure. The problem can be broken into smaller, simple subproblems, which can also be broken down, until the solution becomes trivial.\n",
    "\n",
    "We can think about transforming X[1...m] into Y[1...n] by first thinking about transforming substring x[1...i] into Y[1...j]\n",
    "\n",
    "#### Case 1: We have reached the end of either substring.\n",
    "\n",
    "If substring X is empty, insert all remaining characters of Y into X. The cost is equal to the number of characters left in substring Y.\n",
    "\n",
    "If substring Y is empty, delete all remaining characters of X. The cost is equal to the number of characters left in X.\n",
    "\n",
    "#### Case 2: The last characters of substrings X and Y are the same.\n",
    "\n",
    "If the last characters match, nothing needs to be done. Keep going for X[1...i-1] and Y[1...j-1]. No cost.\n",
    "\n",
    "#### Case 3: The last characters of substrings X and Y are different.\n",
    "\n",
    "If the last characters are different, return the minimum of the following operations:\n",
    "\n",
    "1. Insert the last character of Y into X. Then continue with the recursion. The size of Y reduces by 1 and X remains the same. ```('ABA', 'ABC') -> ('ABAC', 'ABC') -> ('ABA', 'AB')```\n",
    "2. Delete the last character of X. Then continue with the recursion. ```('ABA', 'ABC') -> ('AB', 'ABC')```\n",
    "3. Substitute the current character of X by the current character of Y. Then continue with the recursion. ```('ABA', 'ABC') -> ('ABC', 'ABC') -> ('AB', 'AB')```\n"
   ]
  },
  {
   "cell_type": "code",
   "execution_count": 10,
   "metadata": {},
   "outputs": [],
   "source": [
    "def edit_distance_recursion(a, b, ia=None, ib=None):\n",
    "    if ia == None or ib == None:\n",
    "        ia = len(a) - 1\n",
    "        ib = len(b) - 1\n",
    "    if ia == -1 or ib == -1:\n",
    "        return max(ia, ib) + 1\n",
    "    if a[ia] == b[ib]:\n",
    "        return edit_distance_recursion(a, b, ia-1, ib-1)\n",
    "    insertion = edit_distance_recursion(a, b, ia, ib-1) + 1\n",
    "    deletion = edit_distance_recursion(a, b, ia-1, ib) + 1\n",
    "    substitution = edit_distance_recursion(a, b, ia-1, ib-1) + 1\n",
    "    return min(insertion, deletion, substitution)\n",
    "    "
   ]
  },
  {
   "cell_type": "code",
   "execution_count": 7,
   "metadata": {},
   "outputs": [],
   "source": [
    "string1 = \"kitten\"\n",
    "string2 = \"sitting\""
   ]
  },
  {
   "cell_type": "code",
   "execution_count": 11,
   "metadata": {
    "scrolled": true
   },
   "outputs": [
    {
     "name": "stdout",
     "output_type": "stream",
     "text": [
      "CPU times: user 1.59 ms, sys: 8 µs, total: 1.6 ms\n",
      "Wall time: 1.62 ms\n"
     ]
    },
    {
     "data": {
      "text/plain": [
       "3"
      ]
     },
     "execution_count": 11,
     "metadata": {},
     "output_type": "execute_result"
    }
   ],
   "source": [
    "%%time\n",
    "edit_distance_recursion(string1, string2)"
   ]
  },
  {
   "cell_type": "markdown",
   "metadata": {},
   "source": [
    "### With dynamic programming, we can build from the bottom up\n",
    "\n",
    "Make a 2D array so we can visualize comparing strings as they grow.\n",
    "\n",
    "To convert a non string to another string, it's all insertion, so our cost is the same as the length of the desired string. We set that up as our baseline.\n",
    "\n",
    "As we fill in the array, if the letters match, there is no work to be done. We can look to see what the strings would be if the letters weren't there (upper left) and use that cost value there.\n",
    "\n",
    "If the strings do not match, we add one cost to whatever is least if we had substituted, deleted, or inserted the letter. For substitution, look to the top left. For deletion, look left. For insertion, look up.\n",
    "\n",
    "                  k     i     t     t     e     n\n",
    "             0    1     2     3     4     5     6\n",
    "         s   1    1     2     3     4     5     6\n",
    "         i   2    2     1     2     3     4     5\n",
    "         t   3    3     2     1     2     3     4\n",
    "         t   4    4     3     2     1     2     3\n",
    "         i   5    5     4     3     2     2     3\n",
    "         n   6    6     5     4     3     3     2\n",
    "         g   7    7     6     5     4     4     3"
   ]
  },
  {
   "cell_type": "code",
   "execution_count": 17,
   "metadata": {},
   "outputs": [],
   "source": [
    "def edit_distance_dy(a, b):\n",
    "    lookup = [[0] * (len(b) + 1) for _ in range(len(a)+1)]\n",
    "    for i in range(len(lookup)):\n",
    "        lookup[i][0] = i\n",
    "    for j in range(len(lookup[0])):\n",
    "        lookup[0][j] = j\n",
    "    for row in range(1, len(lookup)):\n",
    "        for col in range(1, len(lookup[0])):\n",
    "            if a[row-1] == b[col-1]:\n",
    "                lookup[row][col] = lookup[row-1][col-1]\n",
    "            else:\n",
    "                lookup[row][col] = min(lookup[row-1][col-1], lookup[row-1][col], lookup[row][col-1]) + 1\n",
    "    return lookup[-1][-1]"
   ]
  },
  {
   "cell_type": "code",
   "execution_count": 19,
   "metadata": {},
   "outputs": [
    {
     "name": "stdout",
     "output_type": "stream",
     "text": [
      "CPU times: user 46 µs, sys: 1 µs, total: 47 µs\n",
      "Wall time: 48.9 µs\n"
     ]
    },
    {
     "data": {
      "text/plain": [
       "3"
      ]
     },
     "execution_count": 19,
     "metadata": {},
     "output_type": "execute_result"
    }
   ],
   "source": [
    "%%time\n",
    "edit_distance_dy(string1, string2)"
   ]
  }
 ],
 "metadata": {
  "kernelspec": {
   "display_name": "Python 3",
   "language": "python",
   "name": "python3"
  },
  "language_info": {
   "codemirror_mode": {
    "name": "ipython",
    "version": 3
   },
   "file_extension": ".py",
   "mimetype": "text/x-python",
   "name": "python",
   "nbconvert_exporter": "python",
   "pygments_lexer": "ipython3",
   "version": "3.8.5"
  }
 },
 "nbformat": 4,
 "nbformat_minor": 4
}
