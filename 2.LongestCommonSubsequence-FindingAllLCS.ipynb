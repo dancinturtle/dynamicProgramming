{
 "cells": [
  {
   "cell_type": "markdown",
   "metadata": {},
   "source": [
    "## Longest Common Subsequence Problem - Finding All LCS\n",
    "\n",
    "Given two sequences, print all the possible longest common subsequences present in them.\n",
    "\n",
    "    Input: X = XMJYAUZ\n",
    "           Y = MZJAWXU\n",
    "    \n",
    "    Output: MJAU\n",
    "    \n",
    "    \n",
    "    Input: X = ABCBDAB\n",
    "           Y = BDCABA\n",
    "           \n",
    "    Output: BCAB, BCBA, BDAB\n",
    "    \n",
    "In the previous problem we worked out how to create a 2D array in order to determine the length of the longest common sequence. This lookup table can also be used to determine all possible subsequences.\n",
    "\n",
    "Starting in the lower right corner, we know the length of the longest common sequence. The question is, which is the last letter of the sequence? We follow the trail by looking left and up to see if that number is also there.\n",
    "\n",
    "1. If the number is not present: Add this letter to the start of the sequence and move diagonally left and start searching for the next letter\n",
    "\n",
    "2. If the number is diagonally left: Move diagonally left\n",
    "\n",
    "2. If the number is to the left but not to the top: Move to the left\n",
    "\n",
    "3. If the number is to the top but not to the left: Move to the top\n",
    "\n",
    "4. If the number is both to the left and to the top: Use recursion and  move both left and to the top.\n",
    "    "
   ]
  },
  {
   "cell_type": "code",
   "execution_count": 1,
   "metadata": {},
   "outputs": [],
   "source": [
    "def LCS(x, y):\n",
    "    lookup = [[0 for _ in range(len(x)+1)] for _ in range(len(y)+1)]\n",
    "    for b in range(len(y)):\n",
    "        for a in range(len(x)):\n",
    "            above = lookup[b][a+1]\n",
    "            left = lookup[b+1][a]\n",
    "            upleft = lookup[b][a]\n",
    "            # use upleft to determine your value\n",
    "            # this ensures the letter you're looking at isn't already being used as the last letter\n",
    "            if x[a] == y[b]:\n",
    "                lookup[b+1][a+1] = upleft + 1\n",
    "            else:\n",
    "                lookup[b+1][a+1] = max(above, left)\n",
    "    return lookup"
   ]
  },
  {
   "cell_type": "code",
   "execution_count": 15,
   "metadata": {},
   "outputs": [],
   "source": [
    "A = \"ABCBDAB\"\n",
    "B = \"BDCABA\"\n",
    "C = \"BADJAR\"\n",
    "D = \"BAD\"\n",
    "X = \"XMJYAUZ\"\n",
    "Y = \"MZJAWXU\""
   ]
  },
  {
   "cell_type": "code",
   "execution_count": 3,
   "metadata": {
    "scrolled": true
   },
   "outputs": [
    {
     "data": {
      "text/plain": [
       "[[0, 0, 0, 0, 0, 0, 0, 0],\n",
       " [0, 0, 1, 1, 1, 1, 1, 1],\n",
       " [0, 0, 1, 1, 1, 1, 1, 2],\n",
       " [0, 0, 1, 2, 2, 2, 2, 2],\n",
       " [0, 0, 1, 2, 2, 3, 3, 3],\n",
       " [0, 0, 1, 2, 2, 3, 3, 3],\n",
       " [0, 1, 1, 2, 2, 3, 3, 3],\n",
       " [0, 1, 1, 2, 2, 3, 4, 4]]"
      ]
     },
     "execution_count": 3,
     "metadata": {},
     "output_type": "execute_result"
    }
   ],
   "source": [
    "LCS(X, Y)"
   ]
  },
  {
   "cell_type": "code",
   "execution_count": 8,
   "metadata": {},
   "outputs": [
    {
     "data": {
      "text/plain": [
       "[[0, 0, 0, 0, 0, 0, 0, 0],\n",
       " [0, 0, 1, 1, 1, 1, 1, 1],\n",
       " [0, 0, 1, 1, 1, 2, 2, 2],\n",
       " [0, 0, 1, 2, 2, 2, 2, 2],\n",
       " [0, 1, 1, 2, 2, 2, 3, 3],\n",
       " [0, 1, 2, 2, 3, 3, 3, 4],\n",
       " [0, 1, 2, 2, 3, 3, 4, 4]]"
      ]
     },
     "execution_count": 8,
     "metadata": {},
     "output_type": "execute_result"
    }
   ],
   "source": [
    "LCS(A, B)"
   ]
  },
  {
   "cell_type": "code",
   "execution_count": 10,
   "metadata": {},
   "outputs": [],
   "source": [
    "def all_LCS(x, y, sequences=None, h=None, w=None, sequence=\"\"):\n",
    "    lookup = LCS(x, y)\n",
    "    if sequences == None:\n",
    "        sequences = []\n",
    "    if h == None:\n",
    "        h = len(y)\n",
    "        w = len(x)\n",
    "    max_number = lookup[h][w]\n",
    "    if max_number == 0 and len(sequence) > 0:\n",
    "        sequences.append(sequence)\n",
    "    else:\n",
    "        up = lookup[h-1][w]\n",
    "        left = lookup[h][w-1]\n",
    "        diag = lookup[h-1][w-1]\n",
    "        # add the character to the sequence, move diagonally\n",
    "        if max_number not in [up, left, diag]:\n",
    "            sequence = y[h-1] + sequence\n",
    "            all_LCS(x, y, sequences, h-1, w-1, sequence)\n",
    "        elif max_number == diag:\n",
    "            all_LCS(x, y, sequences, h-1, w-1, sequence)\n",
    "        elif max_number == up and max_number == left:\n",
    "            all_LCS(x, y, sequences, h-1, w, sequence)\n",
    "            all_LCS(x, y, sequences, h, w-1, sequence)\n",
    "        elif max_number == up:\n",
    "            all_LCS(x, y, sequences, h-1, w, sequence)\n",
    "        elif max_number == left:\n",
    "            all_LCS(x, y, sequences, h, w-1, sequence)\n",
    "    return sequences"
   ]
  },
  {
   "cell_type": "code",
   "execution_count": 11,
   "metadata": {},
   "outputs": [
    {
     "data": {
      "text/plain": [
       "['MJAU']"
      ]
     },
     "execution_count": 11,
     "metadata": {},
     "output_type": "execute_result"
    }
   ],
   "source": [
    "all_LCS(X, Y)"
   ]
  },
  {
   "cell_type": "code",
   "execution_count": 12,
   "metadata": {},
   "outputs": [
    {
     "data": {
      "text/plain": [
       "['BDAB', 'BCAB', 'BCBA']"
      ]
     },
     "execution_count": 12,
     "metadata": {},
     "output_type": "execute_result"
    }
   ],
   "source": [
    "all_LCS(A, B)"
   ]
  },
  {
   "cell_type": "code",
   "execution_count": 17,
   "metadata": {},
   "outputs": [
    {
     "data": {
      "text/plain": [
       "['BABACBAABBDAB']"
      ]
     },
     "execution_count": 17,
     "metadata": {},
     "output_type": "execute_result"
    }
   ],
   "source": [
    "all_LCS(C, D)"
   ]
  },
  {
   "cell_type": "code",
   "execution_count": null,
   "metadata": {},
   "outputs": [],
   "source": []
  }
 ],
 "metadata": {
  "kernelspec": {
   "display_name": "Python 3",
   "language": "python",
   "name": "python3"
  },
  "language_info": {
   "codemirror_mode": {
    "name": "ipython",
    "version": 3
   },
   "file_extension": ".py",
   "mimetype": "text/x-python",
   "name": "python",
   "nbconvert_exporter": "python",
   "pygments_lexer": "ipython3",
   "version": "3.8.5"
  }
 },
 "nbformat": 4,
 "nbformat_minor": 4
}
