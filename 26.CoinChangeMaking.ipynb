{
 "cells": [
  {
   "cell_type": "markdown",
   "metadata": {},
   "source": [
    "### Coin change making problem (unlimited supply of coins)\n",
    "\n",
    "Given an unlimited supply of coins of given denominations, find the minimum number of coins required to get the desired change.\n",
    "\n",
    "Example:\n",
    "```\n",
    "S = {1, 3, 5, 7}\n",
    "If the desired change is 15, the minimum number of coins required is 3.\n",
    "7 + 7 + 1 or 5 + 5 + 5 or 3 + 5 + 7\n",
    "If the desired change is 18, the minimum number of coins required is 4.\n",
    "7 + 7 + 3 + 1 or 5 + 5 + 5 + 3 or 7 + 5 + 5 + 1\n",
    "```"
   ]
  },
  {
   "cell_type": "code",
   "execution_count": 1,
   "metadata": {},
   "outputs": [],
   "source": [
    "def coinRec(denom, change):\n",
    "    if change < 0:\n",
    "        return -1\n",
    "    if change == 0:\n",
    "        return 0\n",
    "    coinCounts = []\n",
    "    for d in denom:\n",
    "        coinCount = coinRec(denom, change-d)\n",
    "        if coinCount >= 0:\n",
    "            coinCounts.append(coinCount)\n",
    "    return min(coinCounts) + 1"
   ]
  },
  {
   "cell_type": "code",
   "execution_count": 2,
   "metadata": {},
   "outputs": [],
   "source": [
    "denominations = [1, 3, 5, 7]"
   ]
  },
  {
   "cell_type": "code",
   "execution_count": 11,
   "metadata": {},
   "outputs": [
    {
     "name": "stdout",
     "output_type": "stream",
     "text": [
      "CPU times: user 12.9 s, sys: 201 ms, total: 13.1 s\n",
      "Wall time: 15 s\n"
     ]
    },
    {
     "data": {
      "text/plain": [
       "5"
      ]
     },
     "execution_count": 11,
     "metadata": {},
     "output_type": "execute_result"
    }
   ],
   "source": [
    "%%time\n",
    "coinRec(denominations, 35)"
   ]
  },
  {
   "cell_type": "code",
   "execution_count": 4,
   "metadata": {},
   "outputs": [
    {
     "name": "stdout",
     "output_type": "stream",
     "text": [
      "CPU times: user 5.31 ms, sys: 1.55 ms, total: 6.85 ms\n",
      "Wall time: 21.5 ms\n"
     ]
    },
    {
     "data": {
      "text/plain": [
       "4"
      ]
     },
     "execution_count": 4,
     "metadata": {},
     "output_type": "execute_result"
    }
   ],
   "source": [
    "%%time\n",
    "coinRec(denominations, 18)"
   ]
  },
  {
   "cell_type": "markdown",
   "metadata": {},
   "source": [
    "### Dynamic approach\n",
    "\n",
    "Break down the problem to each sum from 0 to the given desired sum.\n",
    "\n",
    "Keep track of minimum required coins to make each sum.\n",
    "\n",
    "Go through each denomination, and if there is a way to make the sum - denomination, add that coin to the mix.\n",
    "\n",
    "Take the minimum value obtained for each sum to carry forward to the next iterations.\n"
   ]
  },
  {
   "cell_type": "code",
   "execution_count": 5,
   "metadata": {},
   "outputs": [
    {
     "data": {
      "text/plain": [
       "[0, 2, 3, 4, 5, 6, 7, 2]"
      ]
     },
     "execution_count": 5,
     "metadata": {},
     "output_type": "execute_result"
    }
   ],
   "source": [
    "a = [0, 2, 3, 4, 5, 6, 7, -1]\n",
    "a[-1] = min(a[1:-1])\n",
    "a"
   ]
  },
  {
   "cell_type": "code",
   "execution_count": 6,
   "metadata": {},
   "outputs": [],
   "source": [
    "def coinDy(denomations, change):\n",
    "    lookup = [[0] * (len(denominations) + 2) for _ in range(0, change+1)]\n",
    "    for row in range(1, len(lookup)):\n",
    "        for col in range(1, len(lookup[0]) - 1):\n",
    "            prevCount = row - denominations[col-1]\n",
    "            if  prevCount >= 0:\n",
    "                prev = lookup[prevCount][-1]\n",
    "                lookup[row][col] = prev + 1\n",
    "                if lookup[row][-1] == 0 or prev + 1 < lookup[row][-1]:\n",
    "                    lookup[row][-1] = prev + 1         \n",
    "    return lookup[-1][-1]"
   ]
  },
  {
   "cell_type": "code",
   "execution_count": 7,
   "metadata": {},
   "outputs": [
    {
     "name": "stdout",
     "output_type": "stream",
     "text": [
      "CPU times: user 303 µs, sys: 0 ns, total: 303 µs\n",
      "Wall time: 306 µs\n"
     ]
    },
    {
     "data": {
      "text/plain": [
       "20"
      ]
     },
     "execution_count": 7,
     "metadata": {},
     "output_type": "execute_result"
    }
   ],
   "source": [
    "%%time\n",
    "coinDy(denominations, 65)"
   ]
  },
  {
   "cell_type": "code",
   "execution_count": 8,
   "metadata": {
    "scrolled": true
   },
   "outputs": [
    {
     "name": "stdout",
     "output_type": "stream",
     "text": [
      "CPU times: user 82 µs, sys: 1e+03 ns, total: 83 µs\n",
      "Wall time: 87 µs\n"
     ]
    },
    {
     "data": {
      "text/plain": [
       "4"
      ]
     },
     "execution_count": 8,
     "metadata": {},
     "output_type": "execute_result"
    }
   ],
   "source": [
    "%%time\n",
    "coinDy(denominations, 18)"
   ]
  }
 ],
 "metadata": {
  "kernelspec": {
   "display_name": "Python 3",
   "language": "python",
   "name": "python3"
  },
  "language_info": {
   "codemirror_mode": {
    "name": "ipython",
    "version": 3
   },
   "file_extension": ".py",
   "mimetype": "text/x-python",
   "name": "python",
   "nbconvert_exporter": "python",
   "pygments_lexer": "ipython3",
   "version": "3.8.5"
  }
 },
 "nbformat": 4,
 "nbformat_minor": 4
}
