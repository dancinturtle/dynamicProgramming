{
 "cells": [
  {
   "cell_type": "markdown",
   "metadata": {},
   "source": [
    "### Longest Alternating Subsequence Problem\n",
    "\n",
    "The longest alternating subsequence is a problem of finding a subsequence of a given sequence in which the elements are in alternating order and in which the sequence is as long as possible. In\n",
    "other words, we need to find the length of the longest subsequence with alternate low and high elements.\n",
    "\n",
    "Example:\n",
    "\n",
    "```\n",
    "A = [8, 9, 6, 4, 5, 7, 3, 2, 4]\n",
    "The longest subsequence length is 6. The subsequence is [8, 9, 6, 7, 3, 4] as 8 < 9 > 6 < 7 > 3 < 4.\n",
    "Other possible solutions are\n",
    "[8, 9, 6, 7, 2, 4]\n",
    "[8, 9, 4, 7, 3, 4]\n",
    "[8, 9, 4, 7, 2, 4]\n",
    "and many more.\n",
    "```"
   ]
  },
  {
   "cell_type": "code",
   "execution_count": 8,
   "metadata": {},
   "outputs": [],
   "source": [
    "def altRec(seq, pos=0, slope=None, subseq=None):\n",
    "    if subseq == None:\n",
    "        subseq = []\n",
    "    if pos >= len(seq):\n",
    "        return len(subseq)\n",
    "    inc = -1\n",
    "    if len(subseq) == 0:\n",
    "        inc = altRec(seq, pos+1, None, [seq[pos]])\n",
    "        exc = altRec(seq, pos+1, None, [])\n",
    "    elif slope == None:\n",
    "        # if we're adding in a number smaller than the last, then the next number needs to be bigger\n",
    "        slope = 1 if seq[pos] < subseq[-1] else -1\n",
    "        incSeq = subseq[:]\n",
    "        incSeq.append(seq[pos])\n",
    "        inc = altRec(seq, pos+1, slope, incSeq)\n",
    "        exc = altRec(seq, pos+1, None, subseq)\n",
    "    else:\n",
    "        if (slope == 1 and seq[pos] > subseq[-1]) or (slope == -1 and seq[pos] < subseq[-1]):\n",
    "            incSeq = subseq[:]\n",
    "            incSeq.append(seq[pos])\n",
    "            inc = altRec(seq, pos+1, slope * -1, incSeq)\n",
    "        exc = altRec(seq, pos+1, slope, subseq)\n",
    "    return max(inc, exc)"
   ]
  },
  {
   "cell_type": "code",
   "execution_count": 15,
   "metadata": {},
   "outputs": [],
   "source": [
    "a = [8, 9, 6, 4, 5, 7, 3, 2, 4]"
   ]
  },
  {
   "cell_type": "code",
   "execution_count": 10,
   "metadata": {},
   "outputs": [
    {
     "name": "stdout",
     "output_type": "stream",
     "text": [
      "CPU times: user 463 µs, sys: 1 µs, total: 464 µs\n",
      "Wall time: 471 µs\n"
     ]
    },
    {
     "data": {
      "text/plain": [
       "6"
      ]
     },
     "execution_count": 10,
     "metadata": {},
     "output_type": "execute_result"
    }
   ],
   "source": [
    "%%time\n",
    "altRec(a)"
   ]
  },
  {
   "cell_type": "markdown",
   "metadata": {},
   "source": [
    "### Dynamic approach\n",
    "\n",
    "Track the longest possible sequence possible if you include each number for whether we're going up or down.\n",
    "\n",
    "Start off with 1's for all the values.\n",
    "\n",
    "To figure out the maximum sequence possible, look to the other row for all elements before it. If the element at that is higher/lower as needed, +1 to the sequence and take the max.\n",
    "\n",
    "Example:\n",
    "```\n",
    "             8    9    6    4    5    7    3    2    4\n",
    "   Up        1    2    1    1    4    4    1    1    6\n",
    "   Down      1    1    3    3    3    3    5    5    5\n",
    "   \n",
    "Take the maximum value, 6\n",
    "```"
   ]
  },
  {
   "cell_type": "code",
   "execution_count": 22,
   "metadata": {},
   "outputs": [],
   "source": [
    "def altDy(seq):\n",
    "    result = [[1] * len(seq) for i in range(2)]\n",
    "    maxResult = 0\n",
    "    for i in range(1, len(result[0])):\n",
    "        for j in range(0, i):\n",
    "            if seq[j] < seq[i]:\n",
    "                result[0][i] = max(result[0][i], result[1][j] + 1)\n",
    "                maxResult = max(maxResult, result[0][i])\n",
    "            elif seq[j] > seq[i]:\n",
    "                result[1][i] = max(result[1][i], result[0][j] + 1)\n",
    "                maxResult = max(maxResult, result[1][i])\n",
    "    return maxResult"
   ]
  },
  {
   "cell_type": "code",
   "execution_count": 21,
   "metadata": {
    "scrolled": true
   },
   "outputs": [
    {
     "name": "stdout",
     "output_type": "stream",
     "text": [
      "CPU times: user 47 µs, sys: 0 ns, total: 47 µs\n",
      "Wall time: 52 µs\n"
     ]
    },
    {
     "data": {
      "text/plain": [
       "6"
      ]
     },
     "execution_count": 21,
     "metadata": {},
     "output_type": "execute_result"
    }
   ],
   "source": [
    "%%time\n",
    "altDy(a)"
   ]
  }
 ],
 "metadata": {
  "kernelspec": {
   "display_name": "Python 3",
   "language": "python",
   "name": "python3"
  },
  "language_info": {
   "codemirror_mode": {
    "name": "ipython",
    "version": 3
   },
   "file_extension": ".py",
   "mimetype": "text/x-python",
   "name": "python",
   "nbconvert_exporter": "python",
   "pygments_lexer": "ipython3",
   "version": "3.8.5"
  }
 },
 "nbformat": 4,
 "nbformat_minor": 4
}
