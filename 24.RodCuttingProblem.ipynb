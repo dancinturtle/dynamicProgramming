{
 "cells": [
  {
   "cell_type": "markdown",
   "metadata": {},
   "source": [
    "### Rod Cutting Problem\n",
    "\n",
    "Given a rod of length `n` and a list of prices of rods of length `i`, where `1 <= i <= n`, find the optimal way to cut the rod into smaller rods to maximize profit.\n",
    "\n",
    "Example:\n",
    "\n",
    "```\n",
    "Input:\n",
    "length = [1, 2, 3, 4]\n",
    "price =  [1, 5, 8, 9]\n",
    "Rod length: 4\n",
    "\n",
    "Best: cut the rod into pieces of length 2 each to gain revenue of 5 + 5 = 10\n",
    "\n",
    "Cuts        Profit\n",
    "4            9\n",
    "1, 3         1 + 8 = 9\n",
    "2, 2         5  + 5 = 10\n",
    "3, 1         8 + 1 = 9\n",
    "1, 1, 2      1 + 1 + 5 = 7\n",
    "1, 2, 1      1 + 5 + 1 = 7\n",
    "2, 1, 1      5 + 1 + 1 = 7\n",
    "1, 1, 1, 1   1 + 1 + 1 + 1 = 4\n",
    "```\n",
    "\n"
   ]
  },
  {
   "cell_type": "markdown",
   "metadata": {},
   "source": [
    "### With recursion\n",
    "\n",
    "We try all the possible subrod results and add the price of the remaining segment."
   ]
  },
  {
   "cell_type": "code",
   "execution_count": 1,
   "metadata": {},
   "outputs": [],
   "source": [
    "def rodCutRec(price, rod):\n",
    "    if rod == 0:\n",
    "        return 0\n",
    "    maxPrice = 0\n",
    "    for i in range(rod-1, -1, -1):\n",
    "        maxPrice=max(maxPrice, rodCutRec(price, i) + price[rod-i-1])\n",
    "    return maxPrice"
   ]
  },
  {
   "cell_type": "code",
   "execution_count": 2,
   "metadata": {},
   "outputs": [],
   "source": [
    "rod1 = 4\n",
    "price1 = [1, 5, 8, 9, 10, 17, 17, 20]"
   ]
  },
  {
   "cell_type": "code",
   "execution_count": 3,
   "metadata": {},
   "outputs": [
    {
     "name": "stdout",
     "output_type": "stream",
     "text": [
      "CPU times: user 26 µs, sys: 1 µs, total: 27 µs\n",
      "Wall time: 30 µs\n"
     ]
    },
    {
     "data": {
      "text/plain": [
       "10"
      ]
     },
     "execution_count": 3,
     "metadata": {},
     "output_type": "execute_result"
    }
   ],
   "source": [
    "%%time\n",
    "rodCutRec(price1, rod1)"
   ]
  },
  {
   "cell_type": "markdown",
   "metadata": {},
   "source": [
    "### Dynamic programming\n",
    "\n",
    "Store the maximum price for each subrod, take the max of each of the subrod results and add in the price of the segment that's left."
   ]
  },
  {
   "cell_type": "code",
   "execution_count": 4,
   "metadata": {},
   "outputs": [],
   "source": [
    "def rodCut(price, rod):\n",
    "    maxPrices = [price[0]]\n",
    "    for i in range(1, rod):\n",
    "        currPrice = price[i]\n",
    "        for j in range(i):\n",
    "            newPrice = maxPrices[j] + price[i-(j+1)]\n",
    "            currPrice = max(currPrice, newPrice)\n",
    "        maxPrices.append(currPrice)\n",
    "    return maxPrices[-1]"
   ]
  },
  {
   "cell_type": "code",
   "execution_count": 5,
   "metadata": {},
   "outputs": [
    {
     "name": "stdout",
     "output_type": "stream",
     "text": [
      "CPU times: user 18 µs, sys: 1 µs, total: 19 µs\n",
      "Wall time: 22.9 µs\n"
     ]
    },
    {
     "data": {
      "text/plain": [
       "10"
      ]
     },
     "execution_count": 5,
     "metadata": {},
     "output_type": "execute_result"
    }
   ],
   "source": [
    "%%time\n",
    "rodCut(price1, rod1)"
   ]
  }
 ],
 "metadata": {
  "kernelspec": {
   "display_name": "Python 3",
   "language": "python",
   "name": "python3"
  },
  "language_info": {
   "codemirror_mode": {
    "name": "ipython",
    "version": 3
   },
   "file_extension": ".py",
   "mimetype": "text/x-python",
   "name": "python",
   "nbconvert_exporter": "python",
   "pygments_lexer": "ipython3",
   "version": "3.8.5"
  }
 },
 "nbformat": 4,
 "nbformat_minor": 4
}
