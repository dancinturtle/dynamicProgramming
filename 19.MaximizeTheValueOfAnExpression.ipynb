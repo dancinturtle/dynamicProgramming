{
 "cells": [
  {
   "cell_type": "markdown",
   "metadata": {},
   "source": [
    "### Maximize the value of an expression\n",
    "\n",
    "Given an array A, maximize the value of the expression `(A[s] - A[r] + A[q] - A[p]` where `p, q, r,` and `s` are indices of the array and `s > r > q > p`.\n",
    "\n",
    "For example:\n",
    "\n",
    "```\n",
    "Input: A = [3, 9, 10, 1, 30, 40]\n",
    "Output: 46\n",
    "\n",
    "40 - 1 + 10 - 3 will result in the maximum value.\n",
    "```"
   ]
  },
  {
   "cell_type": "code",
   "execution_count": 1,
   "metadata": {},
   "outputs": [],
   "source": [
    "def maxValue(arr, op=4, pos=None, total=0):\n",
    "    if pos == None:\n",
    "        pos = len(arr) - 1\n",
    "    if pos < 0 or op < 1:\n",
    "        return total\n",
    "    if op % 2 == 0:\n",
    "        if op < pos + 1:\n",
    "            return max(maxValue(arr, op-1, pos-1, total + arr[pos]), maxValue(arr, op, pos-1, total ))\n",
    "        else:\n",
    "            return maxValue(arr, op-1, pos-1, total + arr[pos])\n",
    "        \n",
    "    else:\n",
    "        if op < pos + 1:\n",
    "            return max(maxValue(arr, op-1, pos-1, total-arr[pos]), maxValue(arr, op, pos-1, total))\n",
    "        else:\n",
    "            return maxValue(arr, op-1, pos-1, total-arr[pos])\n",
    "        \n",
    "    \n",
    "    "
   ]
  },
  {
   "cell_type": "code",
   "execution_count": 6,
   "metadata": {},
   "outputs": [],
   "source": [
    "arr = [3, 9, 10, 1, 30, 40]"
   ]
  },
  {
   "cell_type": "code",
   "execution_count": 4,
   "metadata": {
    "scrolled": true
   },
   "outputs": [
    {
     "name": "stdout",
     "output_type": "stream",
     "text": [
      "CPU times: user 47 µs, sys: 1 µs, total: 48 µs\n",
      "Wall time: 52 µs\n"
     ]
    },
    {
     "data": {
      "text/plain": [
       "46"
      ]
     },
     "execution_count": 4,
     "metadata": {},
     "output_type": "execute_result"
    }
   ],
   "source": [
    "%%time\n",
    "maxValue(arr)"
   ]
  },
  {
   "cell_type": "markdown",
   "metadata": {},
   "source": [
    "### Dynamic Programming\n",
    "\n",
    "Create four lookup tables.\n",
    "\n",
    "First one stores the maximum value of `A[s]`\n",
    "\n",
    "Second one stores the maximum value of `A[s] - A[r]`\n",
    "\n",
    "Third one stores the maximum value of `A[s] - A[r] + A[q]`\n",
    "\n",
    "Fourth one stores the maximum value of `A[s] - A[r] + A[q] - A[p]`\n",
    "\n",
    "The maximum value would be present in index 0 of the fourth lookup table.\n",
    "\n",
    "Example\n",
    "```\n",
    "Input: A = [3, 9, 10, 1, 30, 40]\n",
    "\n",
    "First array stores values for possible opening elements.\n",
    "\n",
    "First: [X, X, X, 1, 30, 40]\n",
    "\n",
    "Second array stores maximum values for subtracting eligible elements. Scan for largest value in the first array after the desired element and subtract from it.\n",
    "\n",
    "Second: [X, X, 30, 39, 10, X]\n",
    "\n",
    "Third array stores maximum values for adding eligible elements. Scan for largest value in the second array after the desired element and add it.\n",
    "\n",
    "Third: [X, 48, 49, 11, X, X]\n",
    "\n",
    "Four array stores maximum values for subtracting eligible elements. Scan for largest value in the third array after the desired element and subtract from it.\n",
    "\n",
    "Fourth: [46, 40, 1, X, X]\n",
    "```"
   ]
  },
  {
   "cell_type": "code",
   "execution_count": 23,
   "metadata": {},
   "outputs": [],
   "source": [
    "def maximumExpressionDy(arr):\n",
    "    first = arr[:]\n",
    "    second = arr[:]\n",
    "    third = arr[:]\n",
    "    fourth = arr[:]\n",
    "    for i in range(2, len(arr)-1):\n",
    "        second[i] = max(first[i+1:len(first)]) - arr[i]\n",
    "   \n",
    "    for i in range(1, len(arr)-2):\n",
    "        third[i] = max(second[i+1:len(second)-1]) + arr[i]\n",
    "    \n",
    "    for i in range(len(arr)-3):\n",
    "        fourth[i] = max(third[i+1:len(third)-2]) - arr[i]\n",
    "    \n",
    "    return max(fourth[0:-3])\n",
    "        \n",
    "    "
   ]
  },
  {
   "cell_type": "code",
   "execution_count": 24,
   "metadata": {},
   "outputs": [
    {
     "name": "stdout",
     "output_type": "stream",
     "text": [
      "CPU times: user 16 µs, sys: 1 µs, total: 17 µs\n",
      "Wall time: 17.2 µs\n"
     ]
    },
    {
     "data": {
      "text/plain": [
       "46"
      ]
     },
     "execution_count": 24,
     "metadata": {},
     "output_type": "execute_result"
    }
   ],
   "source": [
    "%%time\n",
    "maximumExpressionDy(arr)"
   ]
  }
 ],
 "metadata": {
  "kernelspec": {
   "display_name": "Python 3",
   "language": "python",
   "name": "python3"
  },
  "language_info": {
   "codemirror_mode": {
    "name": "ipython",
    "version": 3
   },
   "file_extension": ".py",
   "mimetype": "text/x-python",
   "name": "python",
   "nbconvert_exporter": "python",
   "pygments_lexer": "ipython3",
   "version": "3.8.5"
  }
 },
 "nbformat": 4,
 "nbformat_minor": 4
}
