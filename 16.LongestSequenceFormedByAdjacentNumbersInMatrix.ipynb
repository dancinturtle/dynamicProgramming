{
 "cells": [
  {
   "cell_type": "markdown",
   "metadata": {},
   "source": [
    "### Find the longest sequence formed by adjacent numbers in the matrix\n",
    "\n",
    "Given an N x N matrix where each cell has a distinct value in the range 1 to N x N. Find the longest sequence formed by adjacent numbers in the matrix such that for each number, the number on the adjacent neighbor is +1 in value.\n",
    "\n",
    "If we are at location (x, y) in the matrix, we can move up, down, left, or right ((x, y+1), (x, y-1), (x+1, y) or (x-1, y)) if the value at the destination cell is one more than the value at the source cell. \n",
    "\n",
    "Example:\n",
    "```\n",
    "10     13  -  14     21     23\n",
    " |\n",
    "11     9      22     2  -   3\n",
    " |     |                    |\n",
    "12     8      1      5   -  4\n",
    "                     |\n",
    "15     24     7  -   6      20\n",
    " |\n",
    "16  -  17 -   18  -  19     25\n",
    "\n",
    "The longest sequence is 2, 3, 4, 5, 6, 7\n",
    "```"
   ]
  },
  {
   "cell_type": "code",
   "execution_count": 4,
   "metadata": {},
   "outputs": [],
   "source": [
    "def longestSequence(matrix, seq=None, row=0, col=0):\n",
    "    if seq == None:\n",
    "        seq = []\n",
    "    currSeq = []\n",
    "    cRow = row\n",
    "    cCol = col\n",
    "    sequential = True\n",
    "    h = len(matrix)\n",
    "    w = len(matrix[0])\n",
    "    while sequential:\n",
    "        val = matrix[cRow][cCol]\n",
    "        currSeq.append(val)\n",
    "        # down\n",
    "        if cRow < h-1 and matrix[cRow+1][cCol] == val+1:\n",
    "            cRow += 1\n",
    "        # left\n",
    "        elif cCol > 0 and matrix[cRow][cCol-1] == val+1:\n",
    "            cCol -= 1\n",
    "        # up\n",
    "        elif cRow > 0 and matrix[cRow-1][cCol] == val+1:\n",
    "            cRow -= 1\n",
    "        # right\n",
    "        elif cCol < w-1 and matrix[cRow][cCol+1] == val+1:\n",
    "            cCol += 1\n",
    "        else:\n",
    "            sequential = False\n",
    "    if len(currSeq) > len(seq):\n",
    "        seq = currSeq\n",
    "    if col < w-1:\n",
    "        return longestSequence(matrix, seq, row, col+1)\n",
    "    elif row < h-1:\n",
    "        return longestSequence(matrix, seq, row+1, 0)\n",
    "    return seq"
   ]
  },
  {
   "cell_type": "code",
   "execution_count": 2,
   "metadata": {},
   "outputs": [],
   "source": [
    "matrix = [\n",
    "    [10,13,14,21,23],\n",
    "    [11,9,22,2,3],\n",
    "    [12,8,1,5,4],\n",
    "    [15,24,7,6,20],\n",
    "    [16,17,18,19,25]\n",
    "]"
   ]
  },
  {
   "cell_type": "code",
   "execution_count": 6,
   "metadata": {
    "scrolled": true
   },
   "outputs": [
    {
     "name": "stdout",
     "output_type": "stream",
     "text": [
      "CPU times: user 59 µs, sys: 19 µs, total: 78 µs\n",
      "Wall time: 81.1 µs\n"
     ]
    },
    {
     "data": {
      "text/plain": [
       "[2, 3, 4, 5, 6, 7]"
      ]
     },
     "execution_count": 6,
     "metadata": {},
     "output_type": "execute_result"
    }
   ],
   "source": [
    "%%time\n",
    "longestSequence(matrix)"
   ]
  },
  {
   "cell_type": "markdown",
   "metadata": {},
   "source": [
    "#### With a lookup table\n",
    "\n",
    "Since the above solution resolves the same problem repeatedly, use a lookup table to remember the solutions we get in case we're asked to do it again."
   ]
  },
  {
   "cell_type": "code",
   "execution_count": 15,
   "metadata": {},
   "outputs": [
    {
     "data": {
      "text/plain": [
       "[1, 2, 3, 4, 5, 6]"
      ]
     },
     "execution_count": 15,
     "metadata": {},
     "output_type": "execute_result"
    }
   ],
   "source": [
    "a = [1,2,3]\n",
    "b = [4,5,6]\n",
    "a.extend(b)\n",
    "a"
   ]
  },
  {
   "cell_type": "code",
   "execution_count": 19,
   "metadata": {},
   "outputs": [],
   "source": [
    "def longestSequenceDy(matrix, seq=None, lookup=None, row=0, col=0):\n",
    "    if seq == None:\n",
    "        seq = []\n",
    "    if lookup == None:\n",
    "        lookup = {}\n",
    "   \n",
    "    currSeq = []\n",
    "    cRow = row\n",
    "    cCol = col\n",
    "    sequential = True\n",
    "    h = len(matrix)\n",
    "    w = len(matrix[0])\n",
    "    while sequential:\n",
    "        key = f'{cRow}-{cCol}'\n",
    "        if lookup.get(key):\n",
    "            currSeq.extend(lookup[key])\n",
    "            break\n",
    "        val = matrix[cRow][cCol]\n",
    "        currSeq.append(val)\n",
    "        lookup[key] = currSeq\n",
    "        # down\n",
    "        if cRow < h-1 and matrix[cRow+1][cCol] == val+1:\n",
    "            cRow += 1\n",
    "        # left\n",
    "        elif cCol > 0 and matrix[cRow][cCol-1] == val+1:\n",
    "            cCol -= 1\n",
    "        # up\n",
    "        elif cRow > 0 and matrix[cRow-1][cCol] == val+1:\n",
    "            cRow -= 1\n",
    "        # right\n",
    "        elif cCol < w-1 and matrix[cRow][cCol+1] == val+1:\n",
    "            cCol += 1\n",
    "        else:\n",
    "            sequential = False\n",
    "    if len(currSeq) > len(seq):\n",
    "        seq = currSeq\n",
    "    if col < w-1:\n",
    "        return longestSequenceDy(matrix, seq, lookup, row, col+1)\n",
    "    elif row < h-1:\n",
    "        return longestSequenceDy(matrix, seq, lookup, row+1, 0)\n",
    "    return seq"
   ]
  },
  {
   "cell_type": "code",
   "execution_count": 20,
   "metadata": {
    "scrolled": false
   },
   "outputs": [
    {
     "name": "stdout",
     "output_type": "stream",
     "text": [
      "CPU times: user 82 µs, sys: 1 µs, total: 83 µs\n",
      "Wall time: 85.1 µs\n"
     ]
    },
    {
     "data": {
      "text/plain": [
       "[2, 3, 4, 5, 6, 7]"
      ]
     },
     "execution_count": 20,
     "metadata": {},
     "output_type": "execute_result"
    }
   ],
   "source": [
    "%%time\n",
    "longestSequenceDy(matrix)"
   ]
  },
  {
   "cell_type": "code",
   "execution_count": 21,
   "metadata": {},
   "outputs": [],
   "source": [
    "matrix2 = [\n",
    "    [11,10,9,23,24],\n",
    "    [12,7,8,1,22],\n",
    "    [13,6,25,2,21],\n",
    "    [14,5,4,3,20],\n",
    "    [15,16,17,18,19]\n",
    "]"
   ]
  },
  {
   "cell_type": "code",
   "execution_count": 22,
   "metadata": {},
   "outputs": [
    {
     "name": "stdout",
     "output_type": "stream",
     "text": [
      "CPU times: user 82 µs, sys: 7 µs, total: 89 µs\n",
      "Wall time: 92 µs\n"
     ]
    },
    {
     "data": {
      "text/plain": [
       "[1, 2, 3, 4, 5, 6, 7, 8, 9, 10, 11, 12, 13, 14, 15, 16, 17, 18, 19, 20, 21, 22]"
      ]
     },
     "execution_count": 22,
     "metadata": {},
     "output_type": "execute_result"
    }
   ],
   "source": [
    "%%time\n",
    "longestSequenceDy(matrix2)"
   ]
  }
 ],
 "metadata": {
  "kernelspec": {
   "display_name": "Python 3",
   "language": "python",
   "name": "python3"
  },
  "language_info": {
   "codemirror_mode": {
    "name": "ipython",
    "version": 3
   },
   "file_extension": ".py",
   "mimetype": "text/x-python",
   "name": "python",
   "nbconvert_exporter": "python",
   "pygments_lexer": "ipython3",
   "version": "3.8.5"
  }
 },
 "nbformat": 4,
 "nbformat_minor": 4
}
