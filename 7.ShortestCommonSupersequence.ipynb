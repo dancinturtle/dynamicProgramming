{
 "cells": [
  {
   "cell_type": "markdown",
   "metadata": {},
   "source": [
    "### Shortest Common Supersequence\n",
    "\n",
    "The shortest common supersequence (SCS) is finding the shortest supersequence Z of given sequences X and Y such that both X and Y are subsequences of Z.\n",
    "\n",
    "Example:\n",
    "\n",
    "```\n",
    "X: ABCBDAB\n",
    "Y: BDCABA\n",
    "\n",
    "Length of the SCS is 9.\n",
    "The SCS are ABCBDCABA, ABDCABDAB, and ABDCBDABA\n",
    "```\n",
    "\n",
    "This problem has optimal substructure. The problem can be repeatedly broken down into smaller, simple subproblems until the solution becomes trivial.\n",
    "\n",
    "1. Consider two sequences that end in the same element. Shorten each sequence by removing the last element, find the SCS of the shortened sequences, and then append the removed element.\n",
    "\n",
    "``` \n",
    "CCBA and CDBA\n",
    "Find SCS of CCB and CDB and append A\n",
    "```\n",
    "\n",
    "2. Consider two sequences that do not end in the same element. The SCS will end with either of the two final characters, so remove the last character from one sequence and find the SCS of that and the other, and append the removed character. Do the same with the other sequence, and choose the shorter of the two.\n",
    "\n",
    "``` \n",
    "CCBA and CCB\n",
    "Find shorter SCS of CCBA and CC with B appended and of CCB and CC with A appended.\n",
    "```"
   ]
  },
  {
   "cell_type": "code",
   "execution_count": 2,
   "metadata": {},
   "outputs": [],
   "source": [
    "\"\"\"\n",
    "With just recursion\n",
    "\"\"\"\n",
    "def shortestCommonSupRec(s1, s2, sup=0):\n",
    "    if len(s1) == 0 or len(s2) == 0:\n",
    "        return sup + max(len(s1), len(s2))\n",
    "    if s1[-1] == s2[-1]:\n",
    "        return shortestCommonSupRec(s1[:-1], s2[:-1]) + 1\n",
    "    return min(shortestCommonSupRec(s1[:-1], s2), shortestCommonSupRec(s1, s2[:-1])) + 1"
   ]
  },
  {
   "cell_type": "code",
   "execution_count": 10,
   "metadata": {},
   "outputs": [],
   "source": [
    "s1 = \"ABCBDAB\"\n",
    "s2 = \"BDCABA\"\n",
    "s3 = \"ABCBDBABADABSABASD\"\n",
    "s4 = \"BASDVASBAADASBASDAB\""
   ]
  },
  {
   "cell_type": "code",
   "execution_count": 11,
   "metadata": {},
   "outputs": [
    {
     "name": "stdout",
     "output_type": "stream",
     "text": [
      "CPU times: user 164 µs, sys: 22 µs, total: 186 µs\n",
      "Wall time: 191 µs\n"
     ]
    },
    {
     "data": {
      "text/plain": [
       "9"
      ]
     },
     "execution_count": 11,
     "metadata": {},
     "output_type": "execute_result"
    }
   ],
   "source": [
    "%%time\n",
    "shortestCommonSupRec(s1, s2)"
   ]
  },
  {
   "cell_type": "code",
   "execution_count": 12,
   "metadata": {},
   "outputs": [
    {
     "name": "stdout",
     "output_type": "stream",
     "text": [
      "CPU times: user 5.31 s, sys: 22.5 ms, total: 5.34 s\n",
      "Wall time: 5.4 s\n"
     ]
    },
    {
     "data": {
      "text/plain": [
       "25"
      ]
     },
     "execution_count": 12,
     "metadata": {},
     "output_type": "execute_result"
    }
   ],
   "source": [
    "%%time\n",
    "shortestCommonSupRec(s3, s4)"
   ]
  },
  {
   "cell_type": "markdown",
   "metadata": {},
   "source": [
    "To reduce runtime, we'll use a lookup table to remember our results for when our two sequences are of certain lengths."
   ]
  },
  {
   "cell_type": "code",
   "execution_count": 25,
   "metadata": {},
   "outputs": [],
   "source": [
    "def shortestCommonSupDy(s1, s2, lookup=None):\n",
    "    if lookup == None:\n",
    "        lookup = {}\n",
    "    m = len(s1)\n",
    "    n = len(s2)s\n",
    "    if lookup.get(f'{m}-{n}'):\n",
    "        return lookup[f'{m}-{n}']\n",
    "    # key does not exist in lookup, have to assign it\n",
    "    if m == 0 or n == 0:\n",
    "        lookup[f'{m}-{n}'] = max(m, n)\n",
    "    elif s1[-1] == s2[-1]:\n",
    "        truncated = shortestCommonSupDy(s1[:-1], s2[:-1], lookup)\n",
    "        lookup[f'{m}-{n}'] = truncated + 1\n",
    "    else:\n",
    "        truncated = min(shortestCommonSupDy(s1[:-1], s2, lookup), shortestCommonSupDy(s1, s2[:-1], lookup))\n",
    "        lookup[f'{m}-{n}'] = truncated + 1\n",
    "    return lookup[f'{m}-{n}']\n",
    "        "
   ]
  },
  {
   "cell_type": "code",
   "execution_count": 26,
   "metadata": {},
   "outputs": [
    {
     "name": "stdout",
     "output_type": "stream",
     "text": [
      "CPU times: user 97 µs, sys: 1e+03 ns, total: 98 µs\n",
      "Wall time: 99.9 µs\n"
     ]
    },
    {
     "data": {
      "text/plain": [
       "9"
      ]
     },
     "execution_count": 26,
     "metadata": {},
     "output_type": "execute_result"
    }
   ],
   "source": [
    "%%time\n",
    "shortestCommonSupDy(s1, s2)"
   ]
  },
  {
   "cell_type": "code",
   "execution_count": 27,
   "metadata": {},
   "outputs": [
    {
     "name": "stdout",
     "output_type": "stream",
     "text": [
      "CPU times: user 1.16 ms, sys: 1e+03 ns, total: 1.16 ms\n",
      "Wall time: 1.17 ms\n"
     ]
    },
    {
     "data": {
      "text/plain": [
       "25"
      ]
     },
     "execution_count": 27,
     "metadata": {},
     "output_type": "execute_result"
    }
   ],
   "source": [
    "%%time\n",
    "shortestCommonSupDy(s3, s4)"
   ]
  },
  {
   "cell_type": "markdown",
   "metadata": {},
   "source": [
    "### Bottom up approach\n",
    "\n",
    "With the bottom up approach, we'll make a grid so we can build up from smaller sequences up to our given sequences.\n",
    "\n",
    "We know that if we just had one sequence, then the supersequence would be the same as that sequence. So that establishes our first row and column as we build those first sequences from 0 characters up to the given number of characters.\n",
    "\n",
    "From there, we move into the grid. So we start by comparing the first letter of each sequence. If they match, we just need the result from when both sequences didn't have that letter and add 1 (look to upper left answer, and add 1).\n",
    "\n",
    "If they don't match, take the minimum supersequence from each sequence having that letter removed (left and upper) and add 1. Final answer is in the bottom right corner.\n",
    "\n",
    "```\n",
    "            A    B    C   B   C   B\n",
    "         0  1    2    3   4   5   6  \n",
    "     B   1  2    2    3   4   5   6\n",
    "     C   2  3    3    3   4   5   6\n",
    "     C   3  3    4    4   5   5   6   \n",
    "     A   4  4    4    5   6   6   7\n",
    "```"
   ]
  },
  {
   "cell_type": "code",
   "execution_count": 32,
   "metadata": {},
   "outputs": [],
   "source": [
    "def shortestCommonSupDyBU(s1, s2):\n",
    "    lookup = [[0] * (len(s1) + 1) for _ in range(len(s2) + 1)]\n",
    "    # start off the first row and first column\n",
    "    for r in range(len(lookup[0])):\n",
    "        lookup[0][r] = r\n",
    "    for c in range(len(lookup)):\n",
    "        lookup[c][0] = c\n",
    "    # fill in the rest of the lookup table by comparing characters of the two sequences\n",
    "    for row in range(1, len(lookup)):\n",
    "        for col in range(1, len(lookup[0])):\n",
    "            if s1[col - 1] == s2[row - 1]:\n",
    "                lookup[row][col] = lookup[row - 1][col - 1] + 1\n",
    "            else:\n",
    "                lookup[row][col] = min(lookup[row][col - 1], lookup[row - 1][col]) + 1\n",
    "    return lookup[-1][-1]"
   ]
  },
  {
   "cell_type": "code",
   "execution_count": 34,
   "metadata": {
    "scrolled": true
   },
   "outputs": [
    {
     "name": "stdout",
     "output_type": "stream",
     "text": [
      "CPU times: user 41 µs, sys: 1e+03 ns, total: 42 µs\n",
      "Wall time: 56.3 µs\n"
     ]
    },
    {
     "data": {
      "text/plain": [
       "9"
      ]
     },
     "execution_count": 34,
     "metadata": {},
     "output_type": "execute_result"
    }
   ],
   "source": [
    "%%time\n",
    "shortestCommonSupDyBU(s1, s2)"
   ]
  },
  {
   "cell_type": "code",
   "execution_count": 35,
   "metadata": {},
   "outputs": [
    {
     "name": "stdout",
     "output_type": "stream",
     "text": [
      "CPU times: user 207 µs, sys: 1e+03 ns, total: 208 µs\n",
      "Wall time: 211 µs\n"
     ]
    },
    {
     "data": {
      "text/plain": [
       "25"
      ]
     },
     "execution_count": 35,
     "metadata": {},
     "output_type": "execute_result"
    }
   ],
   "source": [
    "%%time\n",
    "shortestCommonSupDyBU(s3, s4)"
   ]
  }
 ],
 "metadata": {
  "kernelspec": {
   "display_name": "Python 3",
   "language": "python",
   "name": "python3"
  },
  "language_info": {
   "codemirror_mode": {
    "name": "ipython",
    "version": 3
   },
   "file_extension": ".py",
   "mimetype": "text/x-python",
   "name": "python",
   "nbconvert_exporter": "python",
   "pygments_lexer": "ipython3",
   "version": "3.8.5"
  }
 },
 "nbformat": 4,
 "nbformat_minor": 4
}
