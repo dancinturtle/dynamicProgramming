{
 "cells": [
  {
   "cell_type": "markdown",
   "metadata": {},
   "source": [
    "### Longest Bitonic Subsequence\n",
    "\n",
    "The longest bitonic subsequence problem is to find a subsequence of a given sequence in which the subsequence's elements are first sorted in increasing order, then in dereasing order, and the subsequence is as long as possible.\n",
    "\n",
    "Example:\n",
    "\n",
    "    Given sequence is [4, 2, 5, 9, 7, 6, 10, 3, 1]\n",
    "    Longest bitonic subsequence is [4, 5, 9, 7, 6, 3, 1]\n",
    " \n",
    "For sequences sorted in increasing or decreasing order, the output is the same as the input sequence.\n",
    "\n",
    "Example:\n",
    "\n",
    "    [1, 2, 3, 4, 5] -> [1, 2, 3, 4, 5]\n",
    "    [5, 4, 3, 2, 1] -> [5, 4, 3, 2, 1]\n",
    "    \n",
    "We already know how to get the longest increasing subsequence from problem 9. We can do the same to get the longest decreasing subsequence. \n",
    "\n",
    "Tweak this so that we get the longest increasing subsequence ending at each position and the longest decreasing subsequence starting at each position.\n",
    "\n",
    "We then can find the max of these two subsequences added together."
   ]
  },
  {
   "cell_type": "code",
   "execution_count": 122,
   "metadata": {},
   "outputs": [],
   "source": [
    "seq1 = [4, 2, 5, 9, 7, 6, 10, 3, 1]\n",
    "seq2 = [12,13,99,21,35,8,3,76,55,42,11,6,27,16,45,482,351,299,645,868,225,131,431,637,886]"
   ]
  },
  {
   "cell_type": "code",
   "execution_count": 22,
   "metadata": {},
   "outputs": [],
   "source": [
    "\"\"\"\n",
    "the output is how long each subsequence is if we were to stop \n",
    "and include the value at the given position\n",
    "\"\"\"\n",
    "def longestIncreasingLengthMem(arr):\n",
    "    output = [1]\n",
    "    for i in range(1, len(arr)):\n",
    "        maxLength = 0\n",
    "        for j in range(0, i):\n",
    "            if arr[j] < arr[i] and output[j] > maxLength:\n",
    "                maxLength = output[j]\n",
    "        output.append(maxLength + 1)\n",
    "    return output"
   ]
  },
  {
   "cell_type": "code",
   "execution_count": 23,
   "metadata": {},
   "outputs": [],
   "source": [
    "\"\"\"\n",
    "the output is how long each subsequence is if we were to start and \n",
    "include the value at the given position\n",
    "\"\"\"\n",
    "\n",
    "def longestDecreasingLengthMem(arr):\n",
    "    output = [1]\n",
    "    m = len(arr)\n",
    "    for i in range(2, m + 1):\n",
    "        maxLength = 0\n",
    "        for j in range(0, i):\n",
    "            if arr[m - 1 - j] < arr[m - i] and output[j] > maxLength:\n",
    "                maxLength = output[j]\n",
    "        output.append(maxLength + 1)\n",
    "    return output[::-1]"
   ]
  },
  {
   "cell_type": "code",
   "execution_count": 125,
   "metadata": {},
   "outputs": [],
   "source": [
    "def longestBitonicLength(arr):\n",
    "    increasing = longestIncreasingLengthMem(arr)\n",
    "    decreasing = longestDecreasingLengthMem(arr)\n",
    "    bitonic_lengths = [increasing[i] + decreasing[i] for i in range(len(arr))]\n",
    "    return max(bitonic_lengths) - 1"
   ]
  },
  {
   "cell_type": "code",
   "execution_count": 105,
   "metadata": {},
   "outputs": [
    {
     "name": "stdout",
     "output_type": "stream",
     "text": [
      "[4, 3, 5, 8, 7, 6, 7, 4, 2]\n",
      "CPU times: user 214 µs, sys: 91 µs, total: 305 µs\n",
      "Wall time: 260 µs\n"
     ]
    },
    {
     "data": {
      "text/plain": [
       "7"
      ]
     },
     "execution_count": 105,
     "metadata": {},
     "output_type": "execute_result"
    }
   ],
   "source": [
    "%%time\n",
    "longestBitonicLength(seq1)"
   ]
  },
  {
   "cell_type": "code",
   "execution_count": 126,
   "metadata": {},
   "outputs": [
    {
     "name": "stdout",
     "output_type": "stream",
     "text": [
      "CPU times: user 225 µs, sys: 1 µs, total: 226 µs\n",
      "Wall time: 231 µs\n"
     ]
    },
    {
     "data": {
      "text/plain": [
       "11"
      ]
     },
     "execution_count": 126,
     "metadata": {},
     "output_type": "execute_result"
    }
   ],
   "source": [
    "%%time\n",
    "longestBitonicLength(seq2)"
   ]
  },
  {
   "cell_type": "markdown",
   "metadata": {},
   "source": [
    "#### If we want the actual sequence, not just the length\n",
    "\n",
    "We'll have to store the subsequences as we search for the longest increasing and longest decreasing subsequences, not just the lengths."
   ]
  },
  {
   "cell_type": "code",
   "execution_count": 30,
   "metadata": {},
   "outputs": [],
   "source": [
    "def longestIncreasing(arr):\n",
    "    output = [[arr[0]]]\n",
    "    for i in range(1, len(arr)):\n",
    "        maxLength = 0\n",
    "        maxPos = -1\n",
    "        for j in range(0, i):\n",
    "            if arr[j] < arr[i] and len(output[j]) > maxLength:\n",
    "                maxLength = len(output[j])\n",
    "                maxPos = j\n",
    "        if maxPos == -1:\n",
    "            output.append([arr[i]])\n",
    "        else:\n",
    "            max_sub = output[maxPos][:]\n",
    "            max_sub.append(arr[i])\n",
    "            output.append(max_sub)\n",
    "    return output"
   ]
  },
  {
   "cell_type": "code",
   "execution_count": 67,
   "metadata": {},
   "outputs": [],
   "source": [
    "def longestDecreasing(arr):\n",
    "    m = len(arr)\n",
    "    output = [[arr[m - 1]]]\n",
    "    for i in range(2, m + 1):\n",
    "        maxLength = 0\n",
    "        maxPos = -1\n",
    "        for j in range(0, i):\n",
    "            if arr[m - 1 - j] < arr[m - i] and len(output[j]) > maxLength:\n",
    "                maxLength = len(output[j])\n",
    "                maxPos = j\n",
    "        if maxPos == -1:\n",
    "            output.append([arr[m - i]])\n",
    "        else:\n",
    "            max_sub = output[maxPos][:]\n",
    "            max_sub.insert(0, arr[m - i])\n",
    "            output.append(max_sub)\n",
    "    return output[::-1]\n",
    "        \n",
    "    "
   ]
  },
  {
   "cell_type": "code",
   "execution_count": 69,
   "metadata": {},
   "outputs": [],
   "source": [
    "def longestBitonic(arr):\n",
    "    increasing = longestIncreasing(arr)\n",
    "    decreasing = longestDecreasing(arr)\n",
    "    bitonicLengths = [(len(increasing[i]) + len(decreasing[i]) - 1) for i in range(len(arr))]\n",
    "    max_bitonic = max(bitonicLengths)\n",
    "    max_pos = bitonicLengths.index(max_bitonic)\n",
    "    increasing[max_pos].extend(decreasing[max_pos][1:])\n",
    "    return increasing[max_pos]"
   ]
  },
  {
   "cell_type": "code",
   "execution_count": 118,
   "metadata": {
    "scrolled": true
   },
   "outputs": [
    {
     "name": "stdout",
     "output_type": "stream",
     "text": [
      "CPU times: user 51 µs, sys: 12 µs, total: 63 µs\n",
      "Wall time: 65.1 µs\n"
     ]
    },
    {
     "data": {
      "text/plain": [
       "[4, 5, 9, 7, 6, 3, 1]"
      ]
     },
     "execution_count": 118,
     "metadata": {},
     "output_type": "execute_result"
    }
   ],
   "source": [
    "%%time\n",
    "longestBitonic(seq1)"
   ]
  },
  {
   "cell_type": "code",
   "execution_count": 128,
   "metadata": {},
   "outputs": [
    {
     "name": "stdout",
     "output_type": "stream",
     "text": [
      "CPU times: user 183 µs, sys: 17 µs, total: 200 µs\n",
      "Wall time: 203 µs\n"
     ]
    },
    {
     "data": {
      "text/plain": [
       "[12, 13, 21, 35, 42, 45, 482, 351, 299, 225, 131]"
      ]
     },
     "execution_count": 128,
     "metadata": {},
     "output_type": "execute_result"
    }
   ],
   "source": [
    "%%time\n",
    "longestBitonic(seq2)"
   ]
  },
  {
   "cell_type": "markdown",
   "metadata": {},
   "source": [
    "#### With classic recursion\n",
    "\n",
    "With any given value, we have a number of things to decide.\n",
    "\n",
    "1. Are we increasing? Shall we continue to increase?\n",
    "2. Can this value be added? Shall we add it?\n",
    "\n",
    "We try all of our options and call the next iteration, taking the largest value returned."
   ]
  },
  {
   "cell_type": "code",
   "execution_count": 86,
   "metadata": {},
   "outputs": [],
   "source": [
    "def bitonic_helper(arr, pos, ap_sub, sub):\n",
    "    return max(\n",
    "        bitonic(arr, True, pos, ap_sub),\n",
    "        bitonic(arr, True, pos, sub),\n",
    "        bitonic(arr, False, pos, ap_sub),\n",
    "        bitonic(arr, False, pos, sub)\n",
    "    )"
   ]
  },
  {
   "cell_type": "code",
   "execution_count": 101,
   "metadata": {},
   "outputs": [],
   "source": [
    "def bitonic(arr, inc=True, pos=0, sub=None):\n",
    "    if sub == None:\n",
    "        sub = []\n",
    "    if pos >= len(arr):\n",
    "        return len(sub)\n",
    "    if pos == 0:\n",
    "        ap_sub = sub[:]\n",
    "        ap_sub.append(arr[0])\n",
    "        return bitonic_helper(arr, pos+1, ap_sub, sub)\n",
    "    if inc == True:\n",
    "        if len(sub) == 0 or arr[pos] > sub[-1]:\n",
    "            ap_sub = sub[:]\n",
    "            ap_sub.append(arr[pos])\n",
    "            return bitonic_helper(arr, pos+1, ap_sub, sub)\n",
    "        return max(\n",
    "            bitonic(arr, True, pos+1, sub),\n",
    "            bitonic(arr, False, pos+1, sub)\n",
    "        )\n",
    "    else:\n",
    "        if len(sub) == 0 or arr[pos] < sub[-1]:\n",
    "            ap_sub = sub[:]\n",
    "            ap_sub.append(arr[pos])\n",
    "            return max(\n",
    "                bitonic(arr, False, pos+1, sub),\n",
    "                bitonic(arr, False, pos+1, ap_sub)\n",
    "            )\n",
    "        return bitonic(arr, False, pos+1, sub)\n",
    "    \n",
    "    "
   ]
  },
  {
   "cell_type": "code",
   "execution_count": 104,
   "metadata": {},
   "outputs": [
    {
     "name": "stdout",
     "output_type": "stream",
     "text": [
      "CPU times: user 857 µs, sys: 0 ns, total: 857 µs\n",
      "Wall time: 862 µs\n"
     ]
    },
    {
     "data": {
      "text/plain": [
       "7"
      ]
     },
     "execution_count": 104,
     "metadata": {},
     "output_type": "execute_result"
    }
   ],
   "source": [
    "%%time\n",
    "bitonic(seq1)"
   ]
  },
  {
   "cell_type": "code",
   "execution_count": 124,
   "metadata": {},
   "outputs": [
    {
     "name": "stdout",
     "output_type": "stream",
     "text": [
      "CPU times: user 156 ms, sys: 2.49 ms, total: 158 ms\n",
      "Wall time: 160 ms\n"
     ]
    },
    {
     "data": {
      "text/plain": [
       "11"
      ]
     },
     "execution_count": 124,
     "metadata": {},
     "output_type": "execute_result"
    }
   ],
   "source": [
    "%%time\n",
    "bitonic(seq2)"
   ]
  },
  {
   "cell_type": "code",
   "execution_count": 114,
   "metadata": {},
   "outputs": [],
   "source": [
    "def bitonicSequenceHelper(arr, pos, ap_sub, sub):\n",
    "    inc_ap = bitonicSequence(arr, True, pos, ap_sub)\n",
    "    inc_sub = bitonicSequence(arr, True, pos, sub)\n",
    "    dec_ap = bitonicSequence(arr, False, pos, ap_sub)\n",
    "    dec_sub = bitonicSequence(arr, False, pos, sub)\n",
    "    sequences = [inc_ap, inc_sub, dec_ap, dec_sub]\n",
    "    seq = max(sequences, key=len)\n",
    "    return seq"
   ]
  },
  {
   "cell_type": "code",
   "execution_count": 115,
   "metadata": {},
   "outputs": [],
   "source": [
    "def bitonicSequence(arr, inc=True, pos=0, sub=None):\n",
    "    if sub == None:\n",
    "        sub = []\n",
    "    if pos >= len(arr):\n",
    "        return sub\n",
    "    if pos == 0:\n",
    "        ap_sub = sub[:]\n",
    "        ap_sub.append(arr[0])\n",
    "        return bitonicSequenceHelper(arr, pos+1, ap_sub, sub)\n",
    "    if inc == True:\n",
    "        if len(sub) == 0 or arr[pos] > sub[-1]:\n",
    "            ap_sub = sub[:]\n",
    "            ap_sub.append(arr[pos])\n",
    "            return bitonicSequenceHelper(arr, pos+1, ap_sub, sub)\n",
    "        return max(\n",
    "            [bitonicSequence(arr, True, pos+1, sub),\n",
    "            bitonicSequence(arr, False, pos+1, sub)], key=len\n",
    "        )\n",
    "    else:\n",
    "        if len(sub) == 0 or arr[pos] < sub[-1]:\n",
    "            ap_sub = sub[:]\n",
    "            ap_sub.append(arr[pos])\n",
    "            return max(\n",
    "                [bitonicSequence(arr, False, pos+1, sub),\n",
    "                bitonicSequence(arr, False, pos+1, ap_sub)], key=len\n",
    "            )\n",
    "        return bitonicSequence(arr, False, pos+1, sub)"
   ]
  },
  {
   "cell_type": "code",
   "execution_count": 117,
   "metadata": {},
   "outputs": [
    {
     "name": "stdout",
     "output_type": "stream",
     "text": [
      "CPU times: user 1.25 ms, sys: 1 µs, total: 1.25 ms\n",
      "Wall time: 1.25 ms\n"
     ]
    },
    {
     "data": {
      "text/plain": [
       "[4, 5, 9, 7, 6, 3, 1]"
      ]
     },
     "execution_count": 117,
     "metadata": {},
     "output_type": "execute_result"
    }
   ],
   "source": [
    "%%time\n",
    "bitonicSequence(seq1)"
   ]
  },
  {
   "cell_type": "code",
   "execution_count": 127,
   "metadata": {},
   "outputs": [
    {
     "name": "stdout",
     "output_type": "stream",
     "text": [
      "CPU times: user 170 ms, sys: 2.92 ms, total: 173 ms\n",
      "Wall time: 173 ms\n"
     ]
    },
    {
     "data": {
      "text/plain": [
       "[12, 13, 21, 35, 42, 45, 482, 645, 868, 225, 131]"
      ]
     },
     "execution_count": 127,
     "metadata": {},
     "output_type": "execute_result"
    }
   ],
   "source": [
    "%%time\n",
    "bitonicSequence(seq2)"
   ]
  }
 ],
 "metadata": {
  "kernelspec": {
   "display_name": "Python 3",
   "language": "python",
   "name": "python3"
  },
  "language_info": {
   "codemirror_mode": {
    "name": "ipython",
    "version": 3
   },
   "file_extension": ".py",
   "mimetype": "text/x-python",
   "name": "python",
   "nbconvert_exporter": "python",
   "pygments_lexer": "ipython3",
   "version": "3.8.5"
  }
 },
 "nbformat": 4,
 "nbformat_minor": 4
}
