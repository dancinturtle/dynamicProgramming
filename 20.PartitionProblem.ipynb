{
 "cells": [
  {
   "cell_type": "markdown",
   "metadata": {},
   "source": [
    "### Partition Problem\n",
    "\n",
    "Given a set of positive integers, find if it can be divided into two subsets with equal sum. Return true or false.\n",
    "\n",
    "Example:\n",
    "\n",
    "```\n",
    "S = {3, 1, 1, 2, 2, 1}\n",
    "We can partition S into two partitions, each having a sum of 5.\n",
    "S1 = {1, 1, 1, 2}\n",
    "S2 = {2, 3}\n",
    "\n",
    "Another solution:\n",
    "S1 = {3, 1, 1}\n",
    "S2 = {2, 2, 1}\n",
    "```"
   ]
  },
  {
   "cell_type": "code",
   "execution_count": 1,
   "metadata": {},
   "outputs": [
    {
     "data": {
      "text/plain": [
       "False"
      ]
     },
     "execution_count": 1,
     "metadata": {},
     "output_type": "execute_result"
    }
   ],
   "source": [
    "a = False\n",
    "b = False\n",
    "a == True or b == True"
   ]
  },
  {
   "cell_type": "code",
   "execution_count": 2,
   "metadata": {},
   "outputs": [],
   "source": [
    "def partition(arr, half=None, pos=0):\n",
    "    if half == None:\n",
    "        total = sum(arr)\n",
    "        if total % 2 == 1:\n",
    "            return False\n",
    "        half = total / 2\n",
    "    if half == 0:\n",
    "        return True\n",
    "    if pos >= len(arr):\n",
    "        return False\n",
    "    inc = partition(arr, half-arr[pos], pos + 1)\n",
    "    exc = partition(arr, half, pos + 1)\n",
    "    return inc == True or exc == True"
   ]
  },
  {
   "cell_type": "code",
   "execution_count": 3,
   "metadata": {},
   "outputs": [],
   "source": [
    "given = [3, 1, 1, 2, 2, 1]\n",
    "b = [3, 1, 1, 2, 2, 1, 4, 10, 10, 8, 80]\n",
    "c = [7, 3, 1, 5, 4, 8]"
   ]
  },
  {
   "cell_type": "code",
   "execution_count": 4,
   "metadata": {},
   "outputs": [
    {
     "name": "stdout",
     "output_type": "stream",
     "text": [
      "CPU times: user 790 µs, sys: 1.47 ms, total: 2.26 ms\n",
      "Wall time: 3.12 ms\n"
     ]
    },
    {
     "data": {
      "text/plain": [
       "True"
      ]
     },
     "execution_count": 4,
     "metadata": {},
     "output_type": "execute_result"
    }
   ],
   "source": [
    "%%time\n",
    "partition(given)"
   ]
  },
  {
   "cell_type": "code",
   "execution_count": 5,
   "metadata": {},
   "outputs": [
    {
     "name": "stdout",
     "output_type": "stream",
     "text": [
      "CPU times: user 2.08 ms, sys: 1 µs, total: 2.08 ms\n",
      "Wall time: 2.09 ms\n"
     ]
    },
    {
     "data": {
      "text/plain": [
       "False"
      ]
     },
     "execution_count": 5,
     "metadata": {},
     "output_type": "execute_result"
    }
   ],
   "source": [
    "%%time\n",
    "partition(b)"
   ]
  },
  {
   "cell_type": "code",
   "execution_count": 6,
   "metadata": {},
   "outputs": [],
   "source": [
    "def partitionMemo(arr, half=None, pos=0, lookup=None):\n",
    "    if half == None:\n",
    "        total = sum(arr)\n",
    "        if total % 2 == 1:\n",
    "            return False\n",
    "        half = total / 2\n",
    "    if lookup == None:\n",
    "        lookup = {}\n",
    "    key = f'{half}-{pos}'\n",
    "    if lookup.get(key):\n",
    "        \n",
    "        return lookup[key]\n",
    "    if half == 0:\n",
    "        lookup[key] = True\n",
    "    elif pos >= len(arr):\n",
    "        lookup[key] = False\n",
    "    else:\n",
    "        inc = partitionMemo(arr, half-arr[pos], pos+1, lookup)\n",
    "        exc = partitionMemo(arr, half, pos+1, lookup)\n",
    "        lookup[key] = inc == True or exc == True\n",
    "    return lookup[key]"
   ]
  },
  {
   "cell_type": "code",
   "execution_count": 7,
   "metadata": {},
   "outputs": [
    {
     "name": "stdout",
     "output_type": "stream",
     "text": [
      "CPU times: user 125 µs, sys: 7 µs, total: 132 µs\n",
      "Wall time: 135 µs\n"
     ]
    },
    {
     "data": {
      "text/plain": [
       "True"
      ]
     },
     "execution_count": 7,
     "metadata": {},
     "output_type": "execute_result"
    }
   ],
   "source": [
    "%%time\n",
    "partitionMemo(given)"
   ]
  },
  {
   "cell_type": "code",
   "execution_count": 8,
   "metadata": {
    "scrolled": true
   },
   "outputs": [
    {
     "name": "stdout",
     "output_type": "stream",
     "text": [
      "CPU times: user 7.79 ms, sys: 481 µs, total: 8.27 ms\n",
      "Wall time: 8.27 ms\n"
     ]
    },
    {
     "data": {
      "text/plain": [
       "False"
      ]
     },
     "execution_count": 8,
     "metadata": {},
     "output_type": "execute_result"
    }
   ],
   "source": [
    "%%time\n",
    "partitionMemo(b)"
   ]
  },
  {
   "cell_type": "code",
   "execution_count": 18,
   "metadata": {},
   "outputs": [
    {
     "name": "stdout",
     "output_type": "stream",
     "text": [
      "CPU times: user 150 µs, sys: 0 ns, total: 150 µs\n",
      "Wall time: 154 µs\n"
     ]
    },
    {
     "data": {
      "text/plain": [
       "True"
      ]
     },
     "execution_count": 18,
     "metadata": {},
     "output_type": "execute_result"
    }
   ],
   "source": [
    "%%time\n",
    "partitionMemo(c)"
   ]
  },
  {
   "cell_type": "code",
   "execution_count": 9,
   "metadata": {},
   "outputs": [],
   "source": [
    "def partitionDy(arr):\n",
    "    total = sum(arr)\n",
    "    if total % 2 == 1:\n",
    "        return False\n",
    "    half = total // 2\n",
    "    lookup = [[False] * (len(arr) + 1) for t in range(0, half+1)]\n",
    "    for zero in range(len(lookup[0])):\n",
    "        lookup[0][zero] = True\n",
    "    for h in range(1, len(lookup)):\n",
    "        for v in range(len(arr)):\n",
    "            if arr[v] <= h:\n",
    "                row = h - arr[v]\n",
    "                carry = lookup[row][v]\n",
    "                if carry == True:\n",
    "                    for w in range(v+1, len(lookup[0])):\n",
    "                        lookup[h][w] = True\n",
    "                    break\n",
    "                else:\n",
    "                    lookup[h][v+1] = False\n",
    "    return lookup[-1][-1]"
   ]
  },
  {
   "cell_type": "code",
   "execution_count": 10,
   "metadata": {
    "scrolled": true
   },
   "outputs": [
    {
     "name": "stdout",
     "output_type": "stream",
     "text": [
      "CPU times: user 32 µs, sys: 0 ns, total: 32 µs\n",
      "Wall time: 37 µs\n"
     ]
    },
    {
     "data": {
      "text/plain": [
       "True"
      ]
     },
     "execution_count": 10,
     "metadata": {},
     "output_type": "execute_result"
    }
   ],
   "source": [
    "%%time\n",
    "partitionDy(given)"
   ]
  },
  {
   "cell_type": "code",
   "execution_count": 19,
   "metadata": {},
   "outputs": [
    {
     "name": "stdout",
     "output_type": "stream",
     "text": [
      "CPU times: user 39 µs, sys: 0 ns, total: 39 µs\n",
      "Wall time: 40.8 µs\n"
     ]
    },
    {
     "data": {
      "text/plain": [
       "True"
      ]
     },
     "execution_count": 19,
     "metadata": {},
     "output_type": "execute_result"
    }
   ],
   "source": [
    "%%time\n",
    "partitionDy(c)"
   ]
  },
  {
   "cell_type": "code",
   "execution_count": 11,
   "metadata": {},
   "outputs": [
    {
     "name": "stdout",
     "output_type": "stream",
     "text": [
      "CPU times: user 198 µs, sys: 0 ns, total: 198 µs\n",
      "Wall time: 201 µs\n"
     ]
    },
    {
     "data": {
      "text/plain": [
       "False"
      ]
     },
     "execution_count": 11,
     "metadata": {},
     "output_type": "execute_result"
    }
   ],
   "source": [
    "%%time\n",
    "partitionDy(b)"
   ]
  },
  {
   "cell_type": "code",
   "execution_count": 12,
   "metadata": {},
   "outputs": [],
   "source": [
    "def providedSolution(arr, n, total):\n",
    "    T = [[False for x in range(total + 1)] for y in range(n + 1)]\n",
    "    for i in range(n + 1):\n",
    "        T[i][0] = True\n",
    "    for i in range(1, n+1):\n",
    "        for j in range(1, total + 1):\n",
    "            if arr[i-1] > j:\n",
    "                T[i][j] = T[i-1][j]\n",
    "            else:\n",
    "                T[i][j] = T[i-1][j] or T[i-1][j-arr[i-1]]\n",
    "    return T[n][total]\n",
    "\n",
    "def providedPartition(arr):\n",
    "    total = sum(arr)\n",
    "    return total % 1 == 0 and providedSolution(arr, len(arr), total//2)"
   ]
  },
  {
   "cell_type": "code",
   "execution_count": 13,
   "metadata": {},
   "outputs": [
    {
     "name": "stdout",
     "output_type": "stream",
     "text": [
      "CPU times: user 48 µs, sys: 1 µs, total: 49 µs\n",
      "Wall time: 52.9 µs\n"
     ]
    },
    {
     "data": {
      "text/plain": [
       "True"
      ]
     },
     "execution_count": 13,
     "metadata": {},
     "output_type": "execute_result"
    }
   ],
   "source": [
    "%%time\n",
    "providedPartition(given)"
   ]
  },
  {
   "cell_type": "code",
   "execution_count": 15,
   "metadata": {},
   "outputs": [
    {
     "name": "stdout",
     "output_type": "stream",
     "text": [
      "CPU times: user 45 µs, sys: 1 µs, total: 46 µs\n",
      "Wall time: 47.9 µs\n"
     ]
    },
    {
     "data": {
      "text/plain": [
       "True"
      ]
     },
     "execution_count": 15,
     "metadata": {},
     "output_type": "execute_result"
    }
   ],
   "source": [
    "%%time\n",
    "providedPartition(c)"
   ]
  },
  {
   "cell_type": "markdown",
   "metadata": {},
   "source": [
    "### Bonus\n",
    "\n",
    "Extend the solution to 3-partitions and also print the partitions."
   ]
  }
 ],
 "metadata": {
  "kernelspec": {
   "display_name": "Python 3",
   "language": "python",
   "name": "python3"
  },
  "language_info": {
   "codemirror_mode": {
    "name": "ipython",
    "version": 3
   },
   "file_extension": ".py",
   "mimetype": "text/x-python",
   "name": "python",
   "nbconvert_exporter": "python",
   "pygments_lexer": "ipython3",
   "version": "3.8.5"
  }
 },
 "nbformat": 4,
 "nbformat_minor": 4
}
