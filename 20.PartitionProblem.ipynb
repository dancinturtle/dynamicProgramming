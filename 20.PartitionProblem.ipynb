{
 "cells": [
  {
   "cell_type": "markdown",
   "metadata": {},
   "source": [
    "### Partition Problem\n",
    "\n",
    "Given a set of positive integers, find if it can be divided into two subsets with equal sum. Return true or false.\n",
    "\n",
    "Example:\n",
    "\n",
    "```\n",
    "S = {3, 1, 1, 2, 2, 1}\n",
    "We can partition S into two partitions, each having a sum of 5.\n",
    "S1 = {1, 1, 1, 2}\n",
    "S2 = {2, 3}\n",
    "\n",
    "Another solution:\n",
    "S1 = {3, 1, 1}\n",
    "S2 = {2, 2, 1}\n",
    "```"
   ]
  },
  {
   "cell_type": "code",
   "execution_count": 3,
   "metadata": {},
   "outputs": [
    {
     "data": {
      "text/plain": [
       "False"
      ]
     },
     "execution_count": 3,
     "metadata": {},
     "output_type": "execute_result"
    }
   ],
   "source": [
    "a = False\n",
    "b = False\n",
    "a == True or b == True"
   ]
  },
  {
   "cell_type": "code",
   "execution_count": 18,
   "metadata": {},
   "outputs": [],
   "source": [
    "def partition(arr, half=None, pos=0):\n",
    "    if half == None:\n",
    "        total = sum(arr)\n",
    "        if total % 2 == 1:\n",
    "            return False\n",
    "        half = total / 2\n",
    "    if half == 0:\n",
    "        return True\n",
    "    if pos >= len(arr):\n",
    "        return False\n",
    "    inc = partition(arr, half-arr[pos], pos + 1)\n",
    "    exc = partition(arr, half, pos + 1)\n",
    "    return inc == True or exc == True"
   ]
  },
  {
   "cell_type": "code",
   "execution_count": 31,
   "metadata": {},
   "outputs": [],
   "source": [
    "given = [3, 1, 1, 2, 2, 1]\n",
    "b = [3, 1, 1, 2, 2, 1, 4, 10, 10, 8, 80]"
   ]
  },
  {
   "cell_type": "code",
   "execution_count": 21,
   "metadata": {},
   "outputs": [
    {
     "name": "stdout",
     "output_type": "stream",
     "text": [
      "CPU times: user 39 µs, sys: 0 ns, total: 39 µs\n",
      "Wall time: 42 µs\n"
     ]
    },
    {
     "data": {
      "text/plain": [
       "True"
      ]
     },
     "execution_count": 21,
     "metadata": {},
     "output_type": "execute_result"
    }
   ],
   "source": [
    "%%time\n",
    "partition(given)"
   ]
  },
  {
   "cell_type": "code",
   "execution_count": 32,
   "metadata": {},
   "outputs": [
    {
     "name": "stdout",
     "output_type": "stream",
     "text": [
      "CPU times: user 1.31 ms, sys: 0 ns, total: 1.31 ms\n",
      "Wall time: 1.31 ms\n"
     ]
    },
    {
     "data": {
      "text/plain": [
       "False"
      ]
     },
     "execution_count": 32,
     "metadata": {},
     "output_type": "execute_result"
    }
   ],
   "source": [
    "%%time\n",
    "partition(b)"
   ]
  },
  {
   "cell_type": "code",
   "execution_count": 25,
   "metadata": {},
   "outputs": [
    {
     "data": {
      "text/plain": [
       "False"
      ]
     },
     "execution_count": 25,
     "metadata": {},
     "output_type": "execute_result"
    }
   ],
   "source": [
    "a = False\n",
    "b = False\n",
    "c = a == True or b == True\n",
    "c"
   ]
  },
  {
   "cell_type": "code",
   "execution_count": 53,
   "metadata": {},
   "outputs": [],
   "source": [
    "def partitionMemo(arr, half=None, pos=0, lookup=None):\n",
    "    if half == None:\n",
    "        total = sum(arr)\n",
    "        if total % 2 == 1:\n",
    "            return False\n",
    "        half = total / 2\n",
    "    if lookup == None:\n",
    "        lookup = {}\n",
    "    key = f'{half}-{pos}'\n",
    "    if lookup.get(key):\n",
    "        \n",
    "        return lookup[key]\n",
    "    if half == 0:\n",
    "        lookup[key] = True\n",
    "    elif pos >= len(arr):\n",
    "        lookup[key] = False\n",
    "    else:\n",
    "        inc = partitionMemo(arr, half-arr[pos], pos+1, lookup)\n",
    "        exc = partitionMemo(arr, half, pos+1, lookup)\n",
    "        lookup[key] = inc == True or exc == True\n",
    "    return lookup[key]"
   ]
  },
  {
   "cell_type": "code",
   "execution_count": 54,
   "metadata": {},
   "outputs": [
    {
     "name": "stdout",
     "output_type": "stream",
     "text": [
      "CPU times: user 81 µs, sys: 0 ns, total: 81 µs\n",
      "Wall time: 84.2 µs\n"
     ]
    },
    {
     "data": {
      "text/plain": [
       "True"
      ]
     },
     "execution_count": 54,
     "metadata": {},
     "output_type": "execute_result"
    }
   ],
   "source": [
    "%%time\n",
    "partitionMemo(given)"
   ]
  },
  {
   "cell_type": "code",
   "execution_count": 36,
   "metadata": {},
   "outputs": [
    {
     "name": "stdout",
     "output_type": "stream",
     "text": [
      "CPU times: user 5.02 ms, sys: 125 µs, total: 5.15 ms\n",
      "Wall time: 5.54 ms\n"
     ]
    },
    {
     "data": {
      "text/plain": [
       "False"
      ]
     },
     "execution_count": 36,
     "metadata": {},
     "output_type": "execute_result"
    }
   ],
   "source": [
    "%%time\n",
    "partitionMemo(b)"
   ]
  },
  {
   "cell_type": "code",
   "execution_count": 50,
   "metadata": {},
   "outputs": [],
   "source": [
    "def partitionDy(arr):\n",
    "    total = sum(arr)\n",
    "    if total % 2 == 1:\n",
    "        return False\n",
    "    half = total // 2\n",
    "    lookup = [[False] * (len(arr) + 1) for t in range(0, half+1)]\n",
    "    for zero in range(len(lookup[0])):\n",
    "        lookup[0][zero] = True\n",
    "    for h in range(1, len(lookup)):\n",
    "        for v in range(len(arr)):\n",
    "            if arr[v] <= h:\n",
    "                row = h - arr[v]\n",
    "                carry = lookup[row][v]\n",
    "                if carry == True:\n",
    "                    for w in range(v+1, len(lookup[0])):\n",
    "                        lookup[h][w] = True\n",
    "                    break\n",
    "                else:\n",
    "                    lookup[h][v+1] = False\n",
    "    return lookup[-1][-1]"
   ]
  },
  {
   "cell_type": "code",
   "execution_count": 52,
   "metadata": {
    "scrolled": true
   },
   "outputs": [
    {
     "name": "stdout",
     "output_type": "stream",
     "text": [
      "CPU times: user 24 µs, sys: 0 ns, total: 24 µs\n",
      "Wall time: 26.2 µs\n"
     ]
    },
    {
     "data": {
      "text/plain": [
       "True"
      ]
     },
     "execution_count": 52,
     "metadata": {},
     "output_type": "execute_result"
    }
   ],
   "source": [
    "%%time\n",
    "partitionDy(given)"
   ]
  },
  {
   "cell_type": "code",
   "execution_count": 51,
   "metadata": {},
   "outputs": [
    {
     "name": "stdout",
     "output_type": "stream",
     "text": [
      "CPU times: user 234 µs, sys: 1e+03 ns, total: 235 µs\n",
      "Wall time: 237 µs\n"
     ]
    },
    {
     "data": {
      "text/plain": [
       "False"
      ]
     },
     "execution_count": 51,
     "metadata": {},
     "output_type": "execute_result"
    }
   ],
   "source": [
    "%%time\n",
    "partitionDy(b)"
   ]
  }
 ],
 "metadata": {
  "kernelspec": {
   "display_name": "Python 3",
   "language": "python",
   "name": "python3"
  },
  "language_info": {
   "codemirror_mode": {
    "name": "ipython",
    "version": 3
   },
   "file_extension": ".py",
   "mimetype": "text/x-python",
   "name": "python",
   "nbconvert_exporter": "python",
   "pygments_lexer": "ipython3",
   "version": "3.8.5"
  }
 },
 "nbformat": 4,
 "nbformat_minor": 4
}
