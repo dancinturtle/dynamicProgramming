{
 "cells": [
  {
   "cell_type": "markdown",
   "metadata": {},
   "source": [
    "### Maximum Product Rod Cutting\n",
    "\n",
    "Given a rod of length `n`, find the optimal way to cut the rod into smaller rods to maximize the product of each o the smaller rod's price. Assume each rod of length `i` has price `i`.\n",
    "\n",
    "Example:\n",
    "```\n",
    "Consider a rod of length 4:\n",
    "\n",
    "Best: cut the rod into two pieces of length 2 each to gain revenue of 2x2 = 4\n",
    "\n",
    "Cut              Profit\n",
    "4                  4\n",
    "1, 3               3\n",
    "2, 2               4\n",
    "3, 1               3\n",
    "1, 1, 2            2\n",
    "1, 2, 1            2\n",
    "2, 1, 1            2\n",
    "1, 1, 1, 1         1\n",
    "\n",
    "Similarly, for n = 6, 3x3 = 9\n",
    "For n = 8, 2x3x3 = 18\n",
    "For n = 15, 3x3x3x3x3 = 243\n",
    "```"
   ]
  },
  {
   "cell_type": "markdown",
   "metadata": {},
   "source": [
    "### Recursion\n",
    "\n",
    "Solve for smaller rods and multiply that result by the remaining segment."
   ]
  },
  {
   "cell_type": "code",
   "execution_count": 3,
   "metadata": {},
   "outputs": [],
   "source": [
    "def rodCutRec(rod):\n",
    "    if rod == 1:\n",
    "        return 1\n",
    "    maxPrice = rod\n",
    "    for i in range(rod-1, 0, -1):\n",
    "        maxPrice = max(maxPrice, rodCutRec(i) * (rod-i))\n",
    "    return maxPrice"
   ]
  },
  {
   "cell_type": "code",
   "execution_count": 7,
   "metadata": {},
   "outputs": [
    {
     "name": "stdout",
     "output_type": "stream",
     "text": [
      "CPU times: user 9.95 ms, sys: 861 µs, total: 10.8 ms\n",
      "Wall time: 10.9 ms\n"
     ]
    },
    {
     "data": {
      "text/plain": [
       "243"
      ]
     },
     "execution_count": 7,
     "metadata": {},
     "output_type": "execute_result"
    }
   ],
   "source": [
    "%%time\n",
    "rodCutRec(15)"
   ]
  },
  {
   "cell_type": "markdown",
   "metadata": {},
   "source": [
    "### Dynamic programming\n",
    "\n",
    "Store the results from the smaller rods and multiply that result by the remaining segment."
   ]
  },
  {
   "cell_type": "code",
   "execution_count": 26,
   "metadata": {},
   "outputs": [],
   "source": [
    "def rodCut(rod):\n",
    "    maxPrices = [1]\n",
    "    for i in range(1, rod):\n",
    "        maxPrices.append(i+1)\n",
    "        for j in range(0, i):\n",
    "            maxPrices[i] = max(maxPrices[i], maxPrices[j]*(i-j))\n",
    "    return maxPrices[-1]        "
   ]
  },
  {
   "cell_type": "code",
   "execution_count": 27,
   "metadata": {},
   "outputs": [
    {
     "name": "stdout",
     "output_type": "stream",
     "text": [
      "CPU times: user 49 µs, sys: 1 µs, total: 50 µs\n",
      "Wall time: 52 µs\n"
     ]
    },
    {
     "data": {
      "text/plain": [
       "243"
      ]
     },
     "execution_count": 27,
     "metadata": {},
     "output_type": "execute_result"
    }
   ],
   "source": [
    "%%time\n",
    "rodCut(15)"
   ]
  }
 ],
 "metadata": {
  "kernelspec": {
   "display_name": "ML",
   "language": "python",
   "name": "ml"
  },
  "language_info": {
   "codemirror_mode": {
    "name": "ipython",
    "version": 3
   },
   "file_extension": ".py",
   "mimetype": "text/x-python",
   "name": "python",
   "nbconvert_exporter": "python",
   "pygments_lexer": "ipython3",
   "version": "3.8.5"
  }
 },
 "nbformat": 4,
 "nbformat_minor": 4
}
