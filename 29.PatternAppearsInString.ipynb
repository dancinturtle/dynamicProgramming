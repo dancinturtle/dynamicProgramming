{
 "cells": [
  {
   "cell_type": "markdown",
   "metadata": {},
   "source": [
    "### Count the number of times a pattern appears in a given string as a subsequence\n",
    "\n",
    "Subsequences are not required to occupy consecutive positions within the original sequences.\n",
    "\n",
    "Example:\n",
    "```\n",
    "Input: \n",
    "string = \"subsequence\"\n",
    "pattern = \"sue\"\n",
    "\n",
    "Output: 7\n",
    "SUbsEquence\n",
    "SUbsequEnce\n",
    "SUbsequencE\n",
    "SubseqUEnce\n",
    "SubseqUencE\n",
    "subSeqUEnce\n",
    "subSeqUencE\n",
    "```"
   ]
  },
  {
   "cell_type": "code",
   "execution_count": 2,
   "metadata": {},
   "outputs": [],
   "source": [
    "def patternRec(seq, pat, pos=None):\n",
    "    if pos == None:\n",
    "        pos = len(seq) - 1\n",
    "    if pat == \"\":\n",
    "        return 1\n",
    "    if pos == -1:\n",
    "        return 0\n",
    "    inc = 0\n",
    "    if seq[pos] == pat[-1]:\n",
    "        inc = patternRec(seq, pat[:-1], pos-1)\n",
    "    exc = patternRec(seq, pat, pos-1)\n",
    "    return inc + exc"
   ]
  },
  {
   "cell_type": "code",
   "execution_count": 3,
   "metadata": {},
   "outputs": [],
   "source": [
    "seq = \"subsequence\"\n",
    "pattern = \"sue\""
   ]
  },
  {
   "cell_type": "code",
   "execution_count": 4,
   "metadata": {},
   "outputs": [
    {
     "name": "stdout",
     "output_type": "stream",
     "text": [
      "CPU times: user 28 µs, sys: 0 ns, total: 28 µs\n",
      "Wall time: 31 µs\n"
     ]
    },
    {
     "data": {
      "text/plain": [
       "7"
      ]
     },
     "execution_count": 4,
     "metadata": {},
     "output_type": "execute_result"
    }
   ],
   "source": [
    "%%time\n",
    "patternRec(seq, pattern)"
   ]
  },
  {
   "cell_type": "markdown",
   "metadata": {},
   "source": [
    "### Dynamic approach\n",
    "\n",
    "We can break down our pattern and start with just the single letter.\n",
    "\n",
    "Count up how many ways we can make the single letter in the sequence.\n",
    "\n",
    "From there, add the second letter.\n",
    "\n",
    "The ways to make the 2-letter sequence will be however many ways we have made the first letter so far, plus however many ways we can make the 2-letter sequence so far. If the letter matches, take the amount from top left and add it to the left number.\n",
    "\n",
    "Continue with the rest of the letters, return the final number\n",
    "\n",
    "Example:\n",
    "```\n",
    "             s    u    b    s    e    q    u    e    n    c    e  \n",
    "    s   0    1    1    1    2    2    2    2    2    2    2    2\n",
    "    u   0    0    1    1    1    1    1    3    3    3    3    3 \n",
    "    e   0    0    0    0    0    1    1    1    4    4    4    7\n",
    "```   "
   ]
  },
  {
   "cell_type": "code",
   "execution_count": 30,
   "metadata": {},
   "outputs": [],
   "source": [
    "def patternDy(seq, pat):\n",
    "    result = [[0] * (len(seq) + 1) for _ in range(len(pat))]\n",
    "    for col in range(1, len(result[0])):\n",
    "        if seq[col-1] == pat[0]:\n",
    "            result[0][col] = result[0][col-1] + 1\n",
    "        else:\n",
    "            result[0][col] = result[0][col-1]\n",
    "    for row in range(1, len(result)):\n",
    "        for col in range(1, len(result[0])):\n",
    "            if seq[col-1] == pat[row]:\n",
    "                result[row][col] = result[row-1][col-1] + result[row][col-1]\n",
    "            else:\n",
    "                result[row][col] = result[row][col-1]\n",
    "    return result[-1][-1]                "
   ]
  },
  {
   "cell_type": "code",
   "execution_count": 31,
   "metadata": {},
   "outputs": [
    {
     "name": "stdout",
     "output_type": "stream",
     "text": [
      "CPU times: user 24 µs, sys: 0 ns, total: 24 µs\n",
      "Wall time: 27.2 µs\n"
     ]
    },
    {
     "data": {
      "text/plain": [
       "7"
      ]
     },
     "execution_count": 31,
     "metadata": {},
     "output_type": "execute_result"
    }
   ],
   "source": [
    "%%time\n",
    "patternDy(seq, pattern)"
   ]
  }
 ],
 "metadata": {
  "kernelspec": {
   "display_name": "Python 3",
   "language": "python",
   "name": "python3"
  },
  "language_info": {
   "codemirror_mode": {
    "name": "ipython",
    "version": 3
   },
   "file_extension": ".py",
   "mimetype": "text/x-python",
   "name": "python",
   "nbconvert_exporter": "python",
   "pygments_lexer": "ipython3",
   "version": "3.8.5"
  }
 },
 "nbformat": 4,
 "nbformat_minor": 4
}
