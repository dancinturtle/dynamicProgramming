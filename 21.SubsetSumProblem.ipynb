{
 "cells": [
  {
   "cell_type": "markdown",
   "metadata": {},
   "source": [
    "### Subset Sum Problem\n",
    "\n",
    "Given a set of positive integers and an integer S, is there any non-empty subset whose sum is S.\n",
    "\n",
    "Example:\n",
    "\n",
    "```\n",
    "Input:\n",
    "set = {7, 3, 2, 5, 8}\n",
    "sum = 14\n",
    "\n",
    "Ouptut: Subsequence with the given sum exists\n",
    "\n",
    "subset {7, 2, 5} sums to 14\n",
    "```\n"
   ]
  },
  {
   "cell_type": "code",
   "execution_count": 3,
   "metadata": {},
   "outputs": [],
   "source": [
    "def subsetSum(arr, total, pos=0):\n",
    "    if total == 0:\n",
    "        return True\n",
    "    if total < 0 or pos >= len(arr):\n",
    "        return False\n",
    "    return subsetSum(arr, total-arr[pos], pos+1) or subsetSum(arr, total, pos+1)"
   ]
  },
  {
   "cell_type": "code",
   "execution_count": 51,
   "metadata": {},
   "outputs": [],
   "source": [
    "given = [7, 3, 2, 5, 8]\n",
    "givenT = 14\n",
    "a = [2, 5, 1, 3, 8, 2, 1, 9, 4, 2, 5, 2, 15, 33, 1, 1, 3, 5, 2, 9, 13, 1, 7, 6, 4, 6, 7, 8, 2, 4]\n",
    "aT = 38"
   ]
  },
  {
   "cell_type": "code",
   "execution_count": 29,
   "metadata": {
    "scrolled": true
   },
   "outputs": [
    {
     "name": "stdout",
     "output_type": "stream",
     "text": [
      "CPU times: user 10 µs, sys: 0 ns, total: 10 µs\n",
      "Wall time: 13.1 µs\n"
     ]
    },
    {
     "data": {
      "text/plain": [
       "True"
      ]
     },
     "execution_count": 29,
     "metadata": {},
     "output_type": "execute_result"
    }
   ],
   "source": [
    "%%time\n",
    "subsetSum(given, givenT)"
   ]
  },
  {
   "cell_type": "code",
   "execution_count": 52,
   "metadata": {},
   "outputs": [
    {
     "name": "stdout",
     "output_type": "stream",
     "text": [
      "CPU times: user 12 µs, sys: 1 µs, total: 13 µs\n",
      "Wall time: 13.8 µs\n"
     ]
    },
    {
     "data": {
      "text/plain": [
       "True"
      ]
     },
     "execution_count": 52,
     "metadata": {},
     "output_type": "execute_result"
    }
   ],
   "source": [
    "%%time\n",
    "subsetSum(a, aT)"
   ]
  },
  {
   "cell_type": "code",
   "execution_count": 20,
   "metadata": {},
   "outputs": [],
   "source": [
    "def subsetDy(arr, total):\n",
    "    lookup = [[False] * (len(arr) + 1) for _ in range(total + 1)]\n",
    "    for i in range(len(lookup[0])):\n",
    "        lookup[0][i] = True\n",
    "    for row in range(1, len(lookup)):\n",
    "        for col in range(1, len(lookup[0])):\n",
    "            if arr[col-1] <= row:\n",
    "                subsum = row - arr[col-1]\n",
    "                carry = lookup[subsum][col-1]\n",
    "                if carry == False:\n",
    "                    lookup[row][col] = False\n",
    "                else:\n",
    "                    for j in range(col, len(lookup[0])):\n",
    "                        lookup[row][j] = True\n",
    "                    break\n",
    "    return lookup[-1][-1]"
   ]
  },
  {
   "cell_type": "code",
   "execution_count": 23,
   "metadata": {},
   "outputs": [
    {
     "name": "stdout",
     "output_type": "stream",
     "text": [
      "CPU times: user 40 µs, sys: 0 ns, total: 40 µs\n",
      "Wall time: 42 µs\n"
     ]
    },
    {
     "data": {
      "text/plain": [
       "True"
      ]
     },
     "execution_count": 23,
     "metadata": {},
     "output_type": "execute_result"
    }
   ],
   "source": [
    "%%time\n",
    "subsetDy(given, givenT)"
   ]
  },
  {
   "cell_type": "code",
   "execution_count": 53,
   "metadata": {},
   "outputs": [
    {
     "name": "stdout",
     "output_type": "stream",
     "text": [
      "CPU times: user 195 µs, sys: 0 ns, total: 195 µs\n",
      "Wall time: 198 µs\n"
     ]
    },
    {
     "data": {
      "text/plain": [
       "True"
      ]
     },
     "execution_count": 53,
     "metadata": {},
     "output_type": "execute_result"
    }
   ],
   "source": [
    "%%time\n",
    "subsetDy(a, aT)"
   ]
  },
  {
   "cell_type": "code",
   "execution_count": 37,
   "metadata": {},
   "outputs": [],
   "source": [
    "def givenSolution(arr, total):\n",
    "    n = len(arr)\n",
    "    T = [[False for x in range(total + 1)] for y in range(n+1)]\n",
    "    for i in range(n+1):\n",
    "        T[i][0] = True\n",
    "    for i in range(1, n+1):\n",
    "        for j in range(1, total + 1):\n",
    "            if arr[i-1] > j:\n",
    "                T[i][j] = T[i-1][j]\n",
    "            else:\n",
    "                T[i][j] = T[i-1][j] or T[i-1][j-arr[i-1]]\n",
    "    return T[n][total]"
   ]
  },
  {
   "cell_type": "code",
   "execution_count": 38,
   "metadata": {
    "scrolled": true
   },
   "outputs": [
    {
     "name": "stdout",
     "output_type": "stream",
     "text": [
      "CPU times: user 356 µs, sys: 0 ns, total: 356 µs\n",
      "Wall time: 359 µs\n"
     ]
    },
    {
     "data": {
      "text/plain": [
       "True"
      ]
     },
     "execution_count": 38,
     "metadata": {},
     "output_type": "execute_result"
    }
   ],
   "source": [
    "%%time\n",
    "givenSolution(a, aT)"
   ]
  },
  {
   "cell_type": "markdown",
   "metadata": {},
   "source": [
    "### Bonus\n",
    "\n",
    "Print the numbers in the subsequence"
   ]
  },
  {
   "cell_type": "code",
   "execution_count": 40,
   "metadata": {},
   "outputs": [],
   "source": [
    "def subsetTableDy(arr, total):\n",
    "    lookup = [[False] * (len(arr) + 1) for _ in range(total + 1)]\n",
    "    for i in range(len(lookup[0])):\n",
    "        lookup[0][i] = True\n",
    "    for row in range(1, len(lookup)):\n",
    "        for col in range(1, len(lookup[0])):\n",
    "            if arr[col-1] <= row:\n",
    "                subsum = row - arr[col-1]\n",
    "                carry = lookup[subsum][col-1]\n",
    "                if carry == False:\n",
    "                    lookup[row][col] = False\n",
    "                else:\n",
    "                    for j in range(col, len(lookup[0])):\n",
    "                        lookup[row][j] = True\n",
    "                    break\n",
    "    return lookup"
   ]
  },
  {
   "cell_type": "code",
   "execution_count": 43,
   "metadata": {},
   "outputs": [
    {
     "data": {
      "text/plain": [
       "4"
      ]
     },
     "execution_count": 43,
     "metadata": {},
     "output_type": "execute_result"
    }
   ],
   "source": [
    "a = [ 1,1,1,1,2,2,3,4]\n",
    "a.index(2)"
   ]
  },
  {
   "cell_type": "code",
   "execution_count": 46,
   "metadata": {},
   "outputs": [],
   "source": [
    "def printSubset(arr, total):\n",
    "    lookup = subsetTableDy(arr, total)\n",
    "    if lookup[-1][-1] == False:\n",
    "        return \"No possible subset found\"\n",
    "    subset = []\n",
    "    row = len(lookup) - 1\n",
    "    col = len(lookup[0]) - 1\n",
    "    while row > 0:\n",
    "        col = lookup[row].index(True)\n",
    "        subset.append(arr[col-1])\n",
    "        row -= arr[col-1]\n",
    "    return f\"The total {total} can be made with the subset {subset}\"\n",
    " "
   ]
  },
  {
   "cell_type": "code",
   "execution_count": 47,
   "metadata": {},
   "outputs": [
    {
     "data": {
      "text/plain": [
       "'The total 14 can be made with the subset [5, 2, 7]'"
      ]
     },
     "execution_count": 47,
     "metadata": {},
     "output_type": "execute_result"
    }
   ],
   "source": [
    "printSubset(given, givenT)"
   ]
  },
  {
   "cell_type": "code",
   "execution_count": 54,
   "metadata": {},
   "outputs": [
    {
     "data": {
      "text/plain": [
       "'The total 38 can be made with the subset [5, 4, 9, 2, 8, 3, 5, 2]'"
      ]
     },
     "execution_count": 54,
     "metadata": {},
     "output_type": "execute_result"
    }
   ],
   "source": [
    "printSubset(a, aT)"
   ]
  }
 ],
 "metadata": {
  "kernelspec": {
   "display_name": "Python 3",
   "language": "python",
   "name": "python3"
  },
  "language_info": {
   "codemirror_mode": {
    "name": "ipython",
    "version": 3
   },
   "file_extension": ".py",
   "mimetype": "text/x-python",
   "name": "python",
   "nbconvert_exporter": "python",
   "pygments_lexer": "ipython3",
   "version": "3.8.5"
  }
 },
 "nbformat": 4,
 "nbformat_minor": 4
}
