{
 "cells": [
  {
   "cell_type": "markdown",
   "metadata": {},
   "source": [
    "### Collect maximum points in a matrix\n",
    "\n",
    "Given an M x N matrix where each cell can have a value of 1, 0, or -1, where -1 denotes an unsafe cell, collect the maximum number of ones starting from the first cell and by visiting only safe cells (0 or 1). We can only go left or down if the row is odd; otherwise, we can only go right or down from the current cell.\n",
    "\n",
    "Example:\n",
    "\n",
    "    1  ->   1     -1     1      1\n",
    "            \n",
    "            |\n",
    "              \n",
    "    1  <-   0      0     -1     1\n",
    "    \n",
    "    |\n",
    "    \n",
    "    1  ->   1  ->  1  ->  1     -1\n",
    "                          \n",
    "                          |    \n",
    "    \n",
    "    -1      -1     1  <-  1      1\n",
    "    \n",
    "    \n",
    "    1        1    -1     -1    1\n",
    "    \n",
    "    Maximum points collected is 9.\n",
    "    \n"
   ]
  },
  {
   "cell_type": "code",
   "execution_count": 24,
   "metadata": {},
   "outputs": [],
   "source": [
    "# with recursion\n",
    "\n",
    "def collectPoints(matrix, row=0, col=0):\n",
    "    if row < 0 or col < 0 or row >= len(matrix) or col >= len(matrix[0]) or matrix[row][col] == -1:\n",
    "        return 0\n",
    "    downPoints = collectPoints(matrix, row + 1, col)\n",
    "    horizontalPoints = collectPoints(matrix, row, col+1) if row % 2 == 0 else collectPoints(matrix, row, col-1)\n",
    "    return max(downPoints, horizontalPoints) + matrix[row][col]\n",
    "    "
   ]
  },
  {
   "cell_type": "code",
   "execution_count": 25,
   "metadata": {},
   "outputs": [],
   "source": [
    "matrix = [\n",
    "    [1, 1, -1, 1, 1],\n",
    "    [1, 0, 0, -1, 1],\n",
    "    [1, 1, 1, 1, -1],\n",
    "    [-1, -1, 1, 1, 1],\n",
    "    [1, 1, -1, -1, 1]\n",
    "]"
   ]
  },
  {
   "cell_type": "code",
   "execution_count": 55,
   "metadata": {},
   "outputs": [
    {
     "name": "stdout",
     "output_type": "stream",
     "text": [
      "CPU times: user 43 µs, sys: 1e+03 ns, total: 44 µs\n",
      "Wall time: 47.2 µs\n"
     ]
    },
    {
     "data": {
      "text/plain": [
       "9"
      ]
     },
     "execution_count": 55,
     "metadata": {},
     "output_type": "execute_result"
    }
   ],
   "source": [
    "%%time \n",
    "collectPoints(matrix)"
   ]
  },
  {
   "cell_type": "code",
   "execution_count": 46,
   "metadata": {},
   "outputs": [],
   "source": [
    "# with memoization\n",
    "\n",
    "def collectPointsDy(matrix, row=0, col=0, lookup=None):\n",
    "    if lookup == None:\n",
    "        lookup = {}\n",
    "    if row < 0 or col < 0 or row >= len(matrix) or col >= len(matrix[0]) or matrix[row][col] == -1:\n",
    "        return 0\n",
    "    key = f'{row}-{col}'\n",
    "    if lookup.get(key):\n",
    "        return lookup[key]\n",
    "    downPoints = collectPointsDy(matrix, row+1, col, lookup)\n",
    "    if row % 2 == 0:\n",
    "        horizontalPoints = collectPointsDy(matrix, row, col+1, lookup)\n",
    "    else:\n",
    "        horizontalPoints = collectPointsDy(matrix, row, col-1, lookup)\n",
    "    lookup[key] = max(downPoints, horizontalPoints) + matrix[row][col]\n",
    "    return lookup[key]"
   ]
  },
  {
   "cell_type": "code",
   "execution_count": 53,
   "metadata": {
    "scrolled": true
   },
   "outputs": [
    {
     "name": "stdout",
     "output_type": "stream",
     "text": [
      "CPU times: user 36 µs, sys: 1 µs, total: 37 µs\n",
      "Wall time: 40.1 µs\n"
     ]
    },
    {
     "data": {
      "text/plain": [
       "9"
      ]
     },
     "execution_count": 53,
     "metadata": {},
     "output_type": "execute_result"
    }
   ],
   "source": [
    "%%time\n",
    "collectPointsDy(matrix)"
   ]
  },
  {
   "cell_type": "markdown",
   "metadata": {},
   "source": [
    "### Can also be solved in a bottom up approach, solving simpler problems first?\n",
    "\n",
    "Example:\n",
    "```\n",
    "matrix = [\n",
    "    [1, 1, -1, 1, 1],\n",
    "    [1, 0, 0, -1, 1],\n",
    "    [1, 1, 1, 1, -1],\n",
    "    [-1, -1, 1, 1, 1],\n",
    "    [1, 1, -1, -1, 1]\n",
    "]\n",
    "```\n",
    "\n",
    "Create a lookup matrix and start at the entry point. If the value in the matrix is 1, +1 to the left cell in the lookup. If 0, carry the left cell over. If -1, we cannot continue on that row, so fill in the remaining cells with -1.\n",
    "\n",
    "Next we have to move down and start from the right. If the top cell and right cell in the lookup is -1 (or no right cell), we cannot get to that cell, so fill it with a -1. If the matrix value is -1, fill in all remaining cells in the row with -1. Otherwise, take the max of the top and right and add the matrix value.\n",
    "\n",
    "Outcome:\n",
    "```\n",
    "lookup = [\n",
    "    [1, 2, -1, -1, -1],\n",
    "    [3, 2, -1, -1, -1],\n",
    "    [4, 5, 6, 7, -1],\n",
    "    [-1, -1, 9, 8, -1],\n",
    "    [-1, -1, -1, -1, -1]\n",
    "```\n"
   ]
  },
  {
   "cell_type": "code",
   "execution_count": 41,
   "metadata": {},
   "outputs": [],
   "source": [
    "def collectPointsBottomUp(matrix):\n",
    "    lookup = [[0] * len(matrix[0]) for _ in range(len(matrix))]\n",
    "    if matrix[0][0] == -1:\n",
    "        return 0\n",
    "    maxpoints = 0\n",
    "    # establish the first row in the lookup\n",
    "    lookup[0][0] = matrix[0][0]\n",
    "    for col in range(1, len(matrix[0])):\n",
    "        if matrix[0][col] == -1:\n",
    "            for j in range(col, len(matrix[0])):\n",
    "                lookup[0][j] = -1\n",
    "            break\n",
    "        else:\n",
    "            lookup[0][col] = lookup[0][col-1] + matrix[0][col]\n",
    "    for row in range(1, len(matrix)):\n",
    "        for col in range(len(matrix[0])):\n",
    "            # even rows we work left to right\n",
    "            if row % 2 == 0:\n",
    "                mval = matrix[row][col]\n",
    "                # if cell is inaccessible or the matrix value is -1, fill in with -1\n",
    "                if (lookup[row-1][col] == -1 and (col == 0 or lookup[row][col-1] == -1)) or mval == -1:\n",
    "                    lookup[row][col] = -1\n",
    "                else:\n",
    "                    lookup[row][col] = max(lookup[row][col-1], lookup[row-1][col]) + mval if col > 0 else lookup[row-1][col] + mval\n",
    "                    maxpoints = max(maxpoints, lookup[row][col])\n",
    "            else:\n",
    "                # odd rows we work from right to left\n",
    "                colpos = len(matrix[0]) - 1 - col\n",
    "                mval = matrix[row][colpos]\n",
    "                # if the cell is inaccessible or the matrix value is -1, fill in with -1\n",
    "                if (lookup[row - 1][colpos] == -1 and (col == 0 or lookup[row][colpos + 1] == -1)) or mval == -1:\n",
    "                    lookup[row][colpos] = -1\n",
    "                else:\n",
    "                    lookup[row][colpos] = max(lookup[row - 1][colpos], lookup[row][colpos+1]) + mval if col > 0 else lookup[row-1][colpos] + mval\n",
    "                    maxpoints = max(maxpoints, lookup[row][colpos])\n",
    "    return maxpoints"
   ]
  },
  {
   "cell_type": "code",
   "execution_count": 59,
   "metadata": {},
   "outputs": [
    {
     "name": "stdout",
     "output_type": "stream",
     "text": [
      "CPU times: user 34 µs, sys: 1 µs, total: 35 µs\n",
      "Wall time: 37.9 µs\n"
     ]
    },
    {
     "data": {
      "text/plain": [
       "9"
      ]
     },
     "execution_count": 59,
     "metadata": {},
     "output_type": "execute_result"
    }
   ],
   "source": [
    "%%time\n",
    "collectPointsBottomUp(matrix)"
   ]
  }
 ],
 "metadata": {
  "kernelspec": {
   "display_name": "Python 3",
   "language": "python",
   "name": "python3"
  },
  "language_info": {
   "codemirror_mode": {
    "name": "ipython",
    "version": 3
   },
   "file_extension": ".py",
   "mimetype": "text/x-python",
   "name": "python",
   "nbconvert_exporter": "python",
   "pygments_lexer": "ipython3",
   "version": "3.8.5"
  }
 },
 "nbformat": 4,
 "nbformat_minor": 4
}
