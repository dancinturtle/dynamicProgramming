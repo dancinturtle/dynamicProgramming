{
 "cells": [
  {
   "cell_type": "markdown",
   "metadata": {},
   "source": [
    "## Longest Common Substring Problem\n",
    "\n",
    "https://www.techiedelight.com/longest-common-substring-problem/\n",
    "\n",
    "Find the longest string (or strings) that is a substring (or are substrings) of two strings.\n",
    "\n",
    "This problem differs from the Longest Common Subsequence because substrings are required to occupy consecutive positions within the original string.\n",
    "\n",
    "For example:\n",
    "    \n",
    "    string 1: ABABC\n",
    "    string 2: BABCA\n",
    "    common substring: BABC\n",
    "    ABC is NOT a substring since they do not come consecutively\n",
    "    \n",
    "\n",
    "So when we set up our 2D matrix, what we want to keep track of is whether we have a match of chacters and whether the character before (one row up, one column to the left) also matched. \n",
    "\n",
    "If it's not a match, fill it in with a zero - meaning that if we want to use this character, it cannot match with the one in the other substring.\n",
    "\n",
    "If it is a match, look to the upper left value. We can add one to this value, meaning that if we're using this character, there is a prefix before it made of the characters that are consecutive to it that we can use.\n",
    "    \n",
    "              A   B   A   B   C\n",
    "           0  0   0   0   0   0 \n",
    "\n",
    "        B  0  0   1   0   1   0\n",
    "\n",
    "        A  0  1   0   2   0   0\n",
    "\n",
    "        B  0  0   2   0   3   0\n",
    "\n",
    "        C  0  0   0   0   0   4\n",
    "\n",
    "        A  0  1   0   1   0   0"
   ]
  },
  {
   "cell_type": "code",
   "execution_count": 16,
   "metadata": {},
   "outputs": [],
   "source": [
    "def commonsubstring(x, y):\n",
    "    lookup = [[0]*(len(x) + 1) for _ in range(len(y)+1)]\n",
    "    max_length = 1\n",
    "    ending_index = 0\n",
    "    for i in range(len(y)):\n",
    "        for j in range(len(x)):\n",
    "            row = i+1\n",
    "            col = j+1\n",
    "            if x[j] == y[i]:\n",
    "                length = lookup[i][j] + 1\n",
    "                lookup[row][col] = length\n",
    "                if length > max_length:\n",
    "                    max_length = length\n",
    "                    ending_index = i\n",
    "    return y[ending_index - max_length + 1 : ending_index + 1]"
   ]
  },
  {
   "cell_type": "code",
   "execution_count": 22,
   "metadata": {},
   "outputs": [],
   "source": [
    "\"\"\" test strings \"\"\"\n",
    "A = 'ABABC'\n",
    "B = 'BABCA'\n",
    "C = 'ABC'\n",
    "D = 'BABA'\n",
    "E = 'ABABCGHIJ'\n",
    "F = 'BABCAGHIJ'"
   ]
  },
  {
   "cell_type": "code",
   "execution_count": 17,
   "metadata": {},
   "outputs": [
    {
     "data": {
      "text/plain": [
       "'BABC'"
      ]
     },
     "execution_count": 17,
     "metadata": {},
     "output_type": "execute_result"
    }
   ],
   "source": [
    "commonsubstring('ABABC', 'BABCA')"
   ]
  },
  {
   "cell_type": "code",
   "execution_count": 19,
   "metadata": {},
   "outputs": [
    {
     "data": {
      "text/plain": [
       "'AB'"
      ]
     },
     "execution_count": 19,
     "metadata": {},
     "output_type": "execute_result"
    }
   ],
   "source": [
    "commonsubstring(C, D)"
   ]
  },
  {
   "cell_type": "code",
   "execution_count": 20,
   "metadata": {},
   "outputs": [],
   "source": [
    "def allcommonsubstrings(x, y):\n",
    "    lookup = [[0]*(len(x) + 1) for _ in range(len(y)+1)]\n",
    "    max_length = 1\n",
    "    ending_indices = []\n",
    "    for i in range(len(y)):\n",
    "        for j in range(len(x)):\n",
    "            row = i+1\n",
    "            col = j+1\n",
    "            if x[j] == y[i]:\n",
    "                length = lookup[i][j] + 1\n",
    "                lookup[row][col] = length\n",
    "                if length > max_length:\n",
    "                    max_length = length\n",
    "                    ending_indices = [i]\n",
    "                elif length == max_length:\n",
    "                    ending_indices.append(i)\n",
    "    return [y[e - max_length + 1 : e + 1] for e in ending_indices]"
   ]
  },
  {
   "cell_type": "code",
   "execution_count": 23,
   "metadata": {},
   "outputs": [
    {
     "data": {
      "text/plain": [
       "['BABC', 'GHIJ']"
      ]
     },
     "execution_count": 23,
     "metadata": {},
     "output_type": "execute_result"
    }
   ],
   "source": [
    "allcommonsubstrings(E, F)"
   ]
  }
 ],
 "metadata": {
  "kernelspec": {
   "display_name": "Python 3",
   "language": "python",
   "name": "python3"
  },
  "language_info": {
   "codemirror_mode": {
    "name": "ipython",
    "version": 3
   },
   "file_extension": ".py",
   "mimetype": "text/x-python",
   "name": "python",
   "nbconvert_exporter": "python",
   "pygments_lexer": "ipython3",
   "version": "3.8.5"
  }
 },
 "nbformat": 4,
 "nbformat_minor": 4
}
