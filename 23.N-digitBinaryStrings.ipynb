{
 "cells": [
  {
   "cell_type": "markdown",
   "metadata": {},
   "source": [
    "### Find all N-digit binary strings without any consecutive 1's\n",
    "\n",
    "Given a positive integer n, count all n-digit binary strings without any consecutive 1's.\n",
    "\n",
    "Example:\n",
    "\n",
    "```\n",
    "n = 5\n",
    "The binary strings that satisfy the given constraints are:\n",
    "00000\n",
    "00001\n",
    "00010\n",
    "00100\n",
    "00101\n",
    "01000\n",
    "01001\n",
    "01010\n",
    "10000\n",
    "10001\n",
    "10010\n",
    "10100\n",
    "10101\n",
    "```"
   ]
  },
  {
   "cell_type": "code",
   "execution_count": 10,
   "metadata": {},
   "outputs": [],
   "source": [
    "# this could also return all the strings by returning the allStrings array instead of the length\n",
    "def binaryRec(n, curr=\"\", allStrings=None):\n",
    "    if allStrings == None:\n",
    "        allStrings = []\n",
    "    if n == 0:\n",
    "        allStrings.append(curr)\n",
    "    else:\n",
    "        if len(curr) == 0 or curr[-1] == \"0\":\n",
    "            binaryRec(n-1, curr + \"1\", allStrings)\n",
    "        binaryRec(n-1, curr + \"0\", allStrings)\n",
    "    return len(allStrings)"
   ]
  },
  {
   "cell_type": "code",
   "execution_count": 9,
   "metadata": {},
   "outputs": [],
   "source": [
    "def binaryCountRec(n, last=0):\n",
    "    if n == 0:\n",
    "        return 0\n",
    "    if n == 1:\n",
    "        return 2 if last == 0 else 1\n",
    "    if last == 0:\n",
    "        return binaryCountRec(n-1, 1) + binaryCountRec(n-1, 0)\n",
    "    else:\n",
    "        return binaryCountRec(n-1, 0)\n",
    "        "
   ]
  },
  {
   "cell_type": "code",
   "execution_count": 28,
   "metadata": {},
   "outputs": [
    {
     "name": "stdout",
     "output_type": "stream",
     "text": [
      "CPU times: user 35 µs, sys: 1 µs, total: 36 µs\n",
      "Wall time: 41 µs\n"
     ]
    },
    {
     "data": {
      "text/plain": [
       "13"
      ]
     },
     "execution_count": 28,
     "metadata": {},
     "output_type": "execute_result"
    }
   ],
   "source": [
    "%%time\n",
    "binaryRec(5)"
   ]
  },
  {
   "cell_type": "code",
   "execution_count": 11,
   "metadata": {
    "scrolled": false
   },
   "outputs": [
    {
     "name": "stdout",
     "output_type": "stream",
     "text": [
      "CPU times: user 204 ms, sys: 12.2 ms, total: 216 ms\n",
      "Wall time: 216 ms\n"
     ]
    },
    {
     "data": {
      "text/plain": [
       "196418"
      ]
     },
     "execution_count": 11,
     "metadata": {},
     "output_type": "execute_result"
    }
   ],
   "source": [
    "%%time\n",
    "binaryRec(25)"
   ]
  },
  {
   "cell_type": "code",
   "execution_count": 29,
   "metadata": {},
   "outputs": [
    {
     "name": "stdout",
     "output_type": "stream",
     "text": [
      "CPU times: user 12 µs, sys: 1e+03 ns, total: 13 µs\n",
      "Wall time: 16.9 µs\n"
     ]
    },
    {
     "data": {
      "text/plain": [
       "13"
      ]
     },
     "execution_count": 29,
     "metadata": {},
     "output_type": "execute_result"
    }
   ],
   "source": [
    "%%time\n",
    "binaryCountRec(5)"
   ]
  },
  {
   "cell_type": "code",
   "execution_count": 20,
   "metadata": {
    "scrolled": true
   },
   "outputs": [
    {
     "name": "stdout",
     "output_type": "stream",
     "text": [
      "CPU times: user 64.5 ms, sys: 3.05 ms, total: 67.6 ms\n",
      "Wall time: 67.7 ms\n"
     ]
    },
    {
     "data": {
      "text/plain": [
       "196418"
      ]
     },
     "execution_count": 20,
     "metadata": {},
     "output_type": "execute_result"
    }
   ],
   "source": [
    "%%time\n",
    "binaryCountRec(25)"
   ]
  },
  {
   "cell_type": "markdown",
   "metadata": {},
   "source": [
    "### Dynamic approach\n",
    "\n",
    "We could make a table that charts how many strings we can make ending with each digit for every string length required.\n",
    "\n",
    "We know if it's just 1 digit long, we can have either a 0 or a 1.\n",
    "\n",
    "For two digits, we can add a 0 to both the 0 or 1 from before, and a 1 to the 0\n",
    "\n",
    "And proceed in this manner\n",
    "\n",
    "```\n",
    "# of digits  |   end with 0  |    end with 1        |     total\n",
    "1                    1                 1                    2\n",
    "2              sum row 1 (2)      0 of row 1 (1)            3\n",
    "3              sum row 2 (3)      0 of row 2 (2)            5\n",
    "```"
   ]
  },
  {
   "cell_type": "code",
   "execution_count": 26,
   "metadata": {},
   "outputs": [],
   "source": [
    "def binaryDy(n):\n",
    "    lookup = [[0] * 3 for _ in range(n)]\n",
    "    lookup[0][0] = 1\n",
    "    lookup[0][1] = 1\n",
    "    lookup[0][2] = 2\n",
    "    for row in range(1, len(lookup)):\n",
    "        lookup[row][0] = lookup[row-1][2]\n",
    "        lookup[row][1] = lookup[row-1][0]\n",
    "        lookup[row][2] = lookup[row][0] + lookup[row][1]\n",
    "    return lookup[-1][-1]"
   ]
  },
  {
   "cell_type": "code",
   "execution_count": 30,
   "metadata": {
    "scrolled": true
   },
   "outputs": [
    {
     "name": "stdout",
     "output_type": "stream",
     "text": [
      "CPU times: user 10 µs, sys: 1 µs, total: 11 µs\n",
      "Wall time: 13.8 µs\n"
     ]
    },
    {
     "data": {
      "text/plain": [
       "13"
      ]
     },
     "execution_count": 30,
     "metadata": {},
     "output_type": "execute_result"
    }
   ],
   "source": [
    "%%time\n",
    "binaryDy(5)"
   ]
  },
  {
   "cell_type": "code",
   "execution_count": 31,
   "metadata": {},
   "outputs": [
    {
     "name": "stdout",
     "output_type": "stream",
     "text": [
      "CPU times: user 28 µs, sys: 0 ns, total: 28 µs\n",
      "Wall time: 31 µs\n"
     ]
    },
    {
     "data": {
      "text/plain": [
       "196418"
      ]
     },
     "execution_count": 31,
     "metadata": {},
     "output_type": "execute_result"
    }
   ],
   "source": [
    "%%time\n",
    "binaryDy(25)"
   ]
  },
  {
   "cell_type": "markdown",
   "metadata": {},
   "source": [
    "### Fibonacci\n",
    "\n",
    "We could just use basically a Fibonacci sequence to solve this, but I don't think that's the expected approach."
   ]
  },
  {
   "cell_type": "code",
   "execution_count": 18,
   "metadata": {},
   "outputs": [],
   "source": [
    "def fib(n):\n",
    "    allStrings = [0, 2, 3]\n",
    "    while n >= len(allStrings):\n",
    "        allStrings.append(allStrings[-1] + allStrings[-2])\n",
    "    return allStrings[n]"
   ]
  },
  {
   "cell_type": "code",
   "execution_count": 32,
   "metadata": {},
   "outputs": [
    {
     "name": "stdout",
     "output_type": "stream",
     "text": [
      "CPU times: user 11 µs, sys: 0 ns, total: 11 µs\n",
      "Wall time: 13.1 µs\n"
     ]
    },
    {
     "data": {
      "text/plain": [
       "196418"
      ]
     },
     "execution_count": 32,
     "metadata": {},
     "output_type": "execute_result"
    }
   ],
   "source": [
    "%%time\n",
    "fib(25)"
   ]
  }
 ],
 "metadata": {
  "kernelspec": {
   "display_name": "Python 3",
   "language": "python",
   "name": "python3"
  },
  "language_info": {
   "codemirror_mode": {
    "name": "ipython",
    "version": 3
   },
   "file_extension": ".py",
   "mimetype": "text/x-python",
   "name": "python",
   "nbconvert_exporter": "python",
   "pygments_lexer": "ipython3",
   "version": "3.8.5"
  }
 },
 "nbformat": 4,
 "nbformat_minor": 4
}
