{
 "cells": [
  {
   "cell_type": "markdown",
   "metadata": {},
   "source": [
    "### Matrix Chain Multiplication\n",
    "\n",
    "Determine the optimal parenthesization of a product of n matrices.\n",
    "\n",
    "Find the most efficient way to multiply a given sequence of matrices. The problem is not actually to perform the multiplications but merely to decide the sequence of the matrix multiplications involved.\n",
    "\n",
    "The matrix multiplication is associative as no matter how the product is parenthesized, the result will remain the same. For example, for four matrices A, B, C, and D, we would have:\n",
    "\n",
    "```\n",
    "((AB)C)D = ((A(BC))D) = (AB)(CD) = A((BC)D) = A(B(CD))\n",
    "```\n",
    "\n",
    "However, the order in which the product is parenthesized affects the number of simple arithmetic operations needed to compute the product or the efficiency. For example:\n",
    "\n",
    "```\n",
    "A is a 10x30 matrix\n",
    "B is a 30x5 matrix\n",
    "C is a 5x60 matrix\n",
    "\n",
    "(AB)C needs (10 x 30 x 5) + (10 x 5 x 60) = 1500 + 3000 = 4500 operations\n",
    "\n",
    "A(BC) needs (30 x 5 x 60) + (10 x 30 x 60) = 9000 + 180000 = 27000 operations\n",
    "\n",
    "First method is more efficient\n",
    "```\n",
    "\n",
    "Break the problem into a set of related subproblems.\n",
    "\n",
    "With recursion, we can try all possible combinations. We split the sequence into two subsequences and find the minimum cost of multiplying each subsequence. Add these costs together, and add in the price of multiplying the two resulting matrices. Repeat for every possible position the sequence can be split.\n",
    "\n",
    "Given: array dims with dimensions such that each matrix M[i] has dimensions dims[i-1] x dims[i] for i = 1....n\n",
    "\n",
    "Example:\n",
    "```\n",
    "[10, 30, 5, 60]\n",
    "split into [10, 30] and [30, 5, 60]\n",
    "[30, 5, 60] = 30 x 5 x 60 = 9000\n",
    "Then [10, 30, 60] = 18000\n",
    "9000 + 18000 = 27000\n",
    "\n",
    "or split into [10, 30, 5] and [5, 60]\n",
    "[10, 30, 5] = 10 x 30 x 5 = 1500\n",
    "Then [10, 5, 60] = 3000\n",
    "1500 + 3000 = 4500\n",
    "```\n"
   ]
  },
  {
   "cell_type": "code",
   "execution_count": 1,
   "metadata": {},
   "outputs": [],
   "source": [
    "def matrixMultiplication(dims, i=None, j=None):\n",
    "    if i==None:\n",
    "        i = 0\n",
    "        j = len(dims) - 1\n",
    "    # if there is just one matrix\n",
    "    if j <= i + 1:\n",
    "        return 0\n",
    "    minimumOps = None\n",
    "    for k in range(i+1, j):\n",
    "        cost = matrixMultiplication(dims, i, k)\n",
    "        cost += matrixMultiplication(dims, k, j)\n",
    "        cost += dims[i] * dims[k] * dims[j]\n",
    "        if minimumOps == None:\n",
    "            minimumOps = cost\n",
    "        else:\n",
    "            minimumOps = min(minimumOps, cost)\n",
    "    return minimumOps"
   ]
  },
  {
   "cell_type": "code",
   "execution_count": 100,
   "metadata": {},
   "outputs": [
    {
     "name": "stdout",
     "output_type": "stream",
     "text": [
      "CPU times: user 6.4 s, sys: 82.2 ms, total: 6.48 s\n",
      "Wall time: 6.99 s\n"
     ]
    },
    {
     "data": {
      "text/plain": [
       "25218"
      ]
     },
     "execution_count": 100,
     "metadata": {},
     "output_type": "execute_result"
    }
   ],
   "source": [
    "%%time\n",
    "matrixMultiplication([10,30,5,60,8,44,20,10,28,15,3,15,32,56,22,10,66])"
   ]
  },
  {
   "cell_type": "code",
   "execution_count": 4,
   "metadata": {},
   "outputs": [],
   "source": [
    "def matrixChain(dims):\n",
    "    minimumOps = None\n",
    "    if len(dims) < 3:\n",
    "        return 0\n",
    "    if len(dims) == 3:\n",
    "        return dims[0] * dims[1] * dims[2]\n",
    "    for i in range(2, len(dims)):\n",
    "        left = dims[:i]\n",
    "        right = dims[i-1:]\n",
    "        leftCount = matrixChain(left)\n",
    "        rightCount = matrixChain(right)\n",
    "        ops = leftCount + rightCount + (left[0] * left[-1] * right[-1])\n",
    "        minimumOps = ops if minimumOps == None else min(minimumOps, ops)\n",
    "    return minimumOps\n",
    "            \n",
    "            "
   ]
  },
  {
   "cell_type": "code",
   "execution_count": 102,
   "metadata": {},
   "outputs": [
    {
     "name": "stdout",
     "output_type": "stream",
     "text": [
      "CPU times: user 4.71 s, sys: 34.5 ms, total: 4.74 s\n",
      "Wall time: 4.87 s\n"
     ]
    },
    {
     "data": {
      "text/plain": [
       "25218"
      ]
     },
     "execution_count": 102,
     "metadata": {},
     "output_type": "execute_result"
    }
   ],
   "source": [
    "%%time\n",
    "matrixChain([10,30,5,60,8,44,20,10,28,15,3,15,32,56,22,10,66])\n"
   ]
  },
  {
   "cell_type": "markdown",
   "metadata": {},
   "source": [
    "### Dynamic programming\n",
    "\n",
    "Without recursion, we'll make a lookup table and calculate the number of operations for the smallest possible subsequences first. From there we'll fill out to the larger subsequences, taking the minimum operations required by adding the smaller subsequences first and then calculating the operations needed to multiply the resulting matrix with the one we're adding.\n",
    "\n",
    "For example:\n",
    "\n",
    "```\n",
    "\n",
    "[10, 30, 5, 60]\n",
    "\n",
    "We'll use i to track the starting position and j to track the stopping position.\n",
    "We'll start by tracking the multiplication of two matrices, meaning i and j can only be 2 apart.\n",
    "\n",
    "i = 0\n",
    "j = 2\n",
    "\n",
    "Our lookup tracks i on the y axis, j on the x axis. 10 * 30 * 5 = 1500, put that at lookup[0][2]\n",
    "\n",
    "\n",
    "            10            30             5               60\n",
    "            \n",
    "   10       0             0            1500               0\n",
    "   \n",
    "   30       0             0              0                0\n",
    "   \n",
    "   5        0             0              0                0 \n",
    "   \n",
    "   60       0             0              0                0\n",
    "   \n",
    "Next is i=1 and j=3, that's 30 * 5 * 60 = 9000, put that at lookup[1][3]\n",
    "\n",
    "\n",
    "            10            30             5               60\n",
    "            \n",
    "   10       0             0            1500               0\n",
    "   \n",
    "   30       0             0              0               9000\n",
    "   \n",
    "   5        0             0              0                0 \n",
    "   \n",
    "   60       0             0              0                0\n",
    "   \n",
    "Now we can start looking at longer subsequences. We'll start with i=0, j=3.\n",
    "\n",
    "We'll assign k to see how we should split up this sequence. Start with k at 1, meaning that we'll consider the 10x30 matrix separately and apply it only after we've figured out everything from i=1 to j=3.\n",
    "\n",
    "k = 1\n",
    "lookup[i][k] = 0\n",
    "lookup[k][j] = 9000\n",
    "lookup[i][j] = 0 + 9000 + dimensions[i] * dimensions[k] * dimsensions[j] = 18000\n",
    "\n",
    "k = 2\n",
    "lookup[i][k] = 1500\n",
    "lookup[k][j] = 0\n",
    "lookup[i][j] = 1500 + 0 + dimsensions[i] * dimensions[k] * dimensions[j] = 4500\n",
    "\n",
    "Since 4500 < 18000, we'll take the 4500\n",
    "\n",
    "\n",
    "\n",
    "            10            30             5               60\n",
    "            \n",
    "   10       0             0            1500              4500\n",
    "   \n",
    "   30       0             0              0               9000\n",
    "   \n",
    "   5        0             0              0                0 \n",
    "   \n",
    "   60       0             0              0                0\n",
    "   \n",
    "\n",
    "\n",
    "```\n"
   ]
  },
  {
   "cell_type": "code",
   "execution_count": 108,
   "metadata": {},
   "outputs": [
    {
     "data": {
      "text/plain": [
       "3000"
      ]
     },
     "execution_count": 108,
     "metadata": {},
     "output_type": "execute_result"
    }
   ],
   "source": [
    "10 * 5 * 60\n"
   ]
  },
  {
   "cell_type": "code",
   "execution_count": 105,
   "metadata": {},
   "outputs": [
    {
     "name": "stdout",
     "output_type": "stream",
     "text": [
      "[[0, 0, 1500, 4500], [0, 0, 0, 9000], [0, 0, 0, 0], [0, 0, 0, 0]]\n"
     ]
    },
    {
     "data": {
      "text/plain": [
       "4500"
      ]
     },
     "execution_count": 105,
     "metadata": {},
     "output_type": "execute_result"
    }
   ],
   "source": [
    "matrixChainLookup([10,30,5,60])"
   ]
  },
  {
   "cell_type": "code",
   "execution_count": 104,
   "metadata": {},
   "outputs": [],
   "source": [
    "def matrixChainLookup(dims):\n",
    "    lookup = [[0] * len(dims) for _ in range(len(dims))]\n",
    "    for diff in range(2, len(dims)):\n",
    "        # we're going to fill in the lookup table with all the possible first pairings of matrices, then work up\n",
    "        for i in range(len(dims) - 2):\n",
    "            j = i + diff\n",
    "            if j == i + 2:\n",
    "                lookup[i][j] = dims[i] * dims[i+1] * dims[j]\n",
    "              \n",
    "            elif j < len(dims):\n",
    "                k = i + 1\n",
    "                lookup[i][j] = lookup[i][k] + lookup[k][j] + (dims[i] * dims[k] * dims[j])\n",
    "               \n",
    "                k += 1\n",
    "                while k < j:\n",
    "                    lookup[i][j] = min(lookup[i][j], lookup[i][k] + lookup[k][j] + (dims[i] * dims[k] * dims[j]))\n",
    "                    k += 1\n",
    "    print(lookup)\n",
    "    return lookup[0][-1]"
   ]
  },
  {
   "cell_type": "code",
   "execution_count": 101,
   "metadata": {
    "scrolled": false
   },
   "outputs": [
    {
     "name": "stdout",
     "output_type": "stream",
     "text": [
      "CPU times: user 948 µs, sys: 9 µs, total: 957 µs\n",
      "Wall time: 954 µs\n"
     ]
    },
    {
     "data": {
      "text/plain": [
       "25218"
      ]
     },
     "execution_count": 101,
     "metadata": {},
     "output_type": "execute_result"
    }
   ],
   "source": [
    "%%time\n",
    "matrixChainLookup([10,30,5,60,8,44,20,10,28,15,3,15,32,56,22,10,66])"
   ]
  },
  {
   "cell_type": "code",
   "execution_count": 68,
   "metadata": {},
   "outputs": [
    {
     "name": "stdout",
     "output_type": "stream",
     "text": [
      "i 0 k 2 j 3 18\n",
      "i 1 k 3 j 4 64\n",
      "i 2 k 4 j 5 150\n",
      "i 0 k 2 j 4 81\n",
      "i 0 k 3 j 4 38\n",
      "i 1 k 3 j 5 192\n",
      "i 1 k 4 j 5 124\n",
      "i 0 k 2 j 5 174\n",
      "i 0 k 3 j 5 162\n",
      "i 0 k 4 j 5 68\n"
     ]
    },
    {
     "data": {
      "text/plain": [
       "[[0, 0, 6, 18, 38, 68],\n",
       " [0, 0, 0, 24, 64, 124],\n",
       " [0, 0, 0, 0, 60, 150],\n",
       " [0, 0, 0, 0, 0, 120],\n",
       " [0, 0, 0, 0, 0, 0],\n",
       " [0, 0, 0, 0, 0, 0]]"
      ]
     },
     "execution_count": 68,
     "metadata": {},
     "output_type": "execute_result"
    }
   ],
   "source": [
    "matrixChainLookup([1,2,3,4,5,6])\n"
   ]
  }
 ],
 "metadata": {
  "kernelspec": {
   "display_name": "Python 3",
   "language": "python",
   "name": "python3"
  },
  "language_info": {
   "codemirror_mode": {
    "name": "ipython",
    "version": 3
   },
   "file_extension": ".py",
   "mimetype": "text/x-python",
   "name": "python",
   "nbconvert_exporter": "python",
   "pygments_lexer": "ipython3",
   "version": "3.8.5"
  }
 },
 "nbformat": 4,
 "nbformat_minor": 4
}
