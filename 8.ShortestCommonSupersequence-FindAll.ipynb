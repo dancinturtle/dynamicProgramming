{
 "cells": [
  {
   "cell_type": "markdown",
   "metadata": {},
   "source": [
    "### Shortest Common Supersequence - Find All SCS\n",
    "\n",
    "The shortest common supersequence is finding the shortest supersequence Z of two given sequences X and Y such that both X and Y are subsequences of Z.\n",
    "\n",
    "Example:\n",
    "\n",
    "```\n",
    "Consider the following sequences:\n",
    "X: ABCBDAB\n",
    "Y: BDCABA\n",
    "\n",
    "The length of the SCS is 9\n",
    "The SCS are ABCBDCABA, ABDCABDAB, and ABDCBDABA\n",
    "```\n",
    "\n",
    "We can solve this in a bottom up approach as seen in problem 7 and create the lookup table. \n",
    "\n",
    "             A    B    C    B    D    A    B\n",
    "         0   1    2    3    4    5    6    7\n",
    "     B   1   2    2    3    4    5    6    7\n",
    "     D   2   3    3    4    5    5    6    7\n",
    "     C   3   4    4    4    5    6    7    8\n",
    "     A   4   4    5    5    6    7    7    8\n",
    "     B   5   5    5    6    6    7    8    8\n",
    "     A   6   6    6    7    7    8    8    9\n",
    "\n",
    "We start at the bottom right.\n",
    "\n",
    "If the letters match, we add that letter to the end of our supersequence and move up and left.\n",
    "\n",
    "If the letters do not match, we see which is smaller of the options to the left and above.\n",
    "\n",
    "If the smaller number is to the left, add the letter from the top sequence and move left. If to the top, add the letter from the left sequence and move up.\n",
    "\n",
    "If the numbers are equal, we have to try both.\n",
    "\n",
    "\n",
    "    9 at [6][7], B and A. Both are equal, so we have to try going both left and up\n",
    "\n",
    "      LEFT: \n",
    "       8 at [6][6] -> B, A and A match -> AB\n",
    "       7 at [5][5] -> B and D, smaller number to the left -> DAB\n",
    "       6 at [5][4] -> B and B match, BDAB, move up left\n",
    "       5 at [4][3] -> A and C, smaller number is up -> ABDAB\n",
    "       4 at [3][3] -> C and C match, CABDAB, move up left\n",
    "       3 at [2][2] -> B and D, smaller number is up -> DCABDAB\n",
    "       2 at [1][2] -> B and B match, BDCABDAB, move up left\n",
    "       1 at [0][1] -> A and nothing, have to add the A -> ABDCABDAB <= FIRST SUPERSEQUENCE\n",
    "\n",
    "      UP:\n",
    "       8 at [5][7] -> A, B and B match -> BA, move up left\n",
    "       7 at [4][6] -> A and A match -> ABA, move up left\n",
    "       6 at [3][5] -> C and D and equal both ways, have to try both left and up\n",
    "\n",
    "        LEFT:\n",
    "          5 at [3][4] -> DABA, B and C and moving left -> BDABA\n",
    "          4 at [3][3] -> C and C match -> CBDABA, move up left\n",
    "          3 at [2][2] -> B and D, smaller number is up -> DCBDABA\n",
    "          2 at [1][2] -> B and B match, BDCBDABA, move up left\n",
    "          1 at [0][1] -> A and nothing, add A -> ABDCBDABA <= SECOND SUPERSEQUENCE\n",
    " \n",
    "\n",
    "        UP:\n",
    "          5 at [2][5] -> CABA, D and D match, move up left -> DCABA\n",
    "          4 at [1][4] -> B and B match, move up left -> BDCABA\n",
    "          3 at [0][3] -> add what's left of the top sequence -> ABCBDCABA <= THIRD SUPERSEQUENCE\n",
    "   "
   ]
  },
  {
   "cell_type": "code",
   "execution_count": 1,
   "metadata": {},
   "outputs": [],
   "source": [
    "def shortestSupersequence(s1, s2):\n",
    "    lookup = [[0] * (len(s1) + 1) for _ in range(len(s2) + 1)]\n",
    "    for i in range(len(lookup[0])):\n",
    "        lookup[0][i] = i\n",
    "    for j in range(len(lookup)):\n",
    "        lookup[j][0] = j\n",
    "    for row in range(1, len(lookup)):\n",
    "        for col in range(1, len(lookup[0])):\n",
    "            if s1[col-1] == s2[row-1]:\n",
    "                lookup[row][col] = lookup[row-1][col-1] + 1\n",
    "            else:\n",
    "                lookup[row][col] = min(lookup[row-1][col], lookup[row][col-1]) + 1\n",
    "    return lookup"
   ]
  },
  {
   "cell_type": "code",
   "execution_count": 4,
   "metadata": {},
   "outputs": [
    {
     "data": {
      "text/plain": [
       "'abc'"
      ]
     },
     "execution_count": 4,
     "metadata": {},
     "output_type": "execute_result"
    }
   ],
   "source": [
    "string = \"abcdefg\"\n",
    "string[:3]"
   ]
  },
  {
   "cell_type": "code",
   "execution_count": 10,
   "metadata": {},
   "outputs": [],
   "source": [
    "def getAllSupersequences(s1, s2, lookup, supseq=\"\", row=None, col=None, sequences=None):\n",
    "    if sequences == None:\n",
    "        sequences = []\n",
    "        row = len(lookup) - 1\n",
    "        col = len(lookup[0]) - 1\n",
    "    if row == 0 and col == 0:\n",
    "        sequences.append(supseq)\n",
    "    elif row == 0:\n",
    "        supseq = s1[:col] + supseq\n",
    "        sequences.append(supseq)\n",
    "       \n",
    "    elif col == 0:\n",
    "        supseq = s2[:row] + supseq\n",
    "        sequences.append(supseq)\n",
    "       \n",
    "    elif s1[col-1] == s2[row-1]:\n",
    "        supseq = s1[col-1] + supseq\n",
    "        getAllSupersequences(s1, s2, lookup, supseq, row-1, col-1, sequences)\n",
    "    else:\n",
    "        if lookup[row-1][col] <= lookup[row][col-1]:\n",
    "            getAllSupersequences(s1, s2, lookup, s2[row-1]+supseq, row-1, col, sequences)\n",
    "        if lookup[row][col-1] <= lookup[row-1][col]:\n",
    "            getAllSupersequences(s1, s2, lookup, s1[col-1]+supseq, row, col-1, sequences)\n",
    "    return sequences\n",
    "        \n",
    "    \n",
    "    \n",
    "    "
   ]
  },
  {
   "cell_type": "code",
   "execution_count": 11,
   "metadata": {},
   "outputs": [],
   "source": [
    "def findAllSupersequences(s1, s2):\n",
    "    lookup = shortestSupersequence(s1, s2)\n",
    "    return getAllSupersequences(s1, s2, lookup)"
   ]
  },
  {
   "cell_type": "code",
   "execution_count": 19,
   "metadata": {},
   "outputs": [],
   "source": [
    "s1 = \"ABCBDAB\"\n",
    "s2 = \"BDCABA\"\n",
    "s3 = \"ABCBDBABADABSABASD\"\n",
    "s4 = \"BASDVASBAADASBASDAB\""
   ]
  },
  {
   "cell_type": "code",
   "execution_count": 3,
   "metadata": {},
   "outputs": [
    {
     "data": {
      "text/plain": [
       "[[0, 1, 2, 3, 4, 5, 6, 7],\n",
       " [1, 2, 2, 3, 4, 5, 6, 7],\n",
       " [2, 3, 3, 4, 5, 5, 6, 7],\n",
       " [3, 4, 4, 4, 5, 6, 7, 8],\n",
       " [4, 4, 5, 5, 6, 7, 7, 8],\n",
       " [5, 5, 5, 6, 6, 7, 8, 8],\n",
       " [6, 6, 6, 7, 7, 8, 8, 9]]"
      ]
     },
     "execution_count": 3,
     "metadata": {},
     "output_type": "execute_result"
    }
   ],
   "source": [
    "shortestSupersequence(s1, s2)"
   ]
  },
  {
   "cell_type": "code",
   "execution_count": 12,
   "metadata": {},
   "outputs": [
    {
     "data": {
      "text/plain": [
       "['ABCBDCABA', 'ABDCBDABA', 'ABDCABDAB']"
      ]
     },
     "execution_count": 12,
     "metadata": {},
     "output_type": "execute_result"
    }
   ],
   "source": [
    "findAllSupersequences(s1, s2)"
   ]
  },
  {
   "cell_type": "code",
   "execution_count": 20,
   "metadata": {},
   "outputs": [
    {
     "data": {
      "text/plain": [
       "['ABCBASDBVASBAADABSABASDAB',\n",
       " 'ABCABSDBVASBAADABSABASDAB',\n",
       " 'ABACBSDBVASBAADABSABASDAB',\n",
       " 'BABCBSDBVASBAADABSABASDAB',\n",
       " 'ABCASBDBVASBAADABSABASDAB',\n",
       " 'ABACSBDBVASBAADABSABASDAB',\n",
       " 'BABCSBDBVASBAADABSABASDAB',\n",
       " 'ABASCBDBVASBAADABSABASDAB',\n",
       " 'BABSCBDBVASBAADABSABASDAB',\n",
       " 'BASBCBDBVASBAADABSABASDAB',\n",
       " 'ABCBASDVBASBAADABSABASDAB',\n",
       " 'ABCABSDVBASBAADABSABASDAB',\n",
       " 'ABACBSDVBASBAADABSABASDAB',\n",
       " 'BABCBSDVBASBAADABSABASDAB',\n",
       " 'ABCASBDVBASBAADABSABASDAB',\n",
       " 'ABACSBDVBASBAADABSABASDAB',\n",
       " 'BABCSBDVBASBAADABSABASDAB',\n",
       " 'ABASCBDVBASBAADABSABASDAB',\n",
       " 'BABSCBDVBASBAADABSABASDAB',\n",
       " 'BASBCBDVBASBAADABSABASDAB',\n",
       " 'ABCBASDVASBABADABSABASDAB',\n",
       " 'ABCABSDVASBABADABSABASDAB',\n",
       " 'ABACBSDVASBABADABSABASDAB',\n",
       " 'BABCBSDVASBABADABSABASDAB',\n",
       " 'ABCASBDVASBABADABSABASDAB',\n",
       " 'ABACSBDVASBABADABSABASDAB',\n",
       " 'BABCSBDVASBABADABSABASDAB',\n",
       " 'ABASCBDVASBABADABSABASDAB',\n",
       " 'BABSCBDVASBABADABSABASDAB',\n",
       " 'BASBCBDVASBABADABSABASDAB']"
      ]
     },
     "execution_count": 20,
     "metadata": {},
     "output_type": "execute_result"
    }
   ],
   "source": [
    "findAllSupersequences(s3, s4)"
   ]
  }
 ],
 "metadata": {
  "kernelspec": {
   "display_name": "Python 3",
   "language": "python",
   "name": "python3"
  },
  "language_info": {
   "codemirror_mode": {
    "name": "ipython",
    "version": 3
   },
   "file_extension": ".py",
   "mimetype": "text/x-python",
   "name": "python",
   "nbconvert_exporter": "python",
   "pygments_lexer": "ipython3",
   "version": "3.8.5"
  }
 },
 "nbformat": 4,
 "nbformat_minor": 4
}
