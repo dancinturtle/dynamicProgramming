{
 "cells": [
  {
   "cell_type": "markdown",
   "metadata": {},
   "source": [
    "### Minimum sum partition problem\n",
    "\n",
    "Given a set of positive integers `S`, partion set `S` into two subsets, `S1` and `S2`, such that the difference between the sum of elements in `S1` and the sum of elements in `S2` is minimized.\n",
    "\n",
    "Example:\n",
    "```\n",
    "S = {10, 20, 15, 5, 25}\n",
    "We can partition S into two partitions where the minimum absolute difference between the sum of elements is 5.\n",
    "S1 = {10, 20, 5}\n",
    "S2 = {15, 25}\n",
    "\n",
    "Another solution:\n",
    "S1 = {10, 25}\n",
    "S2 = {20, 15, 5}\n",
    "```"
   ]
  },
  {
   "cell_type": "code",
   "execution_count": 14,
   "metadata": {},
   "outputs": [],
   "source": [
    "def minSumRec(arr, total_a=0, total_b=0, pos=0):\n",
    "    if pos >= len(arr):\n",
    "        return abs(total_a - total_b)\n",
    "    a_inc = minSumRec(arr, total_a+arr[pos], total_b, pos+1)\n",
    "    b_inc = minSumRec(arr, total_a, total_b+arr[pos], pos+1)\n",
    "    return min(a_inc, b_inc)"
   ]
  },
  {
   "cell_type": "code",
   "execution_count": 15,
   "metadata": {},
   "outputs": [],
   "source": [
    "a = [10, 20, 15, 5, 25]\n",
    "b = [5, 8, 3, 1, 50, 2, 3, 1, 59, 32, 22, 55, 44, 90, 85, 69, 38, 65, 22, 56, 24, 5, 15, 75]"
   ]
  },
  {
   "cell_type": "code",
   "execution_count": 16,
   "metadata": {
    "scrolled": true
   },
   "outputs": [
    {
     "name": "stdout",
     "output_type": "stream",
     "text": [
      "CPU times: user 33 µs, sys: 1 µs, total: 34 µs\n",
      "Wall time: 34.8 µs\n"
     ]
    },
    {
     "data": {
      "text/plain": [
       "5"
      ]
     },
     "execution_count": 16,
     "metadata": {},
     "output_type": "execute_result"
    }
   ],
   "source": [
    "%%time\n",
    "minSumRec(a)"
   ]
  },
  {
   "cell_type": "code",
   "execution_count": 17,
   "metadata": {},
   "outputs": [
    {
     "name": "stdout",
     "output_type": "stream",
     "text": [
      "CPU times: user 11.3 s, sys: 48.6 ms, total: 11.4 s\n",
      "Wall time: 11.5 s\n"
     ]
    },
    {
     "data": {
      "text/plain": [
       "1"
      ]
     },
     "execution_count": 17,
     "metadata": {},
     "output_type": "execute_result"
    }
   ],
   "source": [
    "%%time\n",
    "minSumRec(b)"
   ]
  },
  {
   "cell_type": "markdown",
   "metadata": {},
   "source": [
    "### Dynamic approach\n",
    "\n",
    "This is much like previous problems we did. We know that we're aiming for getting as close to half the total sum as possible, so we can set up our lookup table going up to that number and seeing if it's possible to generate that sum with subsets of the provided set."
   ]
  },
  {
   "cell_type": "code",
   "execution_count": 2,
   "metadata": {},
   "outputs": [],
   "source": [
    "def minSumPartition(arr):\n",
    "    total = sum(arr)\n",
    "    half = total // 2\n",
    "    lookup = [[False] * (len(arr) + 1) for _ in range(half + 1)]\n",
    "    for i in range(len(lookup[0])):\n",
    "        lookup[0][i] = True\n",
    "    for row in range(1, len(lookup)):\n",
    "        for col in range(1, len(lookup[0])):\n",
    "            if row - arr[col-1] >= 0:\n",
    "                carry = lookup[row-arr[col-1]][col-1]\n",
    "                if carry == False:\n",
    "                    lookup[row][col] = False\n",
    "                else:\n",
    "                    for j in range(col, len(lookup[0])):\n",
    "                        lookup[row][j] = True\n",
    "                    break\n",
    "    for row in range(len(lookup)-1, -1, -1):\n",
    "        if True in lookup[row]:\n",
    "            break\n",
    "    return (row, total-row, abs(total-row-row))\n",
    "    \n",
    "                   "
   ]
  },
  {
   "cell_type": "code",
   "execution_count": 7,
   "metadata": {},
   "outputs": [
    {
     "name": "stdout",
     "output_type": "stream",
     "text": [
      "CPU times: user 87 µs, sys: 1 µs, total: 88 µs\n",
      "Wall time: 89.9 µs\n"
     ]
    },
    {
     "data": {
      "text/plain": [
       "(35, 40, 5)"
      ]
     },
     "execution_count": 7,
     "metadata": {},
     "output_type": "execute_result"
    }
   ],
   "source": [
    "%%time\n",
    "minSumPartition(a)"
   ]
  },
  {
   "cell_type": "code",
   "execution_count": 12,
   "metadata": {
    "scrolled": true
   },
   "outputs": [
    {
     "name": "stdout",
     "output_type": "stream",
     "text": [
      "CPU times: user 2.49 ms, sys: 43 µs, total: 2.53 ms\n",
      "Wall time: 2.54 ms\n"
     ]
    },
    {
     "data": {
      "text/plain": [
       "(414, 415, 1)"
      ]
     },
     "execution_count": 12,
     "metadata": {},
     "output_type": "execute_result"
    }
   ],
   "source": [
    "%%time\n",
    "minSumPartition(b)"
   ]
  },
  {
   "cell_type": "markdown",
   "metadata": {},
   "source": [
    "### Provided solution\n",
    "\n",
    "The provided solution uses the ior operator `|=` that I've never seen before, let's check it out."
   ]
  },
  {
   "cell_type": "code",
   "execution_count": 28,
   "metadata": {},
   "outputs": [],
   "source": [
    "def minPartition(S):\n",
    "    total = sum(S)\n",
    "    T = [[False] * (total + 1) for _ in range(len(S) + 1)]\n",
    "    for i in range(len(S) + 1):\n",
    "        T[i][0] = True\n",
    "        j = 1\n",
    "        while i > 0 and j <= total:\n",
    "            # this is the answer for given sum without including the element\n",
    "            # could be helpful because maybe it's already True\n",
    "            # mine does the same thing - by filling in the row with Trues once we have one\n",
    "            T[i][j] = T[i-1][j]  \n",
    "            if S[i-1] <= j:\n",
    "            # Takes the True from either T[i][j] or T[i-1][j-S[i-1]]\n",
    "            # If both are False, it stays False\n",
    "                T[i][j] |= T[i-1][j-S[i-1]]\n",
    "            j = j+1\n",
    "    j = total // 2\n",
    "    # now we're looking for maximum total achievable between 0 and half the sum when the final element is included\n",
    "    # my solution did the same thing by just making the lookup table only go to half the sum\n",
    "    while j >= 0 and not T[len(S)][j]:\n",
    "        j = j-1\n",
    "    return total - 2*j\n",
    "            "
   ]
  },
  {
   "cell_type": "code",
   "execution_count": 29,
   "metadata": {
    "scrolled": true
   },
   "outputs": [
    {
     "name": "stdout",
     "output_type": "stream",
     "text": [
      "CPU times: user 182 µs, sys: 0 ns, total: 182 µs\n",
      "Wall time: 186 µs\n"
     ]
    },
    {
     "data": {
      "text/plain": [
       "5"
      ]
     },
     "execution_count": 29,
     "metadata": {},
     "output_type": "execute_result"
    }
   ],
   "source": [
    "%%time\n",
    "minPartition(a)"
   ]
  },
  {
   "cell_type": "code",
   "execution_count": 30,
   "metadata": {},
   "outputs": [
    {
     "name": "stdout",
     "output_type": "stream",
     "text": [
      "CPU times: user 10.2 ms, sys: 265 µs, total: 10.5 ms\n",
      "Wall time: 10.5 ms\n"
     ]
    },
    {
     "data": {
      "text/plain": [
       "1"
      ]
     },
     "execution_count": 30,
     "metadata": {},
     "output_type": "execute_result"
    }
   ],
   "source": [
    "%%time\n",
    "minPartition(b)"
   ]
  }
 ],
 "metadata": {
  "kernelspec": {
   "display_name": "Python 3",
   "language": "python",
   "name": "python3"
  },
  "language_info": {
   "codemirror_mode": {
    "name": "ipython",
    "version": 3
   },
   "file_extension": ".py",
   "mimetype": "text/x-python",
   "name": "python",
   "nbconvert_exporter": "python",
   "pygments_lexer": "ipython3",
   "version": "3.8.5"
  }
 },
 "nbformat": 4,
 "nbformat_minor": 4
}
