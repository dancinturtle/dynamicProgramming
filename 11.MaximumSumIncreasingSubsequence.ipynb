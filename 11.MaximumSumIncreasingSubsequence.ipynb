{
 "cells": [
  {
   "cell_type": "markdown",
   "metadata": {},
   "source": [
    "### Maximum Sum Increasing Subsequence\n",
    "\n",
    "Find a subsequence of a given sequence such that the subsequence sum is as high as possible and the subsequence's elements are in sorted order from lowest to highest. This subsequence is not necessarily contiguous or unique.\n",
    "\n",
    "Example:\n",
    "\n",
    "```\n",
    "Given sequence x = [0, 8, 4, 12, 2, 10, 6, 14, 1, 9, 5, 13, 3, 11]\n",
    "The maximum increasing subsequence is [8, 12, 14] with sum of 34\n",
    "```\n",
    "\n",
    "This is a standard variation of the longest increasing subsequence problem.\n",
    "\n",
    "For each item in the subsequence, there are two possibilities:\n",
    "1. Include the current item if it is greater than the previous element\n",
    "2. Exclude the current item"
   ]
  },
  {
   "cell_type": "code",
   "execution_count": 4,
   "metadata": {},
   "outputs": [],
   "source": [
    "def maximumIncreasingSum(arr):\n",
    "    output = [arr[0]]\n",
    "    for i in range(1, len(arr)):\n",
    "        maxSum = 0\n",
    "        for j in range(0, i):\n",
    "            if arr[j] < arr[i] and output[j] > maxSum:\n",
    "                maxSum = output[j]\n",
    "        output.append(maxSum + arr[i])\n",
    "    return max(output)"
   ]
  },
  {
   "cell_type": "code",
   "execution_count": 2,
   "metadata": {},
   "outputs": [],
   "source": [
    "nums = [0, 8, 4, 12, 2, 10, 6, 14, 1, 9, 5, 13, 3, 11]"
   ]
  },
  {
   "cell_type": "code",
   "execution_count": 11,
   "metadata": {},
   "outputs": [
    {
     "name": "stdout",
     "output_type": "stream",
     "text": [
      "CPU times: user 37 µs, sys: 1 µs, total: 38 µs\n",
      "Wall time: 42 µs\n"
     ]
    },
    {
     "data": {
      "text/plain": [
       "34"
      ]
     },
     "execution_count": 11,
     "metadata": {},
     "output_type": "execute_result"
    }
   ],
   "source": [
    "%%time\n",
    "maximumIncreasingSum(nums)"
   ]
  },
  {
   "cell_type": "markdown",
   "metadata": {},
   "source": [
    "To get the subsequence that produces the maximum sum, store the subsequences in the output array."
   ]
  },
  {
   "cell_type": "code",
   "execution_count": 8,
   "metadata": {},
   "outputs": [],
   "source": [
    "def maximumIncreasingSumSubsequence(arr):\n",
    "    output = [[arr[0]]]\n",
    "    for i in range(1, len(arr)):\n",
    "        maxSumPos = -1\n",
    "        maxSum = 0\n",
    "        for j in range(0, i):\n",
    "            if arr[j] < arr[i] and sum(output[j]) > maxSum:\n",
    "                maxSum = sum(output[j])\n",
    "                maxSumPos = j\n",
    "        if maxSumPos == -1:\n",
    "            output.append([arr[i]])\n",
    "        else:\n",
    "            copy_max = output[maxSumPos][:]\n",
    "            copy_max.append(arr[i])\n",
    "            output.append(copy_max)\n",
    "    return max(output, key=sum)"
   ]
  },
  {
   "cell_type": "code",
   "execution_count": 10,
   "metadata": {},
   "outputs": [
    {
     "name": "stdout",
     "output_type": "stream",
     "text": [
      "CPU times: user 72 µs, sys: 1 µs, total: 73 µs\n",
      "Wall time: 76.8 µs\n"
     ]
    },
    {
     "data": {
      "text/plain": [
       "[8, 12, 14]"
      ]
     },
     "execution_count": 10,
     "metadata": {},
     "output_type": "execute_result"
    }
   ],
   "source": [
    "%%time\n",
    "maximumIncreasingSumSubsequence(nums)"
   ]
  }
 ],
 "metadata": {
  "kernelspec": {
   "display_name": "Python 3",
   "language": "python",
   "name": "python3"
  },
  "language_info": {
   "codemirror_mode": {
    "name": "ipython",
    "version": 3
   },
   "file_extension": ".py",
   "mimetype": "text/x-python",
   "name": "python",
   "nbconvert_exporter": "python",
   "pygments_lexer": "ipython3",
   "version": "3.8.5"
  }
 },
 "nbformat": 4,
 "nbformat_minor": 4
}
